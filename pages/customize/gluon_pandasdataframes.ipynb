{
 "cells": [
  {
   "cell_type": "markdown",
   "id": "a52ff51f",
   "metadata": {},
   "source": [
    "# `pandas.DataFrame` based dataset\n",
    "\n",
    "\n",
    "This tutorial covers how to use GluonTS's pandas DataFrame based dataset\n",
    "`PandasDataset`. After going through a few common use cases we explain in\n",
    "detail what data formats `PandasDataset` can work with, how to include\n",
    "static and dynamic features and how to do train/test splits.\n",
    "\n",
    "\n",
    "## Introduction\n",
    "\n",
    "`PandasDataset` is meant to work on `pandas.DataFrame`, `pandas.Series` and\n",
    "any collection of both.\n",
    "The minimal requirement to start modelling using GluonTS's dataframe dataset\n",
    "is a list of monotonically increasing timestamps with a fixed frequency\n",
    "and a list of corresponding target values in `pandas.DataFrame`:\n",
    "\n",
    "|timestamp|target|\n",
    "|----|----|\n",
    "|2021-01-01 00:00:00|-0.21|\n",
    "|2021-01-01 01:00:00|-0.33|\n",
    "|2021-01-01 02:00:00|-0.33|\n",
    "|...|...|\n",
    "\n",
    "If you have additional dynamic or static features, you can include those\n",
    "in separate columns as following:\n",
    "\n",
    "|timestamp|target|stat_cat_1|dyn_real_1|\n",
    "|----|----|----|----|\n",
    "|2021-01-01 00:00:00|-0.21|0|0.79|\n",
    "|2021-01-01 01:00:00|-0.33|0|0.59|\n",
    "|2021-01-01 02:00:00|-0.33|0|0.39|\n",
    "|...|...|...|...|\n",
    "\n",
    "GluonTS also supports multiple time series.\n",
    "Those can either be a list of the DataFrames with the format above\n",
    "(having at least a `timestamp` index or column and `target` column),\n",
    "a dict of DataFrames or a Long-DataFrame that has an additional\n",
    "`item_id` column that groups the different time series.\n",
    "When using a dict, the keys are used as `item_id`s. An example with\n",
    "two time series including static and dynamic feature is the following:\n",
    "\n",
    "|timestamp|target|item_id|stat_cat_1|dyn_real_1|\n",
    "|----|----|----|----|----|\n",
    "|2021-01-01 00:00:00|-0.21|A|0|0.79|\n",
    "|2021-01-01 01:00:00|-0.33|A|0|0.59|\n",
    "|2021-01-01 02:00:00|-0.33|A|0|0.39|\n",
    "|2021-01-01 01:00:00|-1.24|B|1|-0.60|\n",
    "|2021-01-01 02:00:00|-1.37|B|1|-0.91|\n",
    "\n",
    "Here, the time series values are represented by the `target` column with\n",
    "corresponding timestamp values in the `timestamp` column. Another necessary column\n",
    "is the `item_id` column that indicates which time series a specific row belongs to.\n",
    "In this example, we have two time series, one indicated by item `A` and the other\n",
    "by `B`. In addition, if we have other features we can include those too\n",
    "(`stat_cat_1` and `dyn_real_1` in the example above).\n",
    "\n",
    "\n",
    "## Use case 1 - Loading data from a `long` dataframe\n",
    "\n",
    "In the first use case we are given multiple time series stacked on top\n",
    "of each other in a dataframe with an `item_id` column that distinguishes\n",
    "different series."
   ]
  },
  {
   "cell_type": "code",
   "execution_count": 1,
   "id": "2a19a284",
   "metadata": {
    "execution": {
     "iopub.execute_input": "2024-05-31T18:27:53.706311Z",
     "iopub.status.busy": "2024-05-31T18:27:53.705661Z",
     "iopub.status.idle": "2024-05-31T18:27:54.091503Z",
     "shell.execute_reply": "2024-05-31T18:27:54.090670Z"
    }
   },
   "outputs": [
    {
     "data": {
      "text/html": [
       "<div>\n",
       "<style scoped>\n",
       "    .dataframe tbody tr th:only-of-type {\n",
       "        vertical-align: middle;\n",
       "    }\n",
       "\n",
       "    .dataframe tbody tr th {\n",
       "        vertical-align: top;\n",
       "    }\n",
       "\n",
       "    .dataframe thead th {\n",
       "        text-align: right;\n",
       "    }\n",
       "</style>\n",
       "<table border=\"1\" class=\"dataframe\">\n",
       "  <thead>\n",
       "    <tr style=\"text-align: right;\">\n",
       "      <th></th>\n",
       "      <th>target</th>\n",
       "      <th>item_id</th>\n",
       "    </tr>\n",
       "  </thead>\n",
       "  <tbody>\n",
       "    <tr>\n",
       "      <th>2021-01-01 00:00:00</th>\n",
       "      <td>-1.3378</td>\n",
       "      <td>A</td>\n",
       "    </tr>\n",
       "    <tr>\n",
       "      <th>2021-01-01 01:00:00</th>\n",
       "      <td>-1.6111</td>\n",
       "      <td>A</td>\n",
       "    </tr>\n",
       "    <tr>\n",
       "      <th>2021-01-01 02:00:00</th>\n",
       "      <td>-1.9259</td>\n",
       "      <td>A</td>\n",
       "    </tr>\n",
       "    <tr>\n",
       "      <th>2021-01-01 03:00:00</th>\n",
       "      <td>-1.9184</td>\n",
       "      <td>A</td>\n",
       "    </tr>\n",
       "    <tr>\n",
       "      <th>2021-01-01 04:00:00</th>\n",
       "      <td>-1.9168</td>\n",
       "      <td>A</td>\n",
       "    </tr>\n",
       "  </tbody>\n",
       "</table>\n",
       "</div>"
      ],
      "text/plain": [
       "                     target item_id\n",
       "2021-01-01 00:00:00 -1.3378       A\n",
       "2021-01-01 01:00:00 -1.6111       A\n",
       "2021-01-01 02:00:00 -1.9259       A\n",
       "2021-01-01 03:00:00 -1.9184       A\n",
       "2021-01-01 04:00:00 -1.9168       A"
      ]
     },
     "execution_count": 1,
     "metadata": {},
     "output_type": "execute_result"
    }
   ],
   "source": [
    "import pandas as pd\n",
    "\n",
    "url = (\n",
    "    \"https://gist.githubusercontent.com/rsnirwan/a8b424085c9f44ef2598da74ce43e7a3\"\n",
    "    \"/raw/b6fdef21fe1f654787fa0493846c546b7f9c4df2/ts_long.csv\"\n",
    ")\n",
    "df = pd.read_csv(url, index_col=0, parse_dates=True)\n",
    "df.head()"
   ]
  },
  {
   "cell_type": "markdown",
   "id": "7e799095",
   "metadata": {},
   "source": [
    "After reading the data into a `pandas.DataFrame` we can easily convert\n",
    "it to `gluonts.dataset.pandas.PandasDataset` and train an estimator an get forecasts."
   ]
  },
  {
   "cell_type": "code",
   "execution_count": 2,
   "id": "f0594ce2",
   "metadata": {
    "execution": {
     "iopub.execute_input": "2024-05-31T18:27:54.094028Z",
     "iopub.status.busy": "2024-05-31T18:27:54.093625Z",
     "iopub.status.idle": "2024-05-31T18:27:54.149683Z",
     "shell.execute_reply": "2024-05-31T18:27:54.149141Z"
    }
   },
   "outputs": [],
   "source": [
    "from gluonts.dataset.pandas import PandasDataset\n",
    "\n",
    "ds = PandasDataset.from_long_dataframe(df, target=\"target\", item_id=\"item_id\")"
   ]
  },
  {
   "cell_type": "code",
   "execution_count": 3,
   "id": "bf498efa",
   "metadata": {
    "execution": {
     "iopub.execute_input": "2024-05-31T18:27:54.152253Z",
     "iopub.status.busy": "2024-05-31T18:27:54.151858Z",
     "iopub.status.idle": "2024-05-31T18:27:58.945450Z",
     "shell.execute_reply": "2024-05-31T18:27:58.944614Z"
    }
   },
   "outputs": [
    {
     "name": "stderr",
     "output_type": "stream",
     "text": [
      "\r",
      "  0%|          | 0/50 [00:00<?, ?it/s]"
     ]
    },
    {
     "name": "stderr",
     "output_type": "stream",
     "text": [
      "\r",
      "100%|██████████| 50/50 [00:03<00:00, 14.52it/s, epoch=1/1, avg_epoch_loss=0.656]"
     ]
    },
    {
     "name": "stderr",
     "output_type": "stream",
     "text": [
      "\n"
     ]
    }
   ],
   "source": [
    "from gluonts.mx import DeepAREstimator, Trainer\n",
    "\n",
    "estimator = DeepAREstimator(\n",
    "    freq=ds.freq, prediction_length=24, trainer=Trainer(epochs=1)\n",
    ")\n",
    "predictor = estimator.train(ds)\n",
    "predictions = predictor.predict(ds)"
   ]
  },
  {
   "cell_type": "markdown",
   "id": "be977ffd",
   "metadata": {},
   "source": [
    "## Use case 2 - Loading data with missing values\n",
    "\n",
    "In case the `timestamp` column is not evenly spaced and monotonically increasing\n",
    "we get an error when using `PandasDataset`. Here we show how to fill in the gaps\n",
    "that are missing.\n",
    "\n",
    "Let's first remove some random rows from the `long` dataset."
   ]
  },
  {
   "cell_type": "code",
   "execution_count": 4,
   "id": "00ca9f87",
   "metadata": {
    "execution": {
     "iopub.execute_input": "2024-05-31T18:27:58.948091Z",
     "iopub.status.busy": "2024-05-31T18:27:58.947601Z",
     "iopub.status.idle": "2024-05-31T18:27:58.995110Z",
     "shell.execute_reply": "2024-05-31T18:27:58.994401Z"
    }
   },
   "outputs": [],
   "source": [
    "import pandas as pd\n",
    "import numpy as np\n",
    "\n",
    "url = (\n",
    "    \"https://gist.githubusercontent.com/rsnirwan/a8b424085c9f44ef2598da74ce43e7a3\"\n",
    "    \"/raw/b6fdef21fe1f654787fa0493846c546b7f9c4df2/ts_long.csv\"\n",
    ")\n",
    "df = pd.read_csv(url, index_col=0, parse_dates=True)\n",
    "remove_ind = np.random.choice(np.arange(df.shape[0]), size=100, replace=False)\n",
    "mask = [False if i in remove_ind else True for i in range(df.shape[0])]\n",
    "df_missing_val = df.loc[mask, :]  # dataframe with 100 rows removed from df"
   ]
  },
  {
   "cell_type": "markdown",
   "id": "73d75e64",
   "metadata": {},
   "source": [
    "Now, we group by the `item_id` and reindex each of the grouped dataframes.\n",
    "Reindexing, as it is done below, will add new rows with `NaN` values where\n",
    "the data is missing. The user can then use the `fillna()` method on each\n",
    "dataframe to fill in desired value."
   ]
  },
  {
   "cell_type": "code",
   "execution_count": 5,
   "id": "e514a229",
   "metadata": {
    "execution": {
     "iopub.execute_input": "2024-05-31T18:27:58.998058Z",
     "iopub.status.busy": "2024-05-31T18:27:58.997546Z",
     "iopub.status.idle": "2024-05-31T18:27:59.012404Z",
     "shell.execute_reply": "2024-05-31T18:27:59.011866Z"
    }
   },
   "outputs": [],
   "source": [
    "from gluonts.dataset.pandas import PandasDataset\n",
    "\n",
    "max_end = max(df.groupby(\"item_id\").apply(lambda _df: _df.index[-1]))\n",
    "dfs_dict = {}\n",
    "for item_id, gdf in df_missing_val.groupby(\"item_id\"):\n",
    "    new_index = pd.date_range(gdf.index[0], end=max_end, freq=\"1H\")\n",
    "    dfs_dict[item_id] = gdf.reindex(new_index).drop(\"item_id\", axis=1)\n",
    "\n",
    "ds = PandasDataset(dfs_dict, target=\"target\")"
   ]
  },
  {
   "cell_type": "markdown",
   "id": "4eb4d79d",
   "metadata": {},
   "source": [
    "## Use case 3 - Loading data from a `wide` dataframe\n",
    "\n",
    "Here, we are given data in the `wide` format, where time series are stacked side-by-side in a `DataFrame`.\n",
    "We can simply turn this into a dictionary of `Series` objects with `dict`, and construct a `PandasDataset` with it:"
   ]
  },
  {
   "cell_type": "code",
   "execution_count": 6,
   "id": "cc49cb93",
   "metadata": {
    "execution": {
     "iopub.execute_input": "2024-05-31T18:27:59.014764Z",
     "iopub.status.busy": "2024-05-31T18:27:59.014316Z",
     "iopub.status.idle": "2024-05-31T18:27:59.108725Z",
     "shell.execute_reply": "2024-05-31T18:27:59.108164Z"
    }
   },
   "outputs": [
    {
     "name": "stdout",
     "output_type": "stream",
     "text": [
      "                          A       B       C       D       E       F       G  \\\n",
      "2021-01-01 00:00:00 -1.3378  0.1268 -0.3645 -1.0864 -2.3803 -0.2447  2.2647   \n",
      "2021-01-01 01:00:00 -1.6111  0.0926 -0.1364 -1.1613 -2.1421 -0.3477  2.4262   \n",
      "2021-01-01 02:00:00 -1.9259 -0.1420  0.1063 -1.0405 -2.1426 -0.3271  2.4434   \n",
      "2021-01-01 03:00:00 -1.9184 -0.4930  0.6269 -0.8531 -1.7060 -0.3088  2.4307   \n",
      "2021-01-01 04:00:00 -1.9168 -0.5057  0.9419 -0.7666 -1.4287 -0.4284  2.3258   \n",
      "\n",
      "                          H       I       J  \n",
      "2021-01-01 00:00:00 -0.7917  0.7071  1.3763  \n",
      "2021-01-01 01:00:00 -0.9609  0.6413  1.2750  \n",
      "2021-01-01 02:00:00 -0.9034  0.4323  0.6767  \n",
      "2021-01-01 03:00:00 -0.9602  0.3193  0.5150  \n",
      "2021-01-01 04:00:00 -1.2504  0.3660  0.1708  \n"
     ]
    }
   ],
   "source": [
    "import pandas as pd\n",
    "\n",
    "url_wide = (\n",
    "    \"https://gist.githubusercontent.com/rsnirwan/c8c8654a98350fadd229b00167174ec4\"\n",
    "    \"/raw/a42101c7786d4bc7695228a0f2c8cea41340e18f/ts_wide.csv\"\n",
    ")\n",
    "df_wide = pd.read_csv(url_wide, index_col=0, parse_dates=True)\n",
    "print(df_wide.head())"
   ]
  },
  {
   "cell_type": "code",
   "execution_count": 7,
   "id": "6135cc5f",
   "metadata": {
    "execution": {
     "iopub.execute_input": "2024-05-31T18:27:59.111037Z",
     "iopub.status.busy": "2024-05-31T18:27:59.110716Z",
     "iopub.status.idle": "2024-05-31T18:27:59.115777Z",
     "shell.execute_reply": "2024-05-31T18:27:59.115017Z"
    }
   },
   "outputs": [],
   "source": [
    "from gluonts.dataset.pandas import PandasDataset\n",
    "\n",
    "ds = PandasDataset(dict(df_wide))"
   ]
  },
  {
   "cell_type": "markdown",
   "id": "0c0f5429",
   "metadata": {},
   "source": [
    "As shown in `Use case 1` we can now use `ds` to train an estimator.\n",
    "\n",
    "\n",
    "## General use cases\n",
    "\n",
    "Here, we explain in detail what data formats `PandasDataset` can work with,\n",
    "how to include static and dynamic features and how to do train/test splits.\n",
    "\n",
    "### Dummy data generation\n",
    "\n",
    "Let's create a function that generates dummy time series conforming above\n",
    "stated requirements (`timestamp` index and `target` column).\n",
    "The function randomly samples sin/cos curves and outputs their sum. You don't need\n",
    "to understand how this really works. We will just call `generate_single_ts`\n",
    "with datetime values which rise monotonically with fixed frequency and get\n",
    "a `pandas.DataFrame` with `timestamp` and `target` values."
   ]
  },
  {
   "cell_type": "code",
   "execution_count": 8,
   "id": "5f0dad2d",
   "metadata": {
    "execution": {
     "iopub.execute_input": "2024-05-31T18:27:59.118204Z",
     "iopub.status.busy": "2024-05-31T18:27:59.117824Z",
     "iopub.status.idle": "2024-05-31T18:27:59.454978Z",
     "shell.execute_reply": "2024-05-31T18:27:59.454327Z"
    }
   },
   "outputs": [],
   "source": [
    "import numpy as np\n",
    "import pandas as pd\n",
    "import matplotlib.pyplot as plt\n",
    "\n",
    "\n",
    "def generate_single_ts(date_range, item_id=None) -> pd.DataFrame:\n",
    "    \"\"\"create sum of `n_f` sin/cos curves with random scale and phase.\"\"\"\n",
    "    n_f = 2\n",
    "    period = np.array([24 / (i + 1) for i in range(n_f)]).reshape(1, n_f)\n",
    "    scale = np.random.normal(1, 0.3, size=(1, n_f))\n",
    "    phase = 2 * np.pi * np.random.uniform(size=(1, n_f))\n",
    "    periodic_f = lambda x: scale * np.sin(np.pi * x / period + phase)\n",
    "\n",
    "    t = np.arange(0, len(date_range)).reshape(-1, 1)\n",
    "    target = periodic_f(t).sum(axis=1) + np.random.normal(0, 0.1, size=len(t))\n",
    "    ts = pd.DataFrame({\"target\": target}, index=date_range)\n",
    "    if item_id is not None:\n",
    "        ts[\"item_id\"] = item_id\n",
    "    return ts"
   ]
  },
  {
   "cell_type": "code",
   "execution_count": 9,
   "id": "1378d716",
   "metadata": {
    "execution": {
     "iopub.execute_input": "2024-05-31T18:27:59.457843Z",
     "iopub.status.busy": "2024-05-31T18:27:59.457353Z",
     "iopub.status.idle": "2024-05-31T18:27:59.652305Z",
     "shell.execute_reply": "2024-05-31T18:27:59.651585Z"
    }
   },
   "outputs": [
    {
     "name": "stdout",
     "output_type": "stream",
     "text": [
      "ts.shape: (240, 1)\n",
      "                       target\n",
      "2021-01-01 00:00:00 -1.175310\n",
      "2021-01-01 01:00:00 -1.152185\n",
      "2021-01-01 02:00:00 -1.216568\n",
      "2021-01-01 03:00:00 -1.150387\n",
      "2021-01-01 04:00:00 -1.247621\n"
     ]
    },
    {
     "data": {
      "text/plain": [
       "<Axes: >"
      ]
     },
     "execution_count": 9,
     "metadata": {},
     "output_type": "execute_result"
    },
    {
     "data": {
      "image/png": "[encoded data removed]",
      "text/plain": [
       "<Figure size 1000x500 with 1 Axes>"
      ]
     },
     "metadata": {},
     "output_type": "display_data"
    }
   ],
   "source": [
    "prediction_length, freq = 24, \"1H\"\n",
    "T = 10 * prediction_length\n",
    "date_range = pd.date_range(\"2021-01-01\", periods=T, freq=freq)\n",
    "ts = generate_single_ts(date_range)\n",
    "\n",
    "print(\"ts.shape:\", ts.shape)\n",
    "print(ts.head())\n",
    "ts.loc[:, \"target\"].plot(figsize=(10, 5))"
   ]
  },
  {
   "cell_type": "markdown",
   "id": "237a9d11",
   "metadata": {},
   "source": [
    "### Use single time series for training\n",
    "\n",
    "Now, we create a GluonTS dataset using the time series we generated and train\n",
    "a model. Because we will use the train/evaluation loop multiple times, let's\n",
    "create a function for it. The input to the function will be the time series\n",
    "in multiple formats and an estimator.\n",
    "The output is the `MSE` (mean squared error). In this\n",
    "function we train an estimator to get the predictor, use the predictor\n",
    "to create forecasts and return a metric. We also create an DeepAREstimator.\n",
    "Note we run the training for just 1 epoch. Usually you need more epochs\n",
    "to fully train the model."
   ]
  },
  {
   "cell_type": "code",
   "execution_count": 10,
   "id": "96ce9439",
   "metadata": {
    "execution": {
     "iopub.execute_input": "2024-05-31T18:27:59.654911Z",
     "iopub.status.busy": "2024-05-31T18:27:59.654497Z",
     "iopub.status.idle": "2024-05-31T18:27:59.662690Z",
     "shell.execute_reply": "2024-05-31T18:27:59.662153Z"
    }
   },
   "outputs": [],
   "source": [
    "from gluonts.mx import DeepAREstimator, Trainer\n",
    "from gluonts.evaluation import make_evaluation_predictions, Evaluator\n",
    "\n",
    "\n",
    "def train_and_predict(dataset, estimator):\n",
    "    predictor = estimator.train(dataset)\n",
    "    forecast_it, ts_it = make_evaluation_predictions(\n",
    "        dataset=dataset, predictor=predictor\n",
    "    )\n",
    "    evaluator = Evaluator(quantiles=(np.arange(20) / 20.0)[1:])\n",
    "    agg_metrics, item_metrics = evaluator(ts_it, forecast_it, num_series=len(dataset))\n",
    "    return agg_metrics[\"MSE\"]\n",
    "\n",
    "\n",
    "estimator = DeepAREstimator(\n",
    "    freq=freq, prediction_length=prediction_length, trainer=Trainer(epochs=1)\n",
    ")"
   ]
  },
  {
   "cell_type": "markdown",
   "id": "70e2930b",
   "metadata": {},
   "source": [
    "We are ready to convert the `ts` dataframe into GluonTS dataset and train\n",
    "a model. For that, we import the `PandasDataset` and create an instance\n",
    "using our time series `ts`. If the `target`-column is called \"target\"\n",
    "we don't really need to provide it to the constructor. Also `freq` is\n",
    "inferred from the data if the timestamp is a time- or period range.\n",
    "However, in this tutorial we will be specific on \n",
    "how to use those in general."
   ]
  },
  {
   "cell_type": "code",
   "execution_count": 11,
   "id": "7df8aca0",
   "metadata": {
    "execution": {
     "iopub.execute_input": "2024-05-31T18:27:59.665139Z",
     "iopub.status.busy": "2024-05-31T18:27:59.664766Z",
     "iopub.status.idle": "2024-05-31T18:28:03.284938Z",
     "shell.execute_reply": "2024-05-31T18:28:03.284179Z"
    }
   },
   "outputs": [
    {
     "name": "stderr",
     "output_type": "stream",
     "text": [
      "\r",
      "  0%|          | 0/50 [00:00<?, ?it/s]"
     ]
    },
    {
     "name": "stderr",
     "output_type": "stream",
     "text": [
      "\r",
      "100%|██████████| 50/50 [00:03<00:00, 15.02it/s, epoch=1/1, avg_epoch_loss=0.539]"
     ]
    },
    {
     "name": "stderr",
     "output_type": "stream",
     "text": [
      "\n"
     ]
    },
    {
     "name": "stderr",
     "output_type": "stream",
     "text": [
      "\r",
      "Running evaluation:   0%|          | 0/1 [00:00<?, ?it/s]"
     ]
    },
    {
     "name": "stderr",
     "output_type": "stream",
     "text": [
      "\r",
      "Running evaluation: 100%|██████████| 1/1 [00:00<00:00,  5.04it/s]"
     ]
    },
    {
     "name": "stderr",
     "output_type": "stream",
     "text": [
      "\n"
     ]
    },
    {
     "data": {
      "text/plain": [
       "0.023472231979132386"
      ]
     },
     "execution_count": 11,
     "metadata": {},
     "output_type": "execute_result"
    }
   ],
   "source": [
    "from gluonts.dataset.pandas import PandasDataset\n",
    "\n",
    "ds = PandasDataset(ts, target=\"target\", freq=freq)\n",
    "train_and_predict(ds, estimator)"
   ]
  },
  {
   "cell_type": "markdown",
   "id": "adc1eff1",
   "metadata": {},
   "source": [
    "### Use multiple time series for training\n",
    "\n",
    "As described above, we can also use a list of single time series\n",
    "dataframes. Even dict of dataframes or a single long-formatted-dataframe\n",
    "with multiple time series can be used and is described below.\n",
    "So, let's create multiple time series and train the model\n",
    "using those."
   ]
  },
  {
   "cell_type": "code",
   "execution_count": 12,
   "id": "4d388d6e",
   "metadata": {
    "execution": {
     "iopub.execute_input": "2024-05-31T18:28:03.287593Z",
     "iopub.status.busy": "2024-05-31T18:28:03.287138Z",
     "iopub.status.idle": "2024-05-31T18:28:07.016184Z",
     "shell.execute_reply": "2024-05-31T18:28:07.015192Z"
    }
   },
   "outputs": [
    {
     "name": "stderr",
     "output_type": "stream",
     "text": [
      "\r",
      "  0%|          | 0/50 [00:00<?, ?it/s]"
     ]
    },
    {
     "name": "stderr",
     "output_type": "stream",
     "text": [
      "\r",
      "100%|██████████| 50/50 [00:03<00:00, 15.26it/s, epoch=1/1, avg_epoch_loss=0.91]"
     ]
    },
    {
     "name": "stderr",
     "output_type": "stream",
     "text": [
      "\n"
     ]
    },
    {
     "name": "stderr",
     "output_type": "stream",
     "text": [
      "\r",
      "Running evaluation:   0%|          | 0/10 [00:00<?, ?it/s]"
     ]
    },
    {
     "name": "stderr",
     "output_type": "stream",
     "text": [
      "\r",
      "Running evaluation: 100%|██████████| 10/10 [00:00<00:00, 36.63it/s]"
     ]
    },
    {
     "name": "stderr",
     "output_type": "stream",
     "text": [
      "\n"
     ]
    },
    {
     "data": {
      "text/plain": [
       "0.046774466353901624"
      ]
     },
     "execution_count": 12,
     "metadata": {},
     "output_type": "execute_result"
    }
   ],
   "source": [
    "N = 10\n",
    "multiple_ts = [generate_single_ts(date_range) for i in range(N)]\n",
    "\n",
    "ds = PandasDataset(multiple_ts, target=\"target\", freq=freq)\n",
    "train_and_predict(ds, estimator)"
   ]
  },
  {
   "cell_type": "markdown",
   "id": "5752ce34",
   "metadata": {},
   "source": [
    "If the dataset is given as a long-dataframe, we can also use an\n",
    "alternative constructor `from_long_dataframe`. Note in this case\n",
    "we have to provide the `item_id` as well."
   ]
  },
  {
   "cell_type": "code",
   "execution_count": 13,
   "id": "044a3ccb",
   "metadata": {
    "execution": {
     "iopub.execute_input": "2024-05-31T18:28:07.018911Z",
     "iopub.status.busy": "2024-05-31T18:28:07.018474Z",
     "iopub.status.idle": "2024-05-31T18:28:10.844711Z",
     "shell.execute_reply": "2024-05-31T18:28:10.843883Z"
    }
   },
   "outputs": [
    {
     "name": "stderr",
     "output_type": "stream",
     "text": [
      "\r",
      "  0%|          | 0/50 [00:00<?, ?it/s]"
     ]
    },
    {
     "name": "stderr",
     "output_type": "stream",
     "text": [
      "\r",
      "100%|██████████| 50/50 [00:03<00:00, 14.88it/s, epoch=1/1, avg_epoch_loss=0.742]"
     ]
    },
    {
     "name": "stderr",
     "output_type": "stream",
     "text": [
      "\n"
     ]
    },
    {
     "name": "stderr",
     "output_type": "stream",
     "text": [
      "\r",
      "Running evaluation:   0%|          | 0/10 [00:00<?, ?it/s]"
     ]
    },
    {
     "name": "stderr",
     "output_type": "stream",
     "text": [
      "\r",
      "Running evaluation: 100%|██████████| 10/10 [00:00<00:00, 36.01it/s]"
     ]
    },
    {
     "name": "stderr",
     "output_type": "stream",
     "text": [
      "\n"
     ]
    },
    {
     "data": {
      "text/plain": [
       "0.09143225550221631"
      ]
     },
     "execution_count": 13,
     "metadata": {},
     "output_type": "execute_result"
    }
   ],
   "source": [
    "ts_in_long_format = pd.concat(\n",
    "    [generate_single_ts(date_range, item_id=i) for i in range(N)]\n",
    ")\n",
    "\n",
    "# Note we need an item_id column now and provide its name to the constructor.\n",
    "# Otherwise, there is no way to distinguish different time series.\n",
    "ds = PandasDataset.from_long_dataframe(\n",
    "    ts_in_long_format, item_id=\"item_id\", target=\"target\", freq=freq\n",
    ")\n",
    "train_and_predict(ds, estimator)"
   ]
  },
  {
   "cell_type": "markdown",
   "id": "092299c8",
   "metadata": {},
   "source": [
    "### Include static and dynamic features\n",
    "\n",
    "The PandasDataset also allows us to include features of our time series.\n",
    "The list of all available features is given in the documentation.\n",
    "Here, we use dynamic real and static categorical features.\n",
    "To mimic those features we will just wrap our fancy data generator\n",
    "`generate_single_ts` and add a static cat and two dynamic real features."
   ]
  },
  {
   "cell_type": "code",
   "execution_count": 14,
   "id": "f39bca80",
   "metadata": {
    "execution": {
     "iopub.execute_input": "2024-05-31T18:28:10.847696Z",
     "iopub.status.busy": "2024-05-31T18:28:10.847209Z",
     "iopub.status.idle": "2024-05-31T18:28:10.857956Z",
     "shell.execute_reply": "2024-05-31T18:28:10.857390Z"
    }
   },
   "outputs": [
    {
     "data": {
      "text/html": [
       "<div>\n",
       "<style scoped>\n",
       "    .dataframe tbody tr th:only-of-type {\n",
       "        vertical-align: middle;\n",
       "    }\n",
       "\n",
       "    .dataframe tbody tr th {\n",
       "        vertical-align: top;\n",
       "    }\n",
       "\n",
       "    .dataframe thead th {\n",
       "        text-align: right;\n",
       "    }\n",
       "</style>\n",
       "<table border=\"1\" class=\"dataframe\">\n",
       "  <thead>\n",
       "    <tr style=\"text-align: right;\">\n",
       "      <th></th>\n",
       "      <th>target</th>\n",
       "      <th>item_id</th>\n",
       "      <th>dynamic_real_1</th>\n",
       "      <th>dynamic_real_2</th>\n",
       "    </tr>\n",
       "  </thead>\n",
       "  <tbody>\n",
       "    <tr>\n",
       "      <th>2021-01-01 00:00:00</th>\n",
       "      <td>-0.822858</td>\n",
       "      <td>0</td>\n",
       "      <td>0.212849</td>\n",
       "      <td>-0.313528</td>\n",
       "    </tr>\n",
       "    <tr>\n",
       "      <th>2021-01-01 01:00:00</th>\n",
       "      <td>-0.932843</td>\n",
       "      <td>0</td>\n",
       "      <td>-0.347438</td>\n",
       "      <td>0.690760</td>\n",
       "    </tr>\n",
       "    <tr>\n",
       "      <th>2021-01-01 02:00:00</th>\n",
       "      <td>-1.415959</td>\n",
       "      <td>0</td>\n",
       "      <td>-0.498104</td>\n",
       "      <td>-1.432175</td>\n",
       "    </tr>\n",
       "    <tr>\n",
       "      <th>2021-01-01 03:00:00</th>\n",
       "      <td>-1.471930</td>\n",
       "      <td>0</td>\n",
       "      <td>0.499352</td>\n",
       "      <td>0.426574</td>\n",
       "    </tr>\n",
       "    <tr>\n",
       "      <th>2021-01-01 04:00:00</th>\n",
       "      <td>-1.196347</td>\n",
       "      <td>0</td>\n",
       "      <td>0.242846</td>\n",
       "      <td>0.378769</td>\n",
       "    </tr>\n",
       "  </tbody>\n",
       "</table>\n",
       "</div>"
      ],
      "text/plain": [
       "                       target  item_id  dynamic_real_1  dynamic_real_2\n",
       "2021-01-01 00:00:00 -0.822858        0        0.212849       -0.313528\n",
       "2021-01-01 01:00:00 -0.932843        0       -0.347438        0.690760\n",
       "2021-01-01 02:00:00 -1.415959        0       -0.498104       -1.432175\n",
       "2021-01-01 03:00:00 -1.471930        0        0.499352        0.426574\n",
       "2021-01-01 04:00:00 -1.196347        0        0.242846        0.378769"
      ]
     },
     "execution_count": 14,
     "metadata": {},
     "output_type": "execute_result"
    }
   ],
   "source": [
    "def generate_single_ts_with_features(date_range, item_id) -> pd.DataFrame:\n",
    "    ts = generate_single_ts(date_range, item_id)\n",
    "    T = ts.shape[0]\n",
    "    # static features are constant for each series\n",
    "    ts[\"dynamic_real_1\"] = np.random.normal(size=T)\n",
    "    ts[\"dynamic_real_2\"] = np.random.normal(size=T)\n",
    "    # ... we can have as many static or dynamic features as we like\n",
    "    return ts\n",
    "\n",
    "\n",
    "ts = generate_single_ts_with_features(date_range, item_id=0)\n",
    "ts.head()"
   ]
  },
  {
   "cell_type": "markdown",
   "id": "99398e77",
   "metadata": {},
   "source": [
    "Now, when we create the GluonTS dataset, we need to let the constructor\n",
    "know which columns are the categorical and real features. Also, we need a\n",
    "minor modification to the `estimator`. We need to\n",
    "let the `estimator` know as well that more features are coming in. Note, if\n",
    "categorical features are provided, `DeepAR` also needs the cardinality as input.\n",
    "We have one static categorical feature that can take on two\n",
    "values (0 or 1). The cardinality in this case is a list of one element `[2,]`."
   ]
  },
  {
   "cell_type": "code",
   "execution_count": 15,
   "id": "85586e64",
   "metadata": {
    "execution": {
     "iopub.execute_input": "2024-05-31T18:28:10.860303Z",
     "iopub.status.busy": "2024-05-31T18:28:10.859913Z",
     "iopub.status.idle": "2024-05-31T18:28:10.866776Z",
     "shell.execute_reply": "2024-05-31T18:28:10.866082Z"
    }
   },
   "outputs": [],
   "source": [
    "estimator_with_features = DeepAREstimator(\n",
    "    freq=ds.freq,\n",
    "    prediction_length=prediction_length,\n",
    "    use_feat_dynamic_real=True,\n",
    "    use_feat_static_real=True,\n",
    "    use_feat_static_cat=True,\n",
    "    cardinality=[\n",
    "        3,\n",
    "    ],\n",
    "    trainer=Trainer(epochs=1),\n",
    ")"
   ]
  },
  {
   "cell_type": "markdown",
   "id": "58de58d4",
   "metadata": {},
   "source": [
    "Let's now generate multiple time series, both as a dictionary of data frames,\n",
    "and as a single long data frame. We also generate a dedicated data frame of\n",
    "static features.\n",
    "Note we don't provide `freq` and `timestamp`, because they are automatically\n",
    "inferred from the time index. We are also not passing the `target` argument, since\n",
    "it's default value is \"target\", which is the target column in our dataframes."
   ]
  },
  {
   "cell_type": "code",
   "execution_count": 16,
   "id": "2606a527",
   "metadata": {
    "execution": {
     "iopub.execute_input": "2024-05-31T18:28:10.869305Z",
     "iopub.status.busy": "2024-05-31T18:28:10.869102Z",
     "iopub.status.idle": "2024-05-31T18:28:10.887891Z",
     "shell.execute_reply": "2024-05-31T18:28:10.887309Z"
    }
   },
   "outputs": [],
   "source": [
    "multiple_ts = {\n",
    "    i: generate_single_ts_with_features(date_range, item_id=i) for i in range(N)\n",
    "}\n",
    "static_features = pd.DataFrame(\n",
    "    {\n",
    "        \"color\": pd.Categorical(np.random.choice([\"red\", \"green\", \"blue\"], size=N)),\n",
    "        \"height\": np.random.normal(loc=100, scale=15, size=N),\n",
    "    },\n",
    "    index=list(multiple_ts.keys()),\n",
    ")\n",
    "multiple_ts_long = pd.concat(multiple_ts.values())\n",
    "\n",
    "multiple_ts_dataset = PandasDataset(\n",
    "    multiple_ts,\n",
    "    feat_dynamic_real=[\"dynamic_real_1\", \"dynamic_real_2\"],\n",
    "    static_features=static_features,\n",
    ")\n",
    "# for long-dataset we use a different constructor and need a `item_id` column\n",
    "multiple_ts_long_dataset = PandasDataset.from_long_dataframe(\n",
    "    multiple_ts_long,\n",
    "    item_id=\"item_id\",\n",
    "    feat_dynamic_real=[\"dynamic_real_1\", \"dynamic_real_2\"],\n",
    "    static_features=static_features,\n",
    ")"
   ]
  },
  {
   "cell_type": "markdown",
   "id": "7e42cab5",
   "metadata": {},
   "source": [
    "That's it! We can now call `train_and_predict` with all\n",
    "the datasets."
   ]
  },
  {
   "cell_type": "code",
   "execution_count": 17,
   "id": "0a37c447",
   "metadata": {
    "execution": {
     "iopub.execute_input": "2024-05-31T18:28:10.890313Z",
     "iopub.status.busy": "2024-05-31T18:28:10.889945Z",
     "iopub.status.idle": "2024-05-31T18:28:15.477460Z",
     "shell.execute_reply": "2024-05-31T18:28:15.476704Z"
    }
   },
   "outputs": [
    {
     "name": "stderr",
     "output_type": "stream",
     "text": [
      "\r",
      "  0%|          | 0/50 [00:00<?, ?it/s]"
     ]
    },
    {
     "name": "stderr",
     "output_type": "stream",
     "text": [
      "\r",
      "100%|██████████| 50/50 [00:04<00:00, 12.07it/s, epoch=1/1, avg_epoch_loss=1.4]"
     ]
    },
    {
     "name": "stderr",
     "output_type": "stream",
     "text": [
      "\n"
     ]
    },
    {
     "name": "stderr",
     "output_type": "stream",
     "text": [
      "\r",
      "Running evaluation:   0%|          | 0/10 [00:00<?, ?it/s]"
     ]
    },
    {
     "name": "stderr",
     "output_type": "stream",
     "text": [
      "\r",
      "Running evaluation: 100%|██████████| 10/10 [00:00<00:00, 37.14it/s]"
     ]
    },
    {
     "name": "stderr",
     "output_type": "stream",
     "text": [
      "\n"
     ]
    },
    {
     "data": {
      "text/plain": [
       "0.25145185006648246"
      ]
     },
     "execution_count": 17,
     "metadata": {},
     "output_type": "execute_result"
    }
   ],
   "source": [
    "train_and_predict(multiple_ts_dataset, estimator_with_features)"
   ]
  },
  {
   "cell_type": "code",
   "execution_count": 18,
   "id": "3b68ef7b",
   "metadata": {
    "execution": {
     "iopub.execute_input": "2024-05-31T18:28:15.480182Z",
     "iopub.status.busy": "2024-05-31T18:28:15.479952Z",
     "iopub.status.idle": "2024-05-31T18:28:20.030257Z",
     "shell.execute_reply": "2024-05-31T18:28:20.029449Z"
    }
   },
   "outputs": [
    {
     "name": "stderr",
     "output_type": "stream",
     "text": [
      "\r",
      "  0%|          | 0/50 [00:00<?, ?it/s]"
     ]
    },
    {
     "name": "stderr",
     "output_type": "stream",
     "text": [
      "\r",
      "100%|██████████| 50/50 [00:04<00:00, 12.19it/s, epoch=1/1, avg_epoch_loss=1.48]"
     ]
    },
    {
     "name": "stderr",
     "output_type": "stream",
     "text": [
      "\n"
     ]
    },
    {
     "name": "stderr",
     "output_type": "stream",
     "text": [
      "\r",
      "Running evaluation:   0%|          | 0/10 [00:00<?, ?it/s]"
     ]
    },
    {
     "name": "stderr",
     "output_type": "stream",
     "text": [
      "\r",
      "Running evaluation: 100%|██████████| 10/10 [00:00<00:00, 37.20it/s]"
     ]
    },
    {
     "name": "stderr",
     "output_type": "stream",
     "text": [
      "\n"
     ]
    },
    {
     "data": {
      "text/plain": [
       "0.3680281639680776"
      ]
     },
     "execution_count": 18,
     "metadata": {},
     "output_type": "execute_result"
    }
   ],
   "source": [
    "train_and_predict(multiple_ts_long_dataset, estimator_with_features)"
   ]
  },
  {
   "cell_type": "markdown",
   "id": "5d239987",
   "metadata": {},
   "source": [
    "### Use train/test split\n",
    "\n",
    "Here, we split the DataFrame/DataFrames into training and test data.\n",
    "We can then\n",
    "use the training data to train the model and the test data for prediction.\n",
    "For training we will use the entire dataset up to last `prediction_length`\n",
    "entries. For testing we feed the entire dataset into\n",
    "`make_evaluation_predictions`, which automatically splits the last\n",
    "`prediction_length` entries for us and returns their predictions.\n",
    "Then, we forward those predictions to the `Evaluator`, which calculates\n",
    "a bunch of metrics for us\n",
    "(including `MSE`, `RMSE`, `MAPE`, `sMAPE`, ...)."
   ]
  },
  {
   "cell_type": "code",
   "execution_count": 19,
   "id": "96667104",
   "metadata": {
    "execution": {
     "iopub.execute_input": "2024-05-31T18:28:20.033231Z",
     "iopub.status.busy": "2024-05-31T18:28:20.032793Z",
     "iopub.status.idle": "2024-05-31T18:28:20.040346Z",
     "shell.execute_reply": "2024-05-31T18:28:20.039538Z"
    }
   },
   "outputs": [],
   "source": [
    "train = PandasDataset(\n",
    "    {item_id: df[:-prediction_length] for item_id, df in multiple_ts.items()},\n",
    "    feat_dynamic_real=[\"dynamic_real_1\", \"dynamic_real_2\"],\n",
    "    static_features=static_features,\n",
    ")\n",
    "\n",
    "test = PandasDataset(\n",
    "    multiple_ts,\n",
    "    feat_dynamic_real=[\"dynamic_real_1\", \"dynamic_real_2\"],\n",
    "    static_features=static_features,\n",
    ")"
   ]
  },
  {
   "cell_type": "code",
   "execution_count": 20,
   "id": "9d14a0b8",
   "metadata": {
    "execution": {
     "iopub.execute_input": "2024-05-31T18:28:20.042695Z",
     "iopub.status.busy": "2024-05-31T18:28:20.042303Z",
     "iopub.status.idle": "2024-05-31T18:28:24.816733Z",
     "shell.execute_reply": "2024-05-31T18:28:24.815876Z"
    }
   },
   "outputs": [
    {
     "name": "stderr",
     "output_type": "stream",
     "text": [
      "\r",
      "  0%|          | 0/50 [00:00<?, ?it/s]"
     ]
    },
    {
     "name": "stderr",
     "output_type": "stream",
     "text": [
      "\r",
      "100%|██████████| 50/50 [00:04<00:00, 11.58it/s, epoch=1/1, avg_epoch_loss=1.28]"
     ]
    },
    {
     "name": "stderr",
     "output_type": "stream",
     "text": [
      "\n"
     ]
    },
    {
     "name": "stderr",
     "output_type": "stream",
     "text": [
      "\r",
      "Running evaluation:   0%|          | 0/10 [00:00<?, ?it/s]"
     ]
    },
    {
     "name": "stderr",
     "output_type": "stream",
     "text": [
      "\r",
      "Running evaluation: 100%|██████████| 10/10 [00:00<00:00, 36.55it/s]"
     ]
    },
    {
     "name": "stderr",
     "output_type": "stream",
     "text": [
      "\n"
     ]
    }
   ],
   "source": [
    "predictor = estimator_with_features.train(train)\n",
    "forecast_it, ts_it = make_evaluation_predictions(dataset=test, predictor=predictor)\n",
    "evaluator = Evaluator(quantiles=(np.arange(20) / 20.0)[1:])\n",
    "agg_metrics, item_metrics = evaluator(ts_it, forecast_it, num_series=len(test))"
   ]
  },
  {
   "cell_type": "markdown",
   "id": "6426a174",
   "metadata": {},
   "source": [
    "### Train and visualize forecasts\n",
    "\n",
    "Let's generate 100 time series dataframes, create a train/test split,\n",
    "train an estimator and visualize the forecasts."
   ]
  },
  {
   "cell_type": "code",
   "execution_count": 21,
   "id": "43fefb44",
   "metadata": {
    "execution": {
     "iopub.execute_input": "2024-05-31T18:28:24.819303Z",
     "iopub.status.busy": "2024-05-31T18:28:24.818915Z",
     "iopub.status.idle": "2024-05-31T18:28:24.865249Z",
     "shell.execute_reply": "2024-05-31T18:28:24.864585Z"
    }
   },
   "outputs": [],
   "source": [
    "prediction_length, freq = 24, \"1H\"\n",
    "T = 10 * prediction_length\n",
    "date_range = pd.date_range(\"2021-01-01\", periods=T, freq=freq)\n",
    "\n",
    "N = 100\n",
    "time_seriess = [generate_single_ts(date_range, item_id=i) for i in range(N)]\n",
    "\n",
    "train = PandasDataset([ts.iloc[:-prediction_length, :] for ts in time_seriess])\n",
    "test = PandasDataset(time_seriess)"
   ]
  },
  {
   "cell_type": "code",
   "execution_count": 22,
   "id": "463f407c",
   "metadata": {
    "execution": {
     "iopub.execute_input": "2024-05-31T18:28:24.867875Z",
     "iopub.status.busy": "2024-05-31T18:28:24.867500Z",
     "iopub.status.idle": "2024-05-31T18:28:59.609611Z",
     "shell.execute_reply": "2024-05-31T18:28:59.608904Z"
    }
   },
   "outputs": [
    {
     "name": "stderr",
     "output_type": "stream",
     "text": [
      "\r",
      "  0%|          | 0/50 [00:00<?, ?it/s]"
     ]
    },
    {
     "name": "stderr",
     "output_type": "stream",
     "text": [
      "\r",
      "100%|██████████| 50/50 [00:03<00:00, 14.84it/s, epoch=1/10, avg_epoch_loss=0.621]"
     ]
    },
    {
     "name": "stderr",
     "output_type": "stream",
     "text": [
      "\n"
     ]
    },
    {
     "name": "stderr",
     "output_type": "stream",
     "text": [
      "\r",
      "  0%|          | 0/50 [00:00<?, ?it/s]"
     ]
    },
    {
     "name": "stderr",
     "output_type": "stream",
     "text": [
      "\r",
      "100%|██████████| 50/50 [00:03<00:00, 15.42it/s, epoch=2/10, avg_epoch_loss=-0.309]"
     ]
    },
    {
     "name": "stderr",
     "output_type": "stream",
     "text": [
      "\n"
     ]
    },
    {
     "name": "stderr",
     "output_type": "stream",
     "text": [
      "\r",
      "  0%|          | 0/50 [00:00<?, ?it/s]"
     ]
    },
    {
     "name": "stderr",
     "output_type": "stream",
     "text": [
      "\r",
      "100%|██████████| 50/50 [00:03<00:00, 15.52it/s, epoch=3/10, avg_epoch_loss=-0.417]"
     ]
    },
    {
     "name": "stderr",
     "output_type": "stream",
     "text": [
      "\n"
     ]
    },
    {
     "name": "stderr",
     "output_type": "stream",
     "text": [
      "\r",
      "  0%|          | 0/50 [00:00<?, ?it/s]"
     ]
    },
    {
     "name": "stderr",
     "output_type": "stream",
     "text": [
      "\r",
      "100%|██████████| 50/50 [00:03<00:00, 14.90it/s, epoch=4/10, avg_epoch_loss=-0.475]"
     ]
    },
    {
     "name": "stderr",
     "output_type": "stream",
     "text": [
      "\n"
     ]
    },
    {
     "name": "stderr",
     "output_type": "stream",
     "text": [
      "\r",
      "  0%|          | 0/50 [00:00<?, ?it/s]"
     ]
    },
    {
     "name": "stderr",
     "output_type": "stream",
     "text": [
      "\r",
      "100%|██████████| 50/50 [00:03<00:00, 15.25it/s, epoch=5/10, avg_epoch_loss=-0.503]"
     ]
    },
    {
     "name": "stderr",
     "output_type": "stream",
     "text": [
      "\n"
     ]
    },
    {
     "name": "stderr",
     "output_type": "stream",
     "text": [
      "\r",
      "  0%|          | 0/50 [00:00<?, ?it/s]"
     ]
    },
    {
     "name": "stderr",
     "output_type": "stream",
     "text": [
      "\r",
      "100%|██████████| 50/50 [00:03<00:00, 15.48it/s, epoch=6/10, avg_epoch_loss=-0.532]"
     ]
    },
    {
     "name": "stderr",
     "output_type": "stream",
     "text": [
      "\n"
     ]
    },
    {
     "name": "stderr",
     "output_type": "stream",
     "text": [
      "\r",
      "  0%|          | 0/50 [00:00<?, ?it/s]"
     ]
    },
    {
     "name": "stderr",
     "output_type": "stream",
     "text": [
      "\r",
      "100%|██████████| 50/50 [00:03<00:00, 15.48it/s, epoch=7/10, avg_epoch_loss=-0.558]"
     ]
    },
    {
     "name": "stderr",
     "output_type": "stream",
     "text": [
      "\n"
     ]
    },
    {
     "name": "stderr",
     "output_type": "stream",
     "text": [
      "\r",
      "  0%|          | 0/50 [00:00<?, ?it/s]"
     ]
    },
    {
     "name": "stderr",
     "output_type": "stream",
     "text": [
      "\r",
      "100%|██████████| 50/50 [00:03<00:00, 15.34it/s, epoch=8/10, avg_epoch_loss=-0.57]"
     ]
    },
    {
     "name": "stderr",
     "output_type": "stream",
     "text": [
      "\n"
     ]
    },
    {
     "name": "stderr",
     "output_type": "stream",
     "text": [
      "\r",
      "  0%|          | 0/50 [00:00<?, ?it/s]"
     ]
    },
    {
     "name": "stderr",
     "output_type": "stream",
     "text": [
      "\r",
      "100%|██████████| 50/50 [00:03<00:00, 15.34it/s, epoch=9/10, avg_epoch_loss=-0.591]"
     ]
    },
    {
     "name": "stderr",
     "output_type": "stream",
     "text": [
      "\n"
     ]
    },
    {
     "name": "stderr",
     "output_type": "stream",
     "text": [
      "\r",
      "  0%|          | 0/50 [00:00<?, ?it/s]"
     ]
    },
    {
     "name": "stderr",
     "output_type": "stream",
     "text": [
      "\r",
      "100%|██████████| 50/50 [00:03<00:00, 15.70it/s, epoch=10/10, avg_epoch_loss=-0.592]"
     ]
    },
    {
     "name": "stderr",
     "output_type": "stream",
     "text": [
      "\n"
     ]
    },
    {
     "name": "stderr",
     "output_type": "stream",
     "text": [
      "\r",
      "Running evaluation:   0%|          | 0/100 [00:00<?, ?it/s]"
     ]
    },
    {
     "name": "stderr",
     "output_type": "stream",
     "text": [
      "\r",
      "Running evaluation: 100%|██████████| 100/100 [00:00<00:00, 1964.53it/s]"
     ]
    },
    {
     "name": "stderr",
     "output_type": "stream",
     "text": [
      "\n"
     ]
    }
   ],
   "source": [
    "estimator = DeepAREstimator(\n",
    "    freq=freq,\n",
    "    prediction_length=prediction_length,\n",
    "    trainer=Trainer(epochs=10),\n",
    ")\n",
    "predictor = estimator.train(train)\n",
    "forecast_it, ts_it = make_evaluation_predictions(dataset=test, predictor=predictor)\n",
    "forecasts = list(forecast_it)\n",
    "tests = list(ts_it)\n",
    "evaluator = Evaluator(quantiles=(np.arange(20) / 20.0)[1:])\n",
    "agg_metrics, item_metrics = evaluator(tests, forecasts, num_series=len(test))"
   ]
  },
  {
   "cell_type": "markdown",
   "id": "06b17009",
   "metadata": {},
   "source": [
    "Let's plot a few randomly chosen series."
   ]
  },
  {
   "cell_type": "code",
   "execution_count": 23,
   "id": "a9c6b230",
   "metadata": {
    "execution": {
     "iopub.execute_input": "2024-05-31T18:28:59.613145Z",
     "iopub.status.busy": "2024-05-31T18:28:59.612726Z",
     "iopub.status.idle": "2024-05-31T18:29:00.236534Z",
     "shell.execute_reply": "2024-05-31T18:29:00.235785Z"
    }
   },
   "outputs": [
    {
     "data": {
      "image/png": "[encoded data removed]",
      "text/plain": [
       "<Figure size 1000x1500 with 3 Axes>"
      ]
     },
     "metadata": {},
     "output_type": "display_data"
    }
   ],
   "source": [
    "n_plot = 3\n",
    "indices = np.random.choice(np.arange(0, N), size=n_plot, replace=False)\n",
    "fig, axes = plt.subplots(n_plot, 1, figsize=(10, n_plot * 5))\n",
    "for index, ax in zip(indices, axes):\n",
    "    ax.plot(tests[index][-4 * prediction_length :].to_timestamp())\n",
    "    plt.sca(ax)\n",
    "    forecasts[index].plot(intervals=(0.9,), color=\"g\")\n",
    "    plt.legend([\"observed\", \"predicted median\", \"90% prediction interval\"])"
   ]
  }
 ],
 "metadata": {
  "language_info": {
   "name": "python"
  }
 },
 "nbformat": 4,
 "nbformat_minor": 5
}
