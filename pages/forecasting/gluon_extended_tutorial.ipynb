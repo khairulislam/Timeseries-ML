{
 "cells": [
  {
   "cell_type": "markdown",
   "id": "61c14bab",
   "metadata": {},
   "source": [
    "# Extended Forecasting Tutorial"
   ]
  },
  {
   "cell_type": "code",
   "execution_count": 1,
   "id": "91256dcd",
   "metadata": {
    "execution": {
     "iopub.execute_input": "2024-05-31T18:29:12.120048Z",
     "iopub.status.busy": "2024-05-31T18:29:12.119853Z",
     "iopub.status.idle": "2024-05-31T18:29:13.738440Z",
     "shell.execute_reply": "2024-05-31T18:29:13.737712Z"
    }
   },
   "outputs": [],
   "source": [
    "%matplotlib inline\n",
    "import mxnet as mx\n",
    "from mxnet import gluon\n",
    "import numpy as np\n",
    "import pandas as pd\n",
    "import matplotlib.pyplot as plt\n",
    "import json\n",
    "import os\n",
    "from itertools import islice\n",
    "from pathlib import Path"
   ]
  },
  {
   "cell_type": "code",
   "execution_count": 2,
   "id": "e3f7a10f",
   "metadata": {
    "execution": {
     "iopub.execute_input": "2024-05-31T18:29:13.741651Z",
     "iopub.status.busy": "2024-05-31T18:29:13.741171Z",
     "iopub.status.idle": "2024-05-31T18:29:13.745225Z",
     "shell.execute_reply": "2024-05-31T18:29:13.744584Z"
    }
   },
   "outputs": [],
   "source": [
    "mx.random.seed(0)\n",
    "np.random.seed(0)"
   ]
  },
  {
   "cell_type": "markdown",
   "id": "bd388256",
   "metadata": {},
   "source": [
    "## Datasets\n",
    "\n",
    "The first requirement to use GluonTS is to have an appropriate dataset. GluonTS offers three different options to practitioners that want to experiment with the various modules: \n",
    "\n",
    "- Use an available dataset provided by GluonTS\n",
    "- Create an artificial dataset using GluonTS\n",
    "- Convert your dataset to a GluonTS friendly format\n",
    "\n",
    "In general, a dataset should satisfy some minimum format requirements to be compatible with GluonTS. In particular, it should be an iterable collection of data entries (time series), and each entry should have at least a `target` field, which contains the actual values of the time series, and a `start` field, which denotes the starting date of the time series. There are many more optional fields that we will go through in this tutorial.\n",
    "\n",
    "The datasets provided by GluonTS come in the appropriate format and they can be used without any post processing. However, a custom dataset needs to be converted. Fortunately this is an easy task.\n",
    "\n",
    "### Available datasets in GluonTS\n",
    "\n",
    "GluonTS comes with a number of available datasets."
   ]
  },
  {
   "cell_type": "code",
   "execution_count": 3,
   "id": "d23ab7c4",
   "metadata": {
    "execution": {
     "iopub.execute_input": "2024-05-31T18:29:13.747869Z",
     "iopub.status.busy": "2024-05-31T18:29:13.747664Z",
     "iopub.status.idle": "2024-05-31T18:29:13.834950Z",
     "shell.execute_reply": "2024-05-31T18:29:13.834362Z"
    }
   },
   "outputs": [],
   "source": [
    "from gluonts.dataset.repository import get_dataset, dataset_names\n",
    "from gluonts.dataset.util import to_pandas"
   ]
  },
  {
   "cell_type": "code",
   "execution_count": 4,
   "id": "8ede744e",
   "metadata": {
    "execution": {
     "iopub.execute_input": "2024-05-31T18:29:13.837869Z",
     "iopub.status.busy": "2024-05-31T18:29:13.837411Z",
     "iopub.status.idle": "2024-05-31T18:29:13.841519Z",
     "shell.execute_reply": "2024-05-31T18:29:13.840700Z"
    }
   },
   "outputs": [
    {
     "name": "stdout",
     "output_type": "stream",
     "text": [
      "Available datasets: ['constant', 'exchange_rate', 'solar-energy', 'electricity', 'traffic', 'exchange_rate_nips', 'electricity_nips', 'traffic_nips', 'solar_nips', 'wiki2000_nips', 'wiki-rolling_nips', 'taxi_30min', 'kaggle_web_traffic_with_missing', 'kaggle_web_traffic_without_missing', 'kaggle_web_traffic_weekly', 'm1_yearly', 'm1_quarterly', 'm1_monthly', 'nn5_daily_with_missing', 'nn5_daily_without_missing', 'nn5_weekly', 'tourism_monthly', 'tourism_quarterly', 'tourism_yearly', 'cif_2016', 'london_smart_meters_without_missing', 'wind_farms_without_missing', 'car_parts_without_missing', 'dominick', 'fred_md', 'pedestrian_counts', 'hospital', 'covid_deaths', 'kdd_cup_2018_without_missing', 'weather', 'm3_monthly', 'm3_quarterly', 'm3_yearly', 'm3_other', 'm4_hourly', 'm4_daily', 'm4_weekly', 'm4_monthly', 'm4_quarterly', 'm4_yearly', 'm5', 'uber_tlc_daily', 'uber_tlc_hourly', 'airpassengers', 'australian_electricity_demand', 'electricity_hourly', 'electricity_weekly', 'rideshare_without_missing', 'saugeenday', 'solar_10_minutes', 'solar_weekly', 'sunspot_without_missing', 'temperature_rain_without_missing', 'vehicle_trips_without_missing', 'ercot', 'ett_small_15min', 'ett_small_1h']\n"
     ]
    }
   ],
   "source": [
    "print(f\"Available datasets: {dataset_names}\")"
   ]
  },
  {
   "cell_type": "markdown",
   "id": "a55ad77e",
   "metadata": {},
   "source": [
    "To download one of the built-in datasets, simply call `get_dataset` with one of the above names. GluonTS can re-use the saved dataset so that it does not need to be downloaded again the next time around."
   ]
  },
  {
   "cell_type": "code",
   "execution_count": 5,
   "id": "0d1269bc",
   "metadata": {
    "execution": {
     "iopub.execute_input": "2024-05-31T18:29:13.843938Z",
     "iopub.status.busy": "2024-05-31T18:29:13.843547Z",
     "iopub.status.idle": "2024-05-31T18:29:13.866897Z",
     "shell.execute_reply": "2024-05-31T18:29:13.866249Z"
    }
   },
   "outputs": [],
   "source": [
    "dataset = get_dataset(\"m4_hourly\")"
   ]
  },
  {
   "cell_type": "markdown",
   "id": "3442f920",
   "metadata": {},
   "source": [
    "### What is in a dataset?\n",
    "\n",
    "In general, the datasets provided by GluonTS are objects that consists of three main members:\n",
    "\n",
    "- `dataset.train` is an iterable collection of data entries used for training. Each entry corresponds to one time series.\n",
    "- `dataset.test` is an iterable collection of data entries used for inference. The test dataset is an extended version of the train dataset that contains a window in the end of each time series that was not seen during training. This window has length equal to the recommended prediction length.\n",
    "- `dataset.metadata` contains metadata of the dataset such as the frequency of the time series, a recommended prediction horizon, associated features, etc.\n",
    "\n",
    "First, let's see what the first entry of the train dataset contains. We should expect at least a `target` and a `start` field in each entry, and the target of the test entry to have an additional window equal to `prediction_length`."
   ]
  },
  {
   "cell_type": "code",
   "execution_count": 6,
   "id": "293307d8",
   "metadata": {
    "execution": {
     "iopub.execute_input": "2024-05-31T18:29:13.869426Z",
     "iopub.status.busy": "2024-05-31T18:29:13.869068Z",
     "iopub.status.idle": "2024-05-31T18:29:13.875186Z",
     "shell.execute_reply": "2024-05-31T18:29:13.874618Z"
    }
   },
   "outputs": [
    {
     "data": {
      "text/plain": [
       "dict_keys(['target', 'start', 'feat_static_cat', 'item_id'])"
      ]
     },
     "execution_count": 6,
     "metadata": {},
     "output_type": "execute_result"
    }
   ],
   "source": [
    "# get the first time series in the training set\n",
    "train_entry = next(iter(dataset.train))\n",
    "train_entry.keys()"
   ]
  },
  {
   "cell_type": "markdown",
   "id": "99c7d4c8",
   "metadata": {},
   "source": [
    "We observe that apart from the required fields there is one more `feat_static_cat` field (we can safely ignore the `source` field). This shows that the dataset has some features apart from the values of the time series. For now, we will ignore this field too. We will explain it in detail later with all the other optional fields.\n",
    "\n",
    "We can similarly examine the first entry of the test dataset. We should expect exactly the same fields as in the train dataset."
   ]
  },
  {
   "cell_type": "code",
   "execution_count": 7,
   "id": "0ebb798b",
   "metadata": {
    "execution": {
     "iopub.execute_input": "2024-05-31T18:29:13.877567Z",
     "iopub.status.busy": "2024-05-31T18:29:13.877193Z",
     "iopub.status.idle": "2024-05-31T18:29:13.882008Z",
     "shell.execute_reply": "2024-05-31T18:29:13.881479Z"
    }
   },
   "outputs": [
    {
     "data": {
      "text/plain": [
       "dict_keys(['target', 'start', 'feat_static_cat', 'item_id'])"
      ]
     },
     "execution_count": 7,
     "metadata": {},
     "output_type": "execute_result"
    }
   ],
   "source": [
    "# get the first time series in the test set\n",
    "test_entry = next(iter(dataset.test))\n",
    "test_entry.keys()"
   ]
  },
  {
   "cell_type": "markdown",
   "id": "9de93a1b",
   "metadata": {},
   "source": [
    "Moreover, we should expect that the target will have an additional window in the end with length equal to `prediction_length`. To better understand what this means we can visualize both the train and test time series."
   ]
  },
  {
   "cell_type": "code",
   "execution_count": 8,
   "id": "5e11cd18",
   "metadata": {
    "execution": {
     "iopub.execute_input": "2024-05-31T18:29:13.884335Z",
     "iopub.status.busy": "2024-05-31T18:29:13.883957Z",
     "iopub.status.idle": "2024-05-31T18:29:14.323554Z",
     "shell.execute_reply": "2024-05-31T18:29:14.322810Z"
    }
   },
   "outputs": [
    {
     "data": {
      "image/png": "[encoded data removed]",
      "text/plain": [
       "<Figure size 1000x700 with 2 Axes>"
      ]
     },
     "metadata": {},
     "output_type": "display_data"
    }
   ],
   "source": [
    "test_series = to_pandas(test_entry)\n",
    "train_series = to_pandas(train_entry)\n",
    "\n",
    "fig, ax = plt.subplots(2, 1, sharex=True, sharey=True, figsize=(10, 7))\n",
    "\n",
    "train_series.plot(ax=ax[0])\n",
    "ax[0].grid(which=\"both\")\n",
    "ax[0].legend([\"train series\"], loc=\"upper left\")\n",
    "\n",
    "test_series.plot(ax=ax[1])\n",
    "ax[1].axvline(train_series.index[-1], color=\"r\")  # end of train dataset\n",
    "ax[1].grid(which=\"both\")\n",
    "ax[1].legend([\"test series\", \"end of train series\"], loc=\"upper left\")\n",
    "\n",
    "plt.show()"
   ]
  },
  {
   "cell_type": "code",
   "execution_count": 9,
   "id": "283b123f",
   "metadata": {
    "execution": {
     "iopub.execute_input": "2024-05-31T18:29:14.326653Z",
     "iopub.status.busy": "2024-05-31T18:29:14.326228Z",
     "iopub.status.idle": "2024-05-31T18:29:14.330289Z",
     "shell.execute_reply": "2024-05-31T18:29:14.329622Z"
    }
   },
   "outputs": [
    {
     "name": "stdout",
     "output_type": "stream",
     "text": [
      "Length of forecasting window in test dataset: 48\n",
      "Recommended prediction horizon: 48\n",
      "Frequency of the time series: H\n"
     ]
    }
   ],
   "source": [
    "print(\n",
    "    f\"Length of forecasting window in test dataset: {len(test_series) - len(train_series)}\"\n",
    ")\n",
    "print(f\"Recommended prediction horizon: {dataset.metadata.prediction_length}\")\n",
    "print(f\"Frequency of the time series: {dataset.metadata.freq}\")"
   ]
  },
  {
   "cell_type": "markdown",
   "id": "be248d88",
   "metadata": {},
   "source": [
    "### Create artificial datasets\n",
    "\n",
    "We can easily create a complex artificial time series dataset using the `ComplexSeasonalTimeSeries` module."
   ]
  },
  {
   "cell_type": "code",
   "execution_count": 10,
   "id": "23591c06",
   "metadata": {
    "execution": {
     "iopub.execute_input": "2024-05-31T18:29:14.332730Z",
     "iopub.status.busy": "2024-05-31T18:29:14.332381Z",
     "iopub.status.idle": "2024-05-31T18:29:14.335549Z",
     "shell.execute_reply": "2024-05-31T18:29:14.334846Z"
    }
   },
   "outputs": [],
   "source": [
    "from gluonts.dataset.artificial import ComplexSeasonalTimeSeries\n",
    "from gluonts.dataset.common import ListDataset"
   ]
  },
  {
   "cell_type": "code",
   "execution_count": 11,
   "id": "721b7e5c",
   "metadata": {
    "execution": {
     "iopub.execute_input": "2024-05-31T18:29:14.337888Z",
     "iopub.status.busy": "2024-05-31T18:29:14.337415Z",
     "iopub.status.idle": "2024-05-31T18:29:14.341409Z",
     "shell.execute_reply": "2024-05-31T18:29:14.340697Z"
    }
   },
   "outputs": [],
   "source": [
    "artificial_dataset = ComplexSeasonalTimeSeries(\n",
    "    num_series=10,\n",
    "    prediction_length=21,\n",
    "    freq_str=\"H\",\n",
    "    length_low=30,\n",
    "    length_high=200,\n",
    "    min_val=-10000,\n",
    "    max_val=10000,\n",
    "    is_integer=False,\n",
    "    proportion_missing_values=0,\n",
    "    is_noise=True,\n",
    "    is_scale=True,\n",
    "    percentage_unique_timestamps=1,\n",
    "    is_out_of_bounds_date=True,\n",
    ")"
   ]
  },
  {
   "cell_type": "markdown",
   "id": "11c4030a",
   "metadata": {},
   "source": [
    "We can access some important metadata of the artificial dataset as follows:"
   ]
  },
  {
   "cell_type": "code",
   "execution_count": 12,
   "id": "ed1acf72",
   "metadata": {
    "execution": {
     "iopub.execute_input": "2024-05-31T18:29:14.343780Z",
     "iopub.status.busy": "2024-05-31T18:29:14.343279Z",
     "iopub.status.idle": "2024-05-31T18:29:14.347228Z",
     "shell.execute_reply": "2024-05-31T18:29:14.346564Z"
    }
   },
   "outputs": [
    {
     "name": "stdout",
     "output_type": "stream",
     "text": [
      "prediction length: 21\n",
      "frequency: H\n"
     ]
    }
   ],
   "source": [
    "print(f\"prediction length: {artificial_dataset.metadata.prediction_length}\")\n",
    "print(f\"frequency: {artificial_dataset.metadata.freq}\")"
   ]
  },
  {
   "cell_type": "markdown",
   "id": "81a7717e",
   "metadata": {},
   "source": [
    "The artificial dataset that we created is a list of dictionaries. Each dictionary corresponds to a time series and it should contain the required fields."
   ]
  },
  {
   "cell_type": "code",
   "execution_count": 13,
   "id": "92da1a0d",
   "metadata": {
    "execution": {
     "iopub.execute_input": "2024-05-31T18:29:14.349317Z",
     "iopub.status.busy": "2024-05-31T18:29:14.349121Z",
     "iopub.status.idle": "2024-05-31T18:29:14.373092Z",
     "shell.execute_reply": "2024-05-31T18:29:14.372571Z"
    }
   },
   "outputs": [
    {
     "name": "stdout",
     "output_type": "stream",
     "text": [
      "type of train dataset: <class 'list'>\n",
      "train dataset fields: dict_keys(['start', 'target', 'item_id'])\n",
      "type of test dataset: <class 'list'>\n",
      "test dataset fields: dict_keys(['start', 'target', 'item_id'])\n"
     ]
    }
   ],
   "source": [
    "print(f\"type of train dataset: {type(artificial_dataset.train)}\")\n",
    "print(f\"train dataset fields: {artificial_dataset.train[0].keys()}\")\n",
    "print(f\"type of test dataset: {type(artificial_dataset.test)}\")\n",
    "print(f\"test dataset fields: {artificial_dataset.test[0].keys()}\")"
   ]
  },
  {
   "cell_type": "markdown",
   "id": "fb580b5c",
   "metadata": {},
   "source": [
    "In order to use the artificially created datasets (list of dictionaries) we need to convert them to `ListDataset` objects."
   ]
  },
  {
   "cell_type": "code",
   "execution_count": 14,
   "id": "84e2d8ce",
   "metadata": {
    "execution": {
     "iopub.execute_input": "2024-05-31T18:29:14.375561Z",
     "iopub.status.busy": "2024-05-31T18:29:14.375089Z",
     "iopub.status.idle": "2024-05-31T18:29:14.384394Z",
     "shell.execute_reply": "2024-05-31T18:29:14.383844Z"
    }
   },
   "outputs": [],
   "source": [
    "train_ds = ListDataset(artificial_dataset.train, freq=artificial_dataset.metadata.freq)"
   ]
  },
  {
   "cell_type": "code",
   "execution_count": 15,
   "id": "44b8fff5",
   "metadata": {
    "execution": {
     "iopub.execute_input": "2024-05-31T18:29:14.386623Z",
     "iopub.status.busy": "2024-05-31T18:29:14.386238Z",
     "iopub.status.idle": "2024-05-31T18:29:14.395575Z",
     "shell.execute_reply": "2024-05-31T18:29:14.394924Z"
    }
   },
   "outputs": [],
   "source": [
    "test_ds = ListDataset(artificial_dataset.test, freq=artificial_dataset.metadata.freq)"
   ]
  },
  {
   "cell_type": "code",
   "execution_count": 16,
   "id": "533f2758",
   "metadata": {
    "execution": {
     "iopub.execute_input": "2024-05-31T18:29:14.397752Z",
     "iopub.status.busy": "2024-05-31T18:29:14.397450Z",
     "iopub.status.idle": "2024-05-31T18:29:14.401870Z",
     "shell.execute_reply": "2024-05-31T18:29:14.401331Z"
    }
   },
   "outputs": [
    {
     "data": {
      "text/plain": [
       "dict_keys(['start', 'target', 'item_id'])"
      ]
     },
     "execution_count": 16,
     "metadata": {},
     "output_type": "execute_result"
    }
   ],
   "source": [
    "train_entry = next(iter(train_ds))\n",
    "train_entry.keys()"
   ]
  },
  {
   "cell_type": "code",
   "execution_count": 17,
   "id": "49b569d6",
   "metadata": {
    "execution": {
     "iopub.execute_input": "2024-05-31T18:29:14.404265Z",
     "iopub.status.busy": "2024-05-31T18:29:14.403902Z",
     "iopub.status.idle": "2024-05-31T18:29:14.408244Z",
     "shell.execute_reply": "2024-05-31T18:29:14.407691Z"
    }
   },
   "outputs": [
    {
     "data": {
      "text/plain": [
       "dict_keys(['start', 'target', 'item_id'])"
      ]
     },
     "execution_count": 17,
     "metadata": {},
     "output_type": "execute_result"
    }
   ],
   "source": [
    "test_entry = next(iter(test_ds))\n",
    "test_entry.keys()"
   ]
  },
  {
   "cell_type": "code",
   "execution_count": 18,
   "id": "f94f52f5",
   "metadata": {
    "execution": {
     "iopub.execute_input": "2024-05-31T18:29:14.410536Z",
     "iopub.status.busy": "2024-05-31T18:29:14.410155Z",
     "iopub.status.idle": "2024-05-31T18:29:14.684574Z",
     "shell.execute_reply": "2024-05-31T18:29:14.683860Z"
    }
   },
   "outputs": [
    {
     "data": {
      "image/png": "[encoded data removed]",
      "text/plain": [
       "<Figure size 1000x700 with 2 Axes>"
      ]
     },
     "metadata": {},
     "output_type": "display_data"
    }
   ],
   "source": [
    "test_series = to_pandas(test_entry)\n",
    "train_series = to_pandas(train_entry)\n",
    "\n",
    "fig, ax = plt.subplots(2, 1, sharex=True, sharey=True, figsize=(10, 7))\n",
    "\n",
    "train_series.plot(ax=ax[0])\n",
    "ax[0].grid(which=\"both\")\n",
    "ax[0].legend([\"train series\"], loc=\"upper left\")\n",
    "\n",
    "test_series.plot(ax=ax[1])\n",
    "ax[1].axvline(train_series.index[-1], color=\"r\")  # end of train dataset\n",
    "ax[1].grid(which=\"both\")\n",
    "ax[1].legend([\"test series\", \"end of train series\"], loc=\"upper left\")\n",
    "\n",
    "plt.show()"
   ]
  },
  {
   "cell_type": "markdown",
   "id": "edd99ebc",
   "metadata": {},
   "source": [
    "### Use your time series and features\n",
    "\n",
    "Now, we will see how we can convert any custom dataset with any associated features to an appropriate format for GluonTS.\n",
    "\n",
    "As already mentioned a dataset is required to have at least the `target` and the `start` fields. However, it may have more. Let's see what are all the available fields:"
   ]
  },
  {
   "cell_type": "code",
   "execution_count": 19,
   "id": "802e365a",
   "metadata": {
    "execution": {
     "iopub.execute_input": "2024-05-31T18:29:14.687398Z",
     "iopub.status.busy": "2024-05-31T18:29:14.686965Z",
     "iopub.status.idle": "2024-05-31T18:29:14.690413Z",
     "shell.execute_reply": "2024-05-31T18:29:14.689682Z"
    }
   },
   "outputs": [],
   "source": [
    "from gluonts.dataset.field_names import FieldName"
   ]
  },
  {
   "cell_type": "code",
   "execution_count": 20,
   "id": "e0825f27",
   "metadata": {
    "execution": {
     "iopub.execute_input": "2024-05-31T18:29:14.692845Z",
     "iopub.status.busy": "2024-05-31T18:29:14.692341Z",
     "iopub.status.idle": "2024-05-31T18:29:14.697764Z",
     "shell.execute_reply": "2024-05-31T18:29:14.697212Z"
    }
   },
   "outputs": [
    {
     "data": {
      "text/plain": [
       "[\"FieldName.ITEM_ID = 'item_id'\",\n",
       " \"FieldName.INFO = 'info'\",\n",
       " \"FieldName.START = 'start'\",\n",
       " \"FieldName.TARGET = 'target'\",\n",
       " \"FieldName.FEAT_STATIC_CAT = 'feat_static_cat'\",\n",
       " \"FieldName.FEAT_STATIC_REAL = 'feat_static_real'\",\n",
       " \"FieldName.FEAT_DYNAMIC_CAT = 'feat_dynamic_cat'\",\n",
       " \"FieldName.FEAT_DYNAMIC_REAL = 'feat_dynamic_real'\",\n",
       " \"FieldName.PAST_FEAT_DYNAMIC_CAT = 'past_feat_dynamic_cat'\",\n",
       " \"FieldName.PAST_FEAT_DYNAMIC_REAL = 'past_feat_dynamic_real'\",\n",
       " \"FieldName.FEAT_DYNAMIC_REAL_LEGACY = 'dynamic_feat'\",\n",
       " \"FieldName.FEAT_DYNAMIC = 'feat_dynamic'\",\n",
       " \"FieldName.PAST_FEAT_DYNAMIC = 'past_feat_dynamic'\",\n",
       " \"FieldName.FEAT_TIME = 'time_feat'\",\n",
       " \"FieldName.FEAT_CONST = 'feat_dynamic_const'\",\n",
       " \"FieldName.FEAT_AGE = 'feat_dynamic_age'\",\n",
       " \"FieldName.OBSERVED_VALUES = 'observed_values'\",\n",
       " \"FieldName.IS_PAD = 'is_pad'\",\n",
       " \"FieldName.FORECAST_START = 'forecast_start'\",\n",
       " \"FieldName.TARGET_DIM_INDICATOR = 'target_dimension_indicator'\"]"
      ]
     },
     "execution_count": 20,
     "metadata": {},
     "output_type": "execute_result"
    }
   ],
   "source": [
    "[\n",
    "    f\"FieldName.{k} = '{v}'\"\n",
    "    for k, v in FieldName.__dict__.items()\n",
    "    if not k.startswith(\"_\")\n",
    "]"
   ]
  },
  {
   "cell_type": "markdown",
   "id": "4361270e",
   "metadata": {},
   "source": [
    "The fields are split into three categories: the required ones, the optional ones, and the ones that can be added by the `Transformation` (explained in a while).\n",
    "\n",
    "Required:\n",
    "\n",
    "- `start`: start date of the time series\n",
    "- `target`: values of the time series\n",
    "\n",
    "Optional:\n",
    "\n",
    "- `feat_static_cat`: static (over time) categorical features, list with dimension equal to the number of features\n",
    "- `feat_static_real`: static (over time) real features, list with dimension equal to the number of features\n",
    "- `feat_dynamic_cat`: dynamic (over time) categorical features, array with shape equal to (number of features, target length)\n",
    "- `feat_dynamic_real`: dynamic (over time) real features, array with shape equal to (number of features, target length)\n",
    "\n",
    "Added by `Transformation`:\n",
    "\n",
    "- `time_feat`: time related features such as the month or the day \n",
    "- `feat_dynamic_const`: expands a constant value feature along the time axis\n",
    "- `feat_dynamic_age`: age feature, i.e., a feature that its value is small for distant past timestamps and it monotonically increases the more we approach the current timestamp\n",
    "- `observed_values`: indicator for observed values, i.e., a feature that equals to 1 if the value is observed and 0 if the value is missing\n",
    "- `is_pad`: indicator for each time step that shows if it is padded (if the length is not enough) \n",
    "- `forecast_start`: forecast start date\n",
    "\n",
    "As a simple example, we can create a custom dataset to see how we can use some of these fields. The dataset consists of a target, a real dynamic feature (which in this example we set to be the target value one period earlier), and a static categorical feature that indicates the sinusoid type (different phase) that we used to create the target."
   ]
  },
  {
   "cell_type": "code",
   "execution_count": 21,
   "id": "d7dab78e",
   "metadata": {
    "execution": {
     "iopub.execute_input": "2024-05-31T18:29:14.700136Z",
     "iopub.status.busy": "2024-05-31T18:29:14.699759Z",
     "iopub.status.idle": "2024-05-31T18:29:14.706419Z",
     "shell.execute_reply": "2024-05-31T18:29:14.705718Z"
    }
   },
   "outputs": [],
   "source": [
    "def create_dataset(num_series, num_steps, period=24, mu=1, sigma=0.3):\n",
    "    # create target: noise + pattern\n",
    "    # noise\n",
    "    noise = np.random.normal(mu, sigma, size=(num_series, num_steps))\n",
    "\n",
    "    # pattern - sinusoid with different phase\n",
    "    sin_minusPi_Pi = np.sin(\n",
    "        np.tile(np.linspace(-np.pi, np.pi, period), int(num_steps / period))\n",
    "    )\n",
    "    sin_Zero_2Pi = np.sin(\n",
    "        np.tile(np.linspace(0, 2 * np.pi, 24), int(num_steps / period))\n",
    "    )\n",
    "\n",
    "    pattern = np.concatenate(\n",
    "        (\n",
    "            np.tile(sin_minusPi_Pi.reshape(1, -1), (int(np.ceil(num_series / 2)), 1)),\n",
    "            np.tile(sin_Zero_2Pi.reshape(1, -1), (int(np.floor(num_series / 2)), 1)),\n",
    "        ),\n",
    "        axis=0,\n",
    "    )\n",
    "\n",
    "    target = noise + pattern\n",
    "\n",
    "    # create time features: use target one period earlier, append with zeros\n",
    "    feat_dynamic_real = np.concatenate(\n",
    "        (np.zeros((num_series, period)), target[:, :-period]), axis=1\n",
    "    )\n",
    "\n",
    "    # create categorical static feats: use the sinusoid type as a categorical feature\n",
    "    feat_static_cat = np.concatenate(\n",
    "        (\n",
    "            np.zeros(int(np.ceil(num_series / 2))),\n",
    "            np.ones(int(np.floor(num_series / 2))),\n",
    "        ),\n",
    "        axis=0,\n",
    "    )\n",
    "\n",
    "    return target, feat_dynamic_real, feat_static_cat"
   ]
  },
  {
   "cell_type": "code",
   "execution_count": 22,
   "id": "2b23537a",
   "metadata": {
    "execution": {
     "iopub.execute_input": "2024-05-31T18:29:14.708672Z",
     "iopub.status.busy": "2024-05-31T18:29:14.708343Z",
     "iopub.status.idle": "2024-05-31T18:29:14.718768Z",
     "shell.execute_reply": "2024-05-31T18:29:14.718085Z"
    }
   },
   "outputs": [],
   "source": [
    "# define the parameters of the dataset\n",
    "custom_ds_metadata = {\n",
    "    \"num_series\": 100,\n",
    "    \"num_steps\": 24 * 7,\n",
    "    \"prediction_length\": 24,\n",
    "    \"freq\": \"1H\",\n",
    "    \"start\": [pd.Period(\"01-01-2019\", freq=\"1H\") for _ in range(100)],\n",
    "}"
   ]
  },
  {
   "cell_type": "code",
   "execution_count": 23,
   "id": "3e5d4071",
   "metadata": {
    "execution": {
     "iopub.execute_input": "2024-05-31T18:29:14.721117Z",
     "iopub.status.busy": "2024-05-31T18:29:14.720653Z",
     "iopub.status.idle": "2024-05-31T18:29:14.724621Z",
     "shell.execute_reply": "2024-05-31T18:29:14.723996Z"
    }
   },
   "outputs": [],
   "source": [
    "data_out = create_dataset(\n",
    "    custom_ds_metadata[\"num_series\"],\n",
    "    custom_ds_metadata[\"num_steps\"],\n",
    "    custom_ds_metadata[\"prediction_length\"],\n",
    ")\n",
    "\n",
    "target, feat_dynamic_real, feat_static_cat = data_out"
   ]
  },
  {
   "cell_type": "markdown",
   "id": "60247938",
   "metadata": {},
   "source": [
    "We can easily create the train and test datasets by simply filling in the correct fields. Remember that for the train dataset we need to cut the last window."
   ]
  },
  {
   "cell_type": "code",
   "execution_count": 24,
   "id": "c433c248",
   "metadata": {
    "execution": {
     "iopub.execute_input": "2024-05-31T18:29:14.727092Z",
     "iopub.status.busy": "2024-05-31T18:29:14.726722Z",
     "iopub.status.idle": "2024-05-31T18:29:14.733765Z",
     "shell.execute_reply": "2024-05-31T18:29:14.733060Z"
    }
   },
   "outputs": [],
   "source": [
    "train_ds = ListDataset(\n",
    "    [\n",
    "        {\n",
    "            FieldName.TARGET: target,\n",
    "            FieldName.START: start,\n",
    "            FieldName.FEAT_DYNAMIC_REAL: [fdr],\n",
    "            FieldName.FEAT_STATIC_CAT: [fsc],\n",
    "        }\n",
    "        for (target, start, fdr, fsc) in zip(\n",
    "            target[:, : -custom_ds_metadata[\"prediction_length\"]],\n",
    "            custom_ds_metadata[\"start\"],\n",
    "            feat_dynamic_real[:, : -custom_ds_metadata[\"prediction_length\"]],\n",
    "            feat_static_cat,\n",
    "        )\n",
    "    ],\n",
    "    freq=custom_ds_metadata[\"freq\"],\n",
    ")"
   ]
  },
  {
   "cell_type": "code",
   "execution_count": 25,
   "id": "f710c4b7",
   "metadata": {
    "execution": {
     "iopub.execute_input": "2024-05-31T18:29:14.736110Z",
     "iopub.status.busy": "2024-05-31T18:29:14.735733Z",
     "iopub.status.idle": "2024-05-31T18:29:14.742663Z",
     "shell.execute_reply": "2024-05-31T18:29:14.742008Z"
    }
   },
   "outputs": [],
   "source": [
    "test_ds = ListDataset(\n",
    "    [\n",
    "        {\n",
    "            FieldName.TARGET: target,\n",
    "            FieldName.START: start,\n",
    "            FieldName.FEAT_DYNAMIC_REAL: [fdr],\n",
    "            FieldName.FEAT_STATIC_CAT: [fsc],\n",
    "        }\n",
    "        for (target, start, fdr, fsc) in zip(\n",
    "            target, custom_ds_metadata[\"start\"], feat_dynamic_real, feat_static_cat\n",
    "        )\n",
    "    ],\n",
    "    freq=custom_ds_metadata[\"freq\"],\n",
    ")"
   ]
  },
  {
   "cell_type": "markdown",
   "id": "f3eb212b",
   "metadata": {},
   "source": [
    "Now, we can examine each entry of the train and test datasets. We should expect that they have the following fields: `target`, `start`, `feat_dynamic_real` and `feat_static_cat`."
   ]
  },
  {
   "cell_type": "code",
   "execution_count": 26,
   "id": "985ab596",
   "metadata": {
    "execution": {
     "iopub.execute_input": "2024-05-31T18:29:14.745076Z",
     "iopub.status.busy": "2024-05-31T18:29:14.744697Z",
     "iopub.status.idle": "2024-05-31T18:29:14.749070Z",
     "shell.execute_reply": "2024-05-31T18:29:14.748433Z"
    }
   },
   "outputs": [
    {
     "data": {
      "text/plain": [
       "dict_keys(['target', 'start', 'feat_dynamic_real', 'feat_static_cat'])"
      ]
     },
     "execution_count": 26,
     "metadata": {},
     "output_type": "execute_result"
    }
   ],
   "source": [
    "train_entry = next(iter(train_ds))\n",
    "train_entry.keys()"
   ]
  },
  {
   "cell_type": "code",
   "execution_count": 27,
   "id": "518c78f0",
   "metadata": {
    "execution": {
     "iopub.execute_input": "2024-05-31T18:29:14.751542Z",
     "iopub.status.busy": "2024-05-31T18:29:14.751024Z",
     "iopub.status.idle": "2024-05-31T18:29:14.755466Z",
     "shell.execute_reply": "2024-05-31T18:29:14.754909Z"
    }
   },
   "outputs": [
    {
     "data": {
      "text/plain": [
       "dict_keys(['target', 'start', 'feat_dynamic_real', 'feat_static_cat'])"
      ]
     },
     "execution_count": 27,
     "metadata": {},
     "output_type": "execute_result"
    }
   ],
   "source": [
    "test_entry = next(iter(test_ds))\n",
    "test_entry.keys()"
   ]
  },
  {
   "cell_type": "code",
   "execution_count": 28,
   "id": "40e91588",
   "metadata": {
    "execution": {
     "iopub.execute_input": "2024-05-31T18:29:14.757783Z",
     "iopub.status.busy": "2024-05-31T18:29:14.757411Z",
     "iopub.status.idle": "2024-05-31T18:29:15.113675Z",
     "shell.execute_reply": "2024-05-31T18:29:15.112955Z"
    }
   },
   "outputs": [
    {
     "data": {
      "image/png": "[encoded data removed]",
      "text/plain": [
       "<Figure size 1000x700 with 2 Axes>"
      ]
     },
     "metadata": {},
     "output_type": "display_data"
    }
   ],
   "source": [
    "test_series = to_pandas(test_entry)\n",
    "train_series = to_pandas(train_entry)\n",
    "\n",
    "fig, ax = plt.subplots(2, 1, sharex=True, sharey=True, figsize=(10, 7))\n",
    "\n",
    "train_series.plot(ax=ax[0])\n",
    "ax[0].grid(which=\"both\")\n",
    "ax[0].legend([\"train series\"], loc=\"upper left\")\n",
    "\n",
    "test_series.plot(ax=ax[1])\n",
    "ax[1].axvline(train_series.index[-1], color=\"r\")  # end of train dataset\n",
    "ax[1].grid(which=\"both\")\n",
    "ax[1].legend([\"test series\", \"end of train series\"], loc=\"upper left\")\n",
    "\n",
    "plt.show()"
   ]
  },
  {
   "cell_type": "markdown",
   "id": "10b493c2",
   "metadata": {},
   "source": [
    "<span style=\"color:red\">*For the rest of the tutorial we will use the custom dataset*</span>\n",
    "\n",
    "## Transformations\n",
    "\n",
    "### Define a transformation\n",
    "\n",
    "The primary use case for a `Transformation` is for feature processing, e.g., adding a holiday feature and for defining the way the dataset will be split into appropriate windows during training and inference. \n",
    "\n",
    "In general, it gets an iterable collection of entries of a dataset and transform it to another iterable collection that can possibly contain more fields. The transformation is done by defining a set of \"actions\" to the raw dataset depending on what is useful to our model. This actions usually create some additional features or transform an existing feature. As an example, in the following we add the following transformations:\n",
    "\n",
    "- `AddObservedValuesIndicator`: Creates the `observed_values` field in the dataset, i.e., adds a feature that equals to 1 if the value is observed and 0 if the value is missing \n",
    "- `AddAgeFeature`: Creates the `feat_dynamic_age` field in the dataset, i.e., adds a feature that its value is small for distant past timestamps and it monotonically increases the more we approach the current timestamp   \n",
    "\n",
    "One more transformation that can be used is the `InstanceSplitter`, which is used to define how the datasets are going to be split in example windows during training, validation, or at prediction time. The `InstanceSplitter` is configured as follows (skipping the obvious fields):\n",
    "\n",
    "- `is_pad_field`: indicator if the time series is padded (if the length is not enough)\n",
    "- `train_sampler`: defines how the training windows are cut/sampled\n",
    "- `time_series_fields`: contains the time dependent features that need to be split in the same manner as the target"
   ]
  },
  {
   "cell_type": "code",
   "execution_count": 29,
   "id": "412471ac",
   "metadata": {
    "execution": {
     "iopub.execute_input": "2024-05-31T18:29:15.116552Z",
     "iopub.status.busy": "2024-05-31T18:29:15.116035Z",
     "iopub.status.idle": "2024-05-31T18:29:15.158858Z",
     "shell.execute_reply": "2024-05-31T18:29:15.158300Z"
    }
   },
   "outputs": [],
   "source": [
    "from gluonts.transform import (\n",
    "    AddAgeFeature,\n",
    "    AddObservedValuesIndicator,\n",
    "    Chain,\n",
    "    ExpectedNumInstanceSampler,\n",
    "    InstanceSplitter,\n",
    "    SetFieldIfNotPresent,\n",
    ")"
   ]
  },
  {
   "cell_type": "code",
   "execution_count": 30,
   "id": "9e052038",
   "metadata": {
    "execution": {
     "iopub.execute_input": "2024-05-31T18:29:15.161155Z",
     "iopub.status.busy": "2024-05-31T18:29:15.160950Z",
     "iopub.status.idle": "2024-05-31T18:29:15.165870Z",
     "shell.execute_reply": "2024-05-31T18:29:15.165251Z"
    }
   },
   "outputs": [],
   "source": [
    "def create_transformation(freq, context_length, prediction_length):\n",
    "    return Chain(\n",
    "        [\n",
    "            AddObservedValuesIndicator(\n",
    "                target_field=FieldName.TARGET,\n",
    "                output_field=FieldName.OBSERVED_VALUES,\n",
    "            ),\n",
    "            AddAgeFeature(\n",
    "                target_field=FieldName.TARGET,\n",
    "                output_field=FieldName.FEAT_AGE,\n",
    "                pred_length=prediction_length,\n",
    "                log_scale=True,\n",
    "            ),\n",
    "            InstanceSplitter(\n",
    "                target_field=FieldName.TARGET,\n",
    "                is_pad_field=FieldName.IS_PAD,\n",
    "                start_field=FieldName.START,\n",
    "                forecast_start_field=FieldName.FORECAST_START,\n",
    "                instance_sampler=ExpectedNumInstanceSampler(\n",
    "                    num_instances=1,\n",
    "                    min_future=prediction_length,\n",
    "                ),\n",
    "                past_length=context_length,\n",
    "                future_length=prediction_length,\n",
    "                time_series_fields=[\n",
    "                    FieldName.FEAT_AGE,\n",
    "                    FieldName.FEAT_DYNAMIC_REAL,\n",
    "                    FieldName.OBSERVED_VALUES,\n",
    "                ],\n",
    "            ),\n",
    "        ]\n",
    "    )"
   ]
  },
  {
   "cell_type": "markdown",
   "id": "9e3e2f55",
   "metadata": {},
   "source": [
    "### Transform a dataset\n",
    "\n",
    "Now, we can create a transformation object by applying the above transformation to the custom dataset we have created."
   ]
  },
  {
   "cell_type": "code",
   "execution_count": 31,
   "id": "b795da40",
   "metadata": {
    "execution": {
     "iopub.execute_input": "2024-05-31T18:29:15.168524Z",
     "iopub.status.busy": "2024-05-31T18:29:15.168000Z",
     "iopub.status.idle": "2024-05-31T18:29:15.171843Z",
     "shell.execute_reply": "2024-05-31T18:29:15.171150Z"
    }
   },
   "outputs": [],
   "source": [
    "transformation = create_transformation(\n",
    "    custom_ds_metadata[\"freq\"],\n",
    "    2 * custom_ds_metadata[\"prediction_length\"],  # can be any appropriate value\n",
    "    custom_ds_metadata[\"prediction_length\"],\n",
    ")"
   ]
  },
  {
   "cell_type": "code",
   "execution_count": 32,
   "id": "7298d5c7",
   "metadata": {
    "execution": {
     "iopub.execute_input": "2024-05-31T18:29:15.174350Z",
     "iopub.status.busy": "2024-05-31T18:29:15.173871Z",
     "iopub.status.idle": "2024-05-31T18:29:15.177498Z",
     "shell.execute_reply": "2024-05-31T18:29:15.176793Z"
    }
   },
   "outputs": [],
   "source": [
    "train_tf = transformation(iter(train_ds), is_train=True)"
   ]
  },
  {
   "cell_type": "code",
   "execution_count": 33,
   "id": "6784840a",
   "metadata": {
    "execution": {
     "iopub.execute_input": "2024-05-31T18:29:15.179879Z",
     "iopub.status.busy": "2024-05-31T18:29:15.179499Z",
     "iopub.status.idle": "2024-05-31T18:29:15.183897Z",
     "shell.execute_reply": "2024-05-31T18:29:15.183226Z"
    }
   },
   "outputs": [
    {
     "data": {
      "text/plain": [
       "generator"
      ]
     },
     "execution_count": 33,
     "metadata": {},
     "output_type": "execute_result"
    }
   ],
   "source": [
    "type(train_tf)"
   ]
  },
  {
   "cell_type": "markdown",
   "id": "d5a189d5",
   "metadata": {},
   "source": [
    "As expected, the output is another iterable object. We can easily examine what is contained in an entry of the transformed dataset. The `InstanceSplitter` iterates over the transformed dataset and cuts windows by selecting randomly a time series and a starting point on that time series (this \"randomness\" is defined by the `instance_sampler`)."
   ]
  },
  {
   "cell_type": "code",
   "execution_count": 34,
   "id": "931eef23",
   "metadata": {
    "execution": {
     "iopub.execute_input": "2024-05-31T18:29:15.223765Z",
     "iopub.status.busy": "2024-05-31T18:29:15.223171Z",
     "iopub.status.idle": "2024-05-31T18:29:15.228728Z",
     "shell.execute_reply": "2024-05-31T18:29:15.228153Z"
    }
   },
   "outputs": [
    {
     "data": {
      "text/plain": [
       "['start',\n",
       " 'feat_static_cat',\n",
       " 'past_feat_dynamic_age',\n",
       " 'future_feat_dynamic_age',\n",
       " 'past_feat_dynamic_real',\n",
       " 'future_feat_dynamic_real',\n",
       " 'past_observed_values',\n",
       " 'future_observed_values',\n",
       " 'past_target',\n",
       " 'future_target',\n",
       " 'past_is_pad',\n",
       " 'forecast_start']"
      ]
     },
     "execution_count": 34,
     "metadata": {},
     "output_type": "execute_result"
    }
   ],
   "source": [
    "train_tf_entry = next(iter(train_tf))\n",
    "[k for k in train_tf_entry.keys()]"
   ]
  },
  {
   "cell_type": "markdown",
   "id": "ef6b108d",
   "metadata": {},
   "source": [
    "The transformer has done what we asked. In particular it has added:\n",
    "\n",
    "- a field for observed values (`observed_values`)  \n",
    "- a field for the age feature (`feat_dynamic_age`)\n",
    "- some extra useful fields (`past_is_pad`, `forecast_start`)\n",
    "\n",
    "It has done one more important thing: it has split the window into past and future and has added the corresponding prefixes to all time dependent fields. This way we can easily use e.g., the `past_target` field as input and the `future_target` field to calculate the error of our predictions. Of course, the length of the past is equal to the `context_length` and of the future equal to the `prediction_length`."
   ]
  },
  {
   "cell_type": "code",
   "execution_count": 35,
   "id": "c9db0c6d",
   "metadata": {
    "execution": {
     "iopub.execute_input": "2024-05-31T18:29:15.231065Z",
     "iopub.status.busy": "2024-05-31T18:29:15.230683Z",
     "iopub.status.idle": "2024-05-31T18:29:15.235215Z",
     "shell.execute_reply": "2024-05-31T18:29:15.234482Z"
    }
   },
   "outputs": [
    {
     "name": "stdout",
     "output_type": "stream",
     "text": [
      "past target shape: (48,)\n",
      "future target shape: (24,)\n",
      "past observed values shape: (48,)\n",
      "future observed values shape: (24,)\n",
      "past age feature shape: (48, 1)\n",
      "future age feature shape: (24, 1)\n",
      "[0]\n"
     ]
    }
   ],
   "source": [
    "print(f\"past target shape: {train_tf_entry['past_target'].shape}\")\n",
    "print(f\"future target shape: {train_tf_entry['future_target'].shape}\")\n",
    "print(f\"past observed values shape: {train_tf_entry['past_observed_values'].shape}\")\n",
    "print(f\"future observed values shape: {train_tf_entry['future_observed_values'].shape}\")\n",
    "print(f\"past age feature shape: {train_tf_entry['past_feat_dynamic_age'].shape}\")\n",
    "print(f\"future age feature shape: {train_tf_entry['future_feat_dynamic_age'].shape}\")\n",
    "print(train_tf_entry[\"feat_static_cat\"])"
   ]
  },
  {
   "cell_type": "markdown",
   "id": "e1151171",
   "metadata": {},
   "source": [
    "Just for comparison, let's see again what were the fields in the original dataset before the transformation:"
   ]
  },
  {
   "cell_type": "code",
   "execution_count": 36,
   "id": "c1d0ea40",
   "metadata": {
    "execution": {
     "iopub.execute_input": "2024-05-31T18:29:15.237614Z",
     "iopub.status.busy": "2024-05-31T18:29:15.237162Z",
     "iopub.status.idle": "2024-05-31T18:29:15.241907Z",
     "shell.execute_reply": "2024-05-31T18:29:15.241346Z"
    }
   },
   "outputs": [
    {
     "data": {
      "text/plain": [
       "['target', 'start', 'feat_dynamic_real', 'feat_static_cat']"
      ]
     },
     "execution_count": 36,
     "metadata": {},
     "output_type": "execute_result"
    }
   ],
   "source": [
    "[k for k in next(iter(train_ds)).keys()]"
   ]
  },
  {
   "cell_type": "markdown",
   "id": "b191429a",
   "metadata": {},
   "source": [
    "Now, we can move on and see how the test dataset is split. As we saw, the transformation splits the windows into past and future. However, during inference (`is_train=False` in the transformation), the splitter always cuts the last window (of length `context_length`) of the dataset so it can be used to predict the subsequent unknown values of length `prediction_length`. \n",
    "\n",
    "So, how is the test dataset split in past and future since we do not know the future target? And what about the time dependent features?"
   ]
  },
  {
   "cell_type": "code",
   "execution_count": 37,
   "id": "28a2d7a7",
   "metadata": {
    "execution": {
     "iopub.execute_input": "2024-05-31T18:29:15.244112Z",
     "iopub.status.busy": "2024-05-31T18:29:15.243796Z",
     "iopub.status.idle": "2024-05-31T18:29:15.247046Z",
     "shell.execute_reply": "2024-05-31T18:29:15.246509Z"
    }
   },
   "outputs": [],
   "source": [
    "test_tf = transformation(iter(test_ds), is_train=False)"
   ]
  },
  {
   "cell_type": "code",
   "execution_count": 38,
   "id": "31bf8a8d",
   "metadata": {
    "execution": {
     "iopub.execute_input": "2024-05-31T18:29:15.249234Z",
     "iopub.status.busy": "2024-05-31T18:29:15.248888Z",
     "iopub.status.idle": "2024-05-31T18:29:15.253559Z",
     "shell.execute_reply": "2024-05-31T18:29:15.252898Z"
    }
   },
   "outputs": [
    {
     "data": {
      "text/plain": [
       "['start',\n",
       " 'feat_static_cat',\n",
       " 'past_feat_dynamic_age',\n",
       " 'future_feat_dynamic_age',\n",
       " 'past_feat_dynamic_real',\n",
       " 'future_feat_dynamic_real',\n",
       " 'past_observed_values',\n",
       " 'future_observed_values',\n",
       " 'past_target',\n",
       " 'future_target',\n",
       " 'past_is_pad',\n",
       " 'forecast_start']"
      ]
     },
     "execution_count": 38,
     "metadata": {},
     "output_type": "execute_result"
    }
   ],
   "source": [
    "test_tf_entry = next(iter(test_tf))\n",
    "[k for k in test_tf_entry.keys()]"
   ]
  },
  {
   "cell_type": "code",
   "execution_count": 39,
   "id": "0341fd36",
   "metadata": {
    "execution": {
     "iopub.execute_input": "2024-05-31T18:29:15.255926Z",
     "iopub.status.busy": "2024-05-31T18:29:15.255580Z",
     "iopub.status.idle": "2024-05-31T18:29:15.259898Z",
     "shell.execute_reply": "2024-05-31T18:29:15.259105Z"
    }
   },
   "outputs": [
    {
     "name": "stdout",
     "output_type": "stream",
     "text": [
      "past target shape: (48,)\n",
      "future target shape: (24,)\n",
      "past observed values shape: (48,)\n",
      "future observed values shape: (24,)\n",
      "past age feature shape: (48, 1)\n",
      "future age feature shape: (24, 1)\n",
      "[0]\n"
     ]
    }
   ],
   "source": [
    "print(f\"past target shape: {test_tf_entry['past_target'].shape}\")\n",
    "print(f\"future target shape: {test_tf_entry['future_target'].shape}\")\n",
    "print(f\"past observed values shape: {test_tf_entry['past_observed_values'].shape}\")\n",
    "print(f\"future observed values shape: {test_tf_entry['future_observed_values'].shape}\")\n",
    "print(f\"past age feature shape: {test_tf_entry['past_feat_dynamic_age'].shape}\")\n",
    "print(f\"future age feature shape: {test_tf_entry['future_feat_dynamic_age'].shape}\")\n",
    "print(test_tf_entry[\"feat_static_cat\"])"
   ]
  },
  {
   "cell_type": "markdown",
   "id": "f098fd90",
   "metadata": {},
   "source": [
    "The future target is empty but not the features - we always assume that we know the future features!\n",
    "\n",
    "All the things we did manually here are done by an internal block called `DataLoader`. It gets as an input the raw dataset (in appropriate format) and the transformation object and it outputs the transformed iterable dataset batch by batch. The only thing that we need to worry about is setting the transformation fields correctly!"
   ]
  },
  {
   "cell_type": "markdown",
   "id": "1bcd76d0",
   "metadata": {},
   "source": [
    "## Training an existing model\n",
    "\n",
    "GluonTS comes with a number of pre-built models. All the user needs to do is configure some hyperparameters. The existing models focus on (but are not limited to) probabilistic forecasting. Probabilistic forecasts are predictions in the form of a probability distribution, rather than simply a single point estimate. Having estimated the future distribution of each time step in the forecasting horizon, we can draw a sample from the distribution at each time step and thus create a \"sample path\" that can be seen as a possible realization of the future. In practice we draw multiple samples and create multiple sample paths which can be used for visualization, evaluation of the model, to derive statistics, etc.\n",
    "\n",
    "### Configuring an estimator\n",
    "\n",
    "We will begin with GluonTS's pre-built feedforward neural network estimator, a simple but powerful forecasting model. We will use this model to demonstrate the process of training a model, producing forecasts, and evaluating the results.\n",
    "\n",
    "GluonTS's built-in feedforward neural network (`SimpleFeedForwardEstimator`) accepts an input window of length `context_length` and predicts the distribution of the values of the subsequent `prediction_length` values. In GluonTS parlance, the feedforward neural network model is an example of `Estimator`. In GluonTS, `Estimator` objects represent a forecasting model as well as details such as its coefficients, weights, etc.\n",
    "\n",
    "In general, each estimator (pre-built or custom) is configured by a number of hyperparameters that can be either common (but not binding) among all estimators (e.g., the `prediction_length`) or specific for the particular estimator (e.g., number of layers for a neural network or the stride in a CNN).\n",
    "\n",
    "Finally, each estimator is configured by a `Trainer`, which defines how the model will be trained i.e., the number of epochs, the learning rate, etc."
   ]
  },
  {
   "cell_type": "code",
   "execution_count": 40,
   "id": "e0f8a34f",
   "metadata": {
    "execution": {
     "iopub.execute_input": "2024-05-31T18:29:15.262154Z",
     "iopub.status.busy": "2024-05-31T18:29:15.261954Z",
     "iopub.status.idle": "2024-05-31T18:29:15.466233Z",
     "shell.execute_reply": "2024-05-31T18:29:15.465564Z"
    }
   },
   "outputs": [],
   "source": [
    "from gluonts.mx import SimpleFeedForwardEstimator, Trainer"
   ]
  },
  {
   "cell_type": "code",
   "execution_count": 41,
   "id": "11ad0ee3",
   "metadata": {
    "execution": {
     "iopub.execute_input": "2024-05-31T18:29:15.468975Z",
     "iopub.status.busy": "2024-05-31T18:29:15.468602Z",
     "iopub.status.idle": "2024-05-31T18:29:15.473226Z",
     "shell.execute_reply": "2024-05-31T18:29:15.472595Z"
    }
   },
   "outputs": [],
   "source": [
    "estimator = SimpleFeedForwardEstimator(\n",
    "    num_hidden_dimensions=[10],\n",
    "    prediction_length=custom_ds_metadata[\"prediction_length\"],\n",
    "    context_length=2 * custom_ds_metadata[\"prediction_length\"],\n",
    "    trainer=Trainer(\n",
    "        ctx=\"cpu\",\n",
    "        epochs=5,\n",
    "        learning_rate=1e-3,\n",
    "        hybridize=False,\n",
    "        num_batches_per_epoch=100,\n",
    "    ),\n",
    ")"
   ]
  },
  {
   "cell_type": "markdown",
   "id": "c54b5f2f",
   "metadata": {},
   "source": [
    "### Getting a predictor\n",
    "\n",
    "After specifying our estimator with all the necessary hyperparameters we can train it using our training dataset `dataset.train` by invoking the `train` method of the estimator. The training algorithm returns a fitted model (or a `Predictor` in GluonTS parlance) that can be used to construct forecasts.\n",
    "\n",
    "We should emphasize here that a single model, as the one defined above, is trained over all the time series contained in the training dataset `train_ds`. This results in a **global** model, suitable for prediction for all the time series in `train_ds` and possibly for other unseen related time series."
   ]
  },
  {
   "cell_type": "code",
   "execution_count": 42,
   "id": "a2ff8cda",
   "metadata": {
    "execution": {
     "iopub.execute_input": "2024-05-31T18:29:15.475529Z",
     "iopub.status.busy": "2024-05-31T18:29:15.475304Z",
     "iopub.status.idle": "2024-05-31T18:29:19.487528Z",
     "shell.execute_reply": "2024-05-31T18:29:19.486801Z"
    }
   },
   "outputs": [
    {
     "name": "stderr",
     "output_type": "stream",
     "text": [
      "\r",
      "  0%|          | 0/100 [00:00<?, ?it/s]"
     ]
    },
    {
     "name": "stderr",
     "output_type": "stream",
     "text": [
      "\r",
      "100%|██████████| 100/100 [00:00<00:00, 121.53it/s, epoch=1/5, avg_epoch_loss=1.28]"
     ]
    },
    {
     "name": "stderr",
     "output_type": "stream",
     "text": [
      "\n"
     ]
    },
    {
     "name": "stderr",
     "output_type": "stream",
     "text": [
      "\r",
      "  0%|          | 0/100 [00:00<?, ?it/s]"
     ]
    },
    {
     "name": "stderr",
     "output_type": "stream",
     "text": [
      "\r",
      "100%|██████████| 100/100 [00:00<00:00, 124.61it/s, epoch=2/5, avg_epoch_loss=0.735]"
     ]
    },
    {
     "name": "stderr",
     "output_type": "stream",
     "text": [
      "\n"
     ]
    },
    {
     "name": "stderr",
     "output_type": "stream",
     "text": [
      "\r",
      "  0%|          | 0/100 [00:00<?, ?it/s]"
     ]
    },
    {
     "name": "stderr",
     "output_type": "stream",
     "text": [
      "\r",
      "100%|██████████| 100/100 [00:00<00:00, 122.58it/s, epoch=3/5, avg_epoch_loss=0.677]"
     ]
    },
    {
     "name": "stderr",
     "output_type": "stream",
     "text": [
      "\n"
     ]
    },
    {
     "name": "stderr",
     "output_type": "stream",
     "text": [
      "\r",
      "  0%|          | 0/100 [00:00<?, ?it/s]"
     ]
    },
    {
     "name": "stderr",
     "output_type": "stream",
     "text": [
      "\r",
      "100%|██████████| 100/100 [00:00<00:00, 124.03it/s, epoch=4/5, avg_epoch_loss=0.644]"
     ]
    },
    {
     "name": "stderr",
     "output_type": "stream",
     "text": [
      "\n"
     ]
    },
    {
     "name": "stderr",
     "output_type": "stream",
     "text": [
      "\r",
      "  0%|          | 0/100 [00:00<?, ?it/s]"
     ]
    },
    {
     "name": "stderr",
     "output_type": "stream",
     "text": [
      "\r",
      "100%|██████████| 100/100 [00:00<00:00, 136.28it/s, epoch=5/5, avg_epoch_loss=0.605]"
     ]
    },
    {
     "name": "stderr",
     "output_type": "stream",
     "text": [
      "\n"
     ]
    }
   ],
   "source": [
    "predictor = estimator.train(train_ds)"
   ]
  },
  {
   "cell_type": "markdown",
   "id": "fa446f31",
   "metadata": {},
   "source": [
    "### Saving/Loading an existing model\n",
    "\n",
    "A fitted model, i.e., a `Predictor`, can be saved and loaded back easily:"
   ]
  },
  {
   "cell_type": "code",
   "execution_count": 43,
   "id": "15af4b34",
   "metadata": {
    "execution": {
     "iopub.execute_input": "2024-05-31T18:29:19.490137Z",
     "iopub.status.busy": "2024-05-31T18:29:19.489734Z",
     "iopub.status.idle": "2024-05-31T18:29:19.500535Z",
     "shell.execute_reply": "2024-05-31T18:29:19.499921Z"
    }
   },
   "outputs": [
    {
     "name": "stderr",
     "output_type": "stream",
     "text": [
      "WARNING:root:Serializing RepresentableBlockPredictor instances does not save the prediction network structure in a backwards-compatible manner. Be careful not to use this method in production.\n"
     ]
    }
   ],
   "source": [
    "# save the trained model in tmp/\n",
    "from pathlib import Path\n",
    "\n",
    "predictor.serialize(Path(\"/tmp/\"))"
   ]
  },
  {
   "cell_type": "code",
   "execution_count": 44,
   "id": "4287219a",
   "metadata": {
    "execution": {
     "iopub.execute_input": "2024-05-31T18:29:19.502971Z",
     "iopub.status.busy": "2024-05-31T18:29:19.502593Z",
     "iopub.status.idle": "2024-05-31T18:29:19.510302Z",
     "shell.execute_reply": "2024-05-31T18:29:19.509664Z"
    }
   },
   "outputs": [],
   "source": [
    "# loads it back\n",
    "from gluonts.model.predictor import Predictor\n",
    "\n",
    "predictor_deserialized = Predictor.deserialize(Path(\"/tmp/\"))"
   ]
  },
  {
   "cell_type": "markdown",
   "id": "49c8c1b6",
   "metadata": {},
   "source": [
    "## Evaluation\n",
    "\n",
    "### Getting the forecasts\n",
    "\n",
    "With a predictor in hand, we can now predict the last window of the `dataset.test` and evaluate our model's performance.\n",
    "\n",
    "GluonTS comes with the `make_evaluation_predictions` function that automates the process of prediction and model evaluation. Roughly, this function performs the following steps:\n",
    "\n",
    "- Removes the final window of length `prediction_length` of the `dataset.test` that we want to predict\n",
    "- The estimator uses the remaining data to predict (in the form of sample paths) the \"future\" window that was just removed\n",
    "- The module outputs the forecast sample paths and the `dataset.test` (as python generator objects)"
   ]
  },
  {
   "cell_type": "code",
   "execution_count": 45,
   "id": "5a2375ed",
   "metadata": {
    "execution": {
     "iopub.execute_input": "2024-05-31T18:29:19.512907Z",
     "iopub.status.busy": "2024-05-31T18:29:19.512541Z",
     "iopub.status.idle": "2024-05-31T18:29:19.517892Z",
     "shell.execute_reply": "2024-05-31T18:29:19.517391Z"
    }
   },
   "outputs": [],
   "source": [
    "from gluonts.evaluation import make_evaluation_predictions"
   ]
  },
  {
   "cell_type": "code",
   "execution_count": 46,
   "id": "6f9894ca",
   "metadata": {
    "execution": {
     "iopub.execute_input": "2024-05-31T18:29:19.520108Z",
     "iopub.status.busy": "2024-05-31T18:29:19.519907Z",
     "iopub.status.idle": "2024-05-31T18:29:19.523384Z",
     "shell.execute_reply": "2024-05-31T18:29:19.522660Z"
    }
   },
   "outputs": [],
   "source": [
    "forecast_it, ts_it = make_evaluation_predictions(\n",
    "    dataset=test_ds,  # test dataset\n",
    "    predictor=predictor,  # predictor\n",
    "    num_samples=100,  # number of sample paths we want for evaluation\n",
    ")"
   ]
  },
  {
   "cell_type": "markdown",
   "id": "53aa21fb",
   "metadata": {},
   "source": [
    "First, we can convert these generators to lists to ease the subsequent computations."
   ]
  },
  {
   "cell_type": "code",
   "execution_count": 47,
   "id": "96c583fa",
   "metadata": {
    "execution": {
     "iopub.execute_input": "2024-05-31T18:29:19.526077Z",
     "iopub.status.busy": "2024-05-31T18:29:19.525700Z",
     "iopub.status.idle": "2024-05-31T18:29:19.576994Z",
     "shell.execute_reply": "2024-05-31T18:29:19.576359Z"
    }
   },
   "outputs": [],
   "source": [
    "forecasts = list(forecast_it)\n",
    "tss = list(ts_it)"
   ]
  },
  {
   "cell_type": "markdown",
   "id": "26de59fb",
   "metadata": {},
   "source": [
    "We can examine the first element of these lists (that corresponds to the first time series of the dataset). Let's start with the list containing the time series, i.e., `tss`. We expect the first entry of `tss` to contain the (target of the) first time series of `test_ds`."
   ]
  },
  {
   "cell_type": "code",
   "execution_count": 48,
   "id": "93e86a9c",
   "metadata": {
    "execution": {
     "iopub.execute_input": "2024-05-31T18:29:19.579805Z",
     "iopub.status.busy": "2024-05-31T18:29:19.579540Z",
     "iopub.status.idle": "2024-05-31T18:29:19.583193Z",
     "shell.execute_reply": "2024-05-31T18:29:19.582331Z"
    }
   },
   "outputs": [],
   "source": [
    "# first entry of the time series list\n",
    "ts_entry = tss[0]"
   ]
  },
  {
   "cell_type": "code",
   "execution_count": 49,
   "id": "a6c38beb",
   "metadata": {
    "execution": {
     "iopub.execute_input": "2024-05-31T18:29:19.585739Z",
     "iopub.status.busy": "2024-05-31T18:29:19.585231Z",
     "iopub.status.idle": "2024-05-31T18:29:19.591431Z",
     "shell.execute_reply": "2024-05-31T18:29:19.590797Z"
    }
   },
   "outputs": [
    {
     "data": {
      "text/plain": [
       "array([1.5292157 , 0.85025036, 0.7740374 , 0.941432  , 0.6723822 ],\n",
       "      dtype=float32)"
      ]
     },
     "execution_count": 49,
     "metadata": {},
     "output_type": "execute_result"
    }
   ],
   "source": [
    "# first 5 values of the time series (convert from pandas to numpy)\n",
    "np.array(ts_entry[:5]).reshape(\n",
    "    -1,\n",
    ")"
   ]
  },
  {
   "cell_type": "code",
   "execution_count": 50,
   "id": "b00bbd73",
   "metadata": {
    "execution": {
     "iopub.execute_input": "2024-05-31T18:29:19.593998Z",
     "iopub.status.busy": "2024-05-31T18:29:19.593612Z",
     "iopub.status.idle": "2024-05-31T18:29:19.596969Z",
     "shell.execute_reply": "2024-05-31T18:29:19.596191Z"
    }
   },
   "outputs": [],
   "source": [
    "# first entry of test_ds\n",
    "test_ds_entry = next(iter(test_ds))"
   ]
  },
  {
   "cell_type": "code",
   "execution_count": 51,
   "id": "113cec99",
   "metadata": {
    "execution": {
     "iopub.execute_input": "2024-05-31T18:29:19.599438Z",
     "iopub.status.busy": "2024-05-31T18:29:19.599021Z",
     "iopub.status.idle": "2024-05-31T18:29:19.604301Z",
     "shell.execute_reply": "2024-05-31T18:29:19.603648Z"
    }
   },
   "outputs": [
    {
     "data": {
      "text/plain": [
       "array([1.5292157 , 0.85025036, 0.7740374 , 0.941432  , 0.6723822 ],\n",
       "      dtype=float32)"
      ]
     },
     "execution_count": 51,
     "metadata": {},
     "output_type": "execute_result"
    }
   ],
   "source": [
    "# first 5 values\n",
    "test_ds_entry[\"target\"][:5]"
   ]
  },
  {
   "cell_type": "markdown",
   "id": "dbd469f0",
   "metadata": {},
   "source": [
    "The entries in the `forecast` list are a bit more complex. They are objects that contain all the sample paths in the form of `numpy.ndarray` with dimension `(num_samples, prediction_length)`, the start date of the forecast, the frequency of the time series, etc. We can access all these information by simply invoking the corresponding attribute of the forecast object."
   ]
  },
  {
   "cell_type": "code",
   "execution_count": 52,
   "id": "e2fd06af",
   "metadata": {
    "execution": {
     "iopub.execute_input": "2024-05-31T18:29:19.606958Z",
     "iopub.status.busy": "2024-05-31T18:29:19.606403Z",
     "iopub.status.idle": "2024-05-31T18:29:19.609838Z",
     "shell.execute_reply": "2024-05-31T18:29:19.609162Z"
    }
   },
   "outputs": [],
   "source": [
    "# first entry of the forecast list\n",
    "forecast_entry = forecasts[0]"
   ]
  },
  {
   "cell_type": "code",
   "execution_count": 53,
   "id": "6a3bd1c2",
   "metadata": {
    "execution": {
     "iopub.execute_input": "2024-05-31T18:29:19.612144Z",
     "iopub.status.busy": "2024-05-31T18:29:19.611934Z",
     "iopub.status.idle": "2024-05-31T18:29:19.616133Z",
     "shell.execute_reply": "2024-05-31T18:29:19.615447Z"
    }
   },
   "outputs": [
    {
     "name": "stdout",
     "output_type": "stream",
     "text": [
      "Number of sample paths: 100\n",
      "Dimension of samples: (100, 24)\n",
      "Start date of the forecast window: 2019-01-07 00:00\n",
      "Frequency of the time series: <Hour>\n"
     ]
    }
   ],
   "source": [
    "print(f\"Number of sample paths: {forecast_entry.num_samples}\")\n",
    "print(f\"Dimension of samples: {forecast_entry.samples.shape}\")\n",
    "print(f\"Start date of the forecast window: {forecast_entry.start_date}\")\n",
    "print(f\"Frequency of the time series: {forecast_entry.freq}\")"
   ]
  },
  {
   "cell_type": "markdown",
   "id": "d3129474",
   "metadata": {},
   "source": [
    "We can also do calculations to summarize the sample paths, such as computing the mean or a quantile for each of the 24 time steps in the forecast window."
   ]
  },
  {
   "cell_type": "code",
   "execution_count": 54,
   "id": "cc7dbf26",
   "metadata": {
    "execution": {
     "iopub.execute_input": "2024-05-31T18:29:19.618735Z",
     "iopub.status.busy": "2024-05-31T18:29:19.618207Z",
     "iopub.status.idle": "2024-05-31T18:29:19.623287Z",
     "shell.execute_reply": "2024-05-31T18:29:19.622696Z"
    }
   },
   "outputs": [
    {
     "name": "stdout",
     "output_type": "stream",
     "text": [
      "Mean of the future window:\n",
      " [ 0.90765196  0.5002642   0.58970827  0.39372978  0.09580009  0.05871432\n",
      " -0.09855336  0.21287599  0.06411848  0.36389527  0.6184984   0.82686234\n",
      "  1.1362944   1.4422988   1.5806047   1.885066    1.6728904   1.8457131\n",
      "  2.0097268   1.7956799   1.6775795   1.587245    1.2241242   1.0475011 ]\n",
      "0.5-quantile (median) of the future window:\n",
      " [ 9.2138731e-01  5.3099197e-01  5.4954773e-01  3.5585621e-01\n",
      "  1.3284978e-01  5.4421678e-02 -5.3116154e-02  1.7734313e-01\n",
      " -1.0389383e-03  3.8981181e-01  6.4071041e-01  8.7102258e-01\n",
      "  1.1050647e+00  1.2608457e+00  1.5636476e+00  1.9202025e+00\n",
      "  1.7487336e+00  1.8408449e+00  2.0478199e+00  1.7664530e+00\n",
      "  1.7128807e+00  1.6053847e+00  1.2772603e+00  1.0452789e+00]\n"
     ]
    }
   ],
   "source": [
    "print(f\"Mean of the future window:\\n {forecast_entry.mean}\")\n",
    "print(f\"0.5-quantile (median) of the future window:\\n {forecast_entry.quantile(0.5)}\")"
   ]
  },
  {
   "cell_type": "markdown",
   "id": "069e5817",
   "metadata": {},
   "source": [
    "`Forecast` objects have a `plot` method that can summarize the forecast paths as the mean, prediction intervals, etc. The prediction intervals are shaded in different colors as a \"fan chart\"."
   ]
  },
  {
   "cell_type": "code",
   "execution_count": 55,
   "id": "0bec8f1f",
   "metadata": {
    "execution": {
     "iopub.execute_input": "2024-05-31T18:29:19.625650Z",
     "iopub.status.busy": "2024-05-31T18:29:19.625272Z",
     "iopub.status.idle": "2024-05-31T18:29:19.843126Z",
     "shell.execute_reply": "2024-05-31T18:29:19.842393Z"
    }
   },
   "outputs": [
    {
     "data": {
      "text/plain": [
       "<matplotlib.legend.Legend at 0x7f24980497f0>"
      ]
     },
     "execution_count": 55,
     "metadata": {},
     "output_type": "execute_result"
    },
    {
     "data": {
      "image/png": "[encoded data removed]",
      "text/plain": [
       "<Figure size 640x480 with 1 Axes>"
      ]
     },
     "metadata": {},
     "output_type": "display_data"
    }
   ],
   "source": [
    "plt.plot(ts_entry[-150:].to_timestamp())\n",
    "forecast_entry.plot(show_label=True)\n",
    "plt.legend()"
   ]
  },
  {
   "cell_type": "markdown",
   "id": "582157b9",
   "metadata": {},
   "source": [
    "### Compute metrics\n",
    "\n",
    "We can also evaluate the quality of our forecasts numerically. In GluonTS, the `Evaluator` class can compute aggregate performance metrics, as well as metrics per time series (which can be useful for analyzing performance across heterogeneous time series)."
   ]
  },
  {
   "cell_type": "code",
   "execution_count": 56,
   "id": "48d96f60",
   "metadata": {
    "execution": {
     "iopub.execute_input": "2024-05-31T18:29:19.845705Z",
     "iopub.status.busy": "2024-05-31T18:29:19.845278Z",
     "iopub.status.idle": "2024-05-31T18:29:19.848811Z",
     "shell.execute_reply": "2024-05-31T18:29:19.848112Z"
    }
   },
   "outputs": [],
   "source": [
    "from gluonts.evaluation import Evaluator"
   ]
  },
  {
   "cell_type": "code",
   "execution_count": 57,
   "id": "49bf17b9",
   "metadata": {
    "execution": {
     "iopub.execute_input": "2024-05-31T18:29:19.851259Z",
     "iopub.status.busy": "2024-05-31T18:29:19.850860Z",
     "iopub.status.idle": "2024-05-31T18:29:20.113670Z",
     "shell.execute_reply": "2024-05-31T18:29:20.112979Z"
    }
   },
   "outputs": [
    {
     "name": "stderr",
     "output_type": "stream",
     "text": [
      "\r",
      "Running evaluation: 0it [00:00, ?it/s]"
     ]
    },
    {
     "name": "stderr",
     "output_type": "stream",
     "text": [
      "\r",
      "Running evaluation: 100it [00:00, 2858.91it/s]"
     ]
    },
    {
     "name": "stderr",
     "output_type": "stream",
     "text": [
      "\n"
     ]
    }
   ],
   "source": [
    "evaluator = Evaluator(quantiles=[0.1, 0.5, 0.9])\n",
    "agg_metrics, item_metrics = evaluator(tss, forecasts)"
   ]
  },
  {
   "cell_type": "markdown",
   "id": "50c7ef9e",
   "metadata": {},
   "source": [
    "Aggregate metrics aggregate both across time-steps and across time series."
   ]
  },
  {
   "cell_type": "code",
   "execution_count": 58,
   "id": "d6d127c4",
   "metadata": {
    "execution": {
     "iopub.execute_input": "2024-05-31T18:29:20.116956Z",
     "iopub.status.busy": "2024-05-31T18:29:20.116591Z",
     "iopub.status.idle": "2024-05-31T18:29:20.121349Z",
     "shell.execute_reply": "2024-05-31T18:29:20.120557Z"
    }
   },
   "outputs": [
    {
     "name": "stdout",
     "output_type": "stream",
     "text": [
      "{\n",
      "    \"MSE\": 0.11030595362186432,\n",
      "    \"abs_error\": 631.219958782196,\n",
      "    \"abs_target_sum\": 2505.765546798706,\n",
      "    \"abs_target_mean\": 1.044068977832794,\n",
      "    \"seasonal_error\": 0.3378558193842571,\n",
      "    \"MASE\": 0.7856021114063411,\n",
      "    \"MAPE\": 2.2423562081654866,\n",
      "    \"sMAPE\": 0.5366955331961314,\n",
      "    \"MSIS\": 5.561884554254895,\n",
      "    \"num_masked_target_values\": 0.0,\n",
      "    \"QuantileLoss[0.1]\": 274.70157045163216,\n",
      "    \"Coverage[0.1]\": 0.09208333333333334,\n",
      "    \"QuantileLoss[0.5]\": 631.2199574247934,\n",
      "    \"Coverage[0.5]\": 0.4904166666666667,\n",
      "    \"QuantileLoss[0.9]\": 295.76119372472164,\n",
      "    \"Coverage[0.9]\": 0.8820833333333331,\n",
      "    \"RMSE\": 0.332123401195797,\n",
      "    \"NRMSE\": 0.3181048457978281,\n",
      "    \"ND\": 0.2519070308028716,\n",
      "    \"wQuantileLoss[0.1]\": 0.10962780249037385,\n",
      "    \"wQuantileLoss[0.5]\": 0.25190703026115985,\n",
      "    \"wQuantileLoss[0.9]\": 0.11803226926101591,\n",
      "    \"mean_absolute_QuantileLoss\": 400.5609072003824,\n",
      "    \"mean_wQuantileLoss\": 0.15985570067084987,\n",
      "    \"MAE_Coverage\": 0.39402777777777764,\n",
      "    \"OWA\": NaN\n",
      "}\n"
     ]
    }
   ],
   "source": [
    "print(json.dumps(agg_metrics, indent=4))"
   ]
  },
  {
   "cell_type": "markdown",
   "id": "f35d4906",
   "metadata": {},
   "source": [
    "Individual metrics are aggregated only across time-steps."
   ]
  },
  {
   "cell_type": "code",
   "execution_count": 59,
   "id": "22c390da",
   "metadata": {
    "execution": {
     "iopub.execute_input": "2024-05-31T18:29:20.123903Z",
     "iopub.status.busy": "2024-05-31T18:29:20.123457Z",
     "iopub.status.idle": "2024-05-31T18:29:20.140272Z",
     "shell.execute_reply": "2024-05-31T18:29:20.139618Z"
    }
   },
   "outputs": [
    {
     "data": {
      "text/html": [
       "<div>\n",
       "<style scoped>\n",
       "    .dataframe tbody tr th:only-of-type {\n",
       "        vertical-align: middle;\n",
       "    }\n",
       "\n",
       "    .dataframe tbody tr th {\n",
       "        vertical-align: top;\n",
       "    }\n",
       "\n",
       "    .dataframe thead th {\n",
       "        text-align: right;\n",
       "    }\n",
       "</style>\n",
       "<table border=\"1\" class=\"dataframe\">\n",
       "  <thead>\n",
       "    <tr style=\"text-align: right;\">\n",
       "      <th></th>\n",
       "      <th>item_id</th>\n",
       "      <th>forecast_start</th>\n",
       "      <th>MSE</th>\n",
       "      <th>abs_error</th>\n",
       "      <th>abs_target_sum</th>\n",
       "      <th>abs_target_mean</th>\n",
       "      <th>seasonal_error</th>\n",
       "      <th>MASE</th>\n",
       "      <th>MAPE</th>\n",
       "      <th>sMAPE</th>\n",
       "      <th>num_masked_target_values</th>\n",
       "      <th>ND</th>\n",
       "      <th>MSIS</th>\n",
       "      <th>QuantileLoss[0.1]</th>\n",
       "      <th>Coverage[0.1]</th>\n",
       "      <th>QuantileLoss[0.5]</th>\n",
       "      <th>Coverage[0.5]</th>\n",
       "      <th>QuantileLoss[0.9]</th>\n",
       "      <th>Coverage[0.9]</th>\n",
       "    </tr>\n",
       "  </thead>\n",
       "  <tbody>\n",
       "    <tr>\n",
       "      <th>0</th>\n",
       "      <td>None</td>\n",
       "      <td>2019-01-07 00:00</td>\n",
       "      <td>0.123998</td>\n",
       "      <td>7.011340</td>\n",
       "      <td>24.638548</td>\n",
       "      <td>1.026606</td>\n",
       "      <td>0.351642</td>\n",
       "      <td>0.830787</td>\n",
       "      <td>0.627694</td>\n",
       "      <td>0.607183</td>\n",
       "      <td>0.0</td>\n",
       "      <td>0.284568</td>\n",
       "      <td>5.906248</td>\n",
       "      <td>2.286915</td>\n",
       "      <td>0.083333</td>\n",
       "      <td>7.011340</td>\n",
       "      <td>0.541667</td>\n",
       "      <td>3.406847</td>\n",
       "      <td>0.875000</td>\n",
       "    </tr>\n",
       "    <tr>\n",
       "      <th>1</th>\n",
       "      <td>None</td>\n",
       "      <td>2019-01-07 00:00</td>\n",
       "      <td>0.109331</td>\n",
       "      <td>5.898170</td>\n",
       "      <td>22.178631</td>\n",
       "      <td>0.924110</td>\n",
       "      <td>0.340241</td>\n",
       "      <td>0.722302</td>\n",
       "      <td>1.439482</td>\n",
       "      <td>0.555920</td>\n",
       "      <td>0.0</td>\n",
       "      <td>0.265939</td>\n",
       "      <td>5.646115</td>\n",
       "      <td>2.598318</td>\n",
       "      <td>0.083333</td>\n",
       "      <td>5.898170</td>\n",
       "      <td>0.666667</td>\n",
       "      <td>3.049512</td>\n",
       "      <td>0.916667</td>\n",
       "    </tr>\n",
       "    <tr>\n",
       "      <th>2</th>\n",
       "      <td>None</td>\n",
       "      <td>2019-01-07 00:00</td>\n",
       "      <td>0.150442</td>\n",
       "      <td>6.913772</td>\n",
       "      <td>26.601139</td>\n",
       "      <td>1.108381</td>\n",
       "      <td>0.323560</td>\n",
       "      <td>0.890326</td>\n",
       "      <td>0.419949</td>\n",
       "      <td>0.536978</td>\n",
       "      <td>0.0</td>\n",
       "      <td>0.259905</td>\n",
       "      <td>6.923015</td>\n",
       "      <td>3.400284</td>\n",
       "      <td>0.125000</td>\n",
       "      <td>6.913772</td>\n",
       "      <td>0.500000</td>\n",
       "      <td>3.971697</td>\n",
       "      <td>0.791667</td>\n",
       "    </tr>\n",
       "    <tr>\n",
       "      <th>3</th>\n",
       "      <td>None</td>\n",
       "      <td>2019-01-07 00:00</td>\n",
       "      <td>0.124376</td>\n",
       "      <td>6.302595</td>\n",
       "      <td>22.502333</td>\n",
       "      <td>0.937597</td>\n",
       "      <td>0.311026</td>\n",
       "      <td>0.844329</td>\n",
       "      <td>1.099858</td>\n",
       "      <td>0.609671</td>\n",
       "      <td>0.0</td>\n",
       "      <td>0.280086</td>\n",
       "      <td>7.677102</td>\n",
       "      <td>3.067686</td>\n",
       "      <td>0.208333</td>\n",
       "      <td>6.302595</td>\n",
       "      <td>0.583333</td>\n",
       "      <td>3.414130</td>\n",
       "      <td>0.958333</td>\n",
       "    </tr>\n",
       "    <tr>\n",
       "      <th>4</th>\n",
       "      <td>None</td>\n",
       "      <td>2019-01-07 00:00</td>\n",
       "      <td>0.073736</td>\n",
       "      <td>4.519842</td>\n",
       "      <td>25.864388</td>\n",
       "      <td>1.077683</td>\n",
       "      <td>0.313119</td>\n",
       "      <td>0.601453</td>\n",
       "      <td>0.920273</td>\n",
       "      <td>0.425719</td>\n",
       "      <td>0.0</td>\n",
       "      <td>0.174752</td>\n",
       "      <td>6.257542</td>\n",
       "      <td>2.332712</td>\n",
       "      <td>0.041667</td>\n",
       "      <td>4.519842</td>\n",
       "      <td>0.500000</td>\n",
       "      <td>2.810995</td>\n",
       "      <td>0.916667</td>\n",
       "    </tr>\n",
       "  </tbody>\n",
       "</table>\n",
       "</div>"
      ],
      "text/plain": [
       "  item_id    forecast_start       MSE  abs_error  abs_target_sum  \\\n",
       "0    None  2019-01-07 00:00  0.123998   7.011340       24.638548   \n",
       "1    None  2019-01-07 00:00  0.109331   5.898170       22.178631   \n",
       "2    None  2019-01-07 00:00  0.150442   6.913772       26.601139   \n",
       "3    None  2019-01-07 00:00  0.124376   6.302595       22.502333   \n",
       "4    None  2019-01-07 00:00  0.073736   4.519842       25.864388   \n",
       "\n",
       "   abs_target_mean  seasonal_error      MASE      MAPE     sMAPE  \\\n",
       "0         1.026606        0.351642  0.830787  0.627694  0.607183   \n",
       "1         0.924110        0.340241  0.722302  1.439482  0.555920   \n",
       "2         1.108381        0.323560  0.890326  0.419949  0.536978   \n",
       "3         0.937597        0.311026  0.844329  1.099858  0.609671   \n",
       "4         1.077683        0.313119  0.601453  0.920273  0.425719   \n",
       "\n",
       "   num_masked_target_values        ND      MSIS  QuantileLoss[0.1]  \\\n",
       "0                       0.0  0.284568  5.906248           2.286915   \n",
       "1                       0.0  0.265939  5.646115           2.598318   \n",
       "2                       0.0  0.259905  6.923015           3.400284   \n",
       "3                       0.0  0.280086  7.677102           3.067686   \n",
       "4                       0.0  0.174752  6.257542           2.332712   \n",
       "\n",
       "   Coverage[0.1]  QuantileLoss[0.5]  Coverage[0.5]  QuantileLoss[0.9]  \\\n",
       "0       0.083333           7.011340       0.541667           3.406847   \n",
       "1       0.083333           5.898170       0.666667           3.049512   \n",
       "2       0.125000           6.913772       0.500000           3.971697   \n",
       "3       0.208333           6.302595       0.583333           3.414130   \n",
       "4       0.041667           4.519842       0.500000           2.810995   \n",
       "\n",
       "   Coverage[0.9]  \n",
       "0       0.875000  \n",
       "1       0.916667  \n",
       "2       0.791667  \n",
       "3       0.958333  \n",
       "4       0.916667  "
      ]
     },
     "execution_count": 59,
     "metadata": {},
     "output_type": "execute_result"
    }
   ],
   "source": [
    "item_metrics.head()"
   ]
  },
  {
   "cell_type": "code",
   "execution_count": 60,
   "id": "5bf21ea6",
   "metadata": {
    "execution": {
     "iopub.execute_input": "2024-05-31T18:29:20.142584Z",
     "iopub.status.busy": "2024-05-31T18:29:20.142232Z",
     "iopub.status.idle": "2024-05-31T18:29:20.303381Z",
     "shell.execute_reply": "2024-05-31T18:29:20.302701Z"
    }
   },
   "outputs": [
    {
     "data": {
      "image/png": "[encoded data removed]",
      "text/plain": [
       "<Figure size 640x480 with 1 Axes>"
      ]
     },
     "metadata": {},
     "output_type": "display_data"
    }
   ],
   "source": [
    "item_metrics.plot(x=\"MSIS\", y=\"MASE\", kind=\"scatter\")\n",
    "plt.grid(which=\"both\")\n",
    "plt.show()"
   ]
  },
  {
   "cell_type": "markdown",
   "id": "a61342d0",
   "metadata": {},
   "source": [
    "## Create your own model\n",
    "\n",
    "For creating our own forecast model we need to:\n",
    "\n",
    "- Define the training and prediction network\n",
    "- Define a new estimator that specifies any data processing and uses the networks\n",
    "\n",
    "The training and prediction networks can be arbitrarily complex but they should follow some basic rules:\n",
    "\n",
    "- Both should have a `hybrid_forward` method that defines what should happen when the network is called    \n",
    "- The training network's `hybrid_forward` should return a **loss** based on the prediction and the true values\n",
    "- The prediction network's `hybrid_forward` should return the predictions \n",
    "\n",
    "The estimator should also include the following methods:\n",
    "\n",
    "- `create_transformation`, defining all the data pre-processing transformations (like adding features)\n",
    "- `create_training_data_loader`, constructing the data loader that gives batches to be used in training, out of a given dataset\n",
    "- `create_training_network`, returning the training network configured with any necessary hyperparameters\n",
    "- `create_predictor`, creating the prediction network, and returning a `Predictor` object \n",
    "\n",
    "If a validation dataset is to be accepted, for some validation metric to be computed, then also the following should be defined:\n",
    "\n",
    "- `create_validation_data_loader`\n",
    "\n",
    "A `Predictor` defines the `predictor.predict` method of a given predictor. This method takes the test dataset, it passes it through the prediction network to take the predictions, and yields the predictions. You can think of the `Predictor` object as a wrapper of the prediction network that defines its `predict` method. \n",
    "\n",
    "In this section, we will start simple by creating a feedforward network that is restricted to point forecasts. Then, we will add complexity to the network by expanding it to probabilistic forecasting, considering features and scaling of the time series, and in the end we will replace it with an RNN.\n",
    "\n",
    "We need to emphasize that the way the following models are implemented and all the design choices that are made are neither binding nor necessarily optimal. Their sole purpose is to provide guidelines and hints on how to build a model. \n",
    "\n",
    "### Point forecasts with a simple feedforward network\n",
    "\n",
    "We can create a simple training network that defines a neural network that takes as input a window of length `context_length` and predicts the subsequent window of dimension `prediction_length` (thus, the output dimension of the network is `prediction_length`). The `hybrid_forward` method of the training network returns the mean of the L1 loss. \n",
    "\n",
    "The prediction network is (and should be) identical to the training network (by inheriting the class) and its `hybrid_forward` method returns the predictions."
   ]
  },
  {
   "cell_type": "code",
   "execution_count": 61,
   "id": "6d23a2cc",
   "metadata": {
    "execution": {
     "iopub.execute_input": "2024-05-31T18:29:20.305897Z",
     "iopub.status.busy": "2024-05-31T18:29:20.305498Z",
     "iopub.status.idle": "2024-05-31T18:29:20.311824Z",
     "shell.execute_reply": "2024-05-31T18:29:20.311106Z"
    }
   },
   "outputs": [],
   "source": [
    "class MyNetwork(gluon.HybridBlock):\n",
    "    def __init__(self, prediction_length, num_cells, **kwargs):\n",
    "        super().__init__(**kwargs)\n",
    "        self.prediction_length = prediction_length\n",
    "        self.num_cells = num_cells\n",
    "\n",
    "        with self.name_scope():\n",
    "            # Set up a 3 layer neural network that directly predicts the target values\n",
    "            self.nn = mx.gluon.nn.HybridSequential()\n",
    "            self.nn.add(mx.gluon.nn.Dense(units=self.num_cells, activation=\"relu\"))\n",
    "            self.nn.add(mx.gluon.nn.Dense(units=self.num_cells, activation=\"relu\"))\n",
    "            self.nn.add(\n",
    "                mx.gluon.nn.Dense(units=self.prediction_length, activation=\"softrelu\")\n",
    "            )\n",
    "\n",
    "\n",
    "class MyTrainNetwork(MyNetwork):\n",
    "    def hybrid_forward(self, F, past_target, future_target):\n",
    "        prediction = self.nn(past_target)\n",
    "        # calculate L1 loss with the future_target to learn the median\n",
    "        return (prediction - future_target).abs().mean(axis=-1)\n",
    "\n",
    "\n",
    "class MyPredNetwork(MyTrainNetwork):\n",
    "    # The prediction network only receives past_target and returns predictions\n",
    "    def hybrid_forward(self, F, past_target):\n",
    "        prediction = self.nn(past_target)\n",
    "        return prediction.expand_dims(axis=1)"
   ]
  },
  {
   "cell_type": "markdown",
   "id": "97c69e32",
   "metadata": {},
   "source": [
    "The estimator class is configured by a few hyperparameters and implements the required methods."
   ]
  },
  {
   "cell_type": "code",
   "execution_count": 62,
   "id": "32d0fd59",
   "metadata": {
    "execution": {
     "iopub.execute_input": "2024-05-31T18:29:20.314333Z",
     "iopub.status.busy": "2024-05-31T18:29:20.313944Z",
     "iopub.status.idle": "2024-05-31T18:29:20.318222Z",
     "shell.execute_reply": "2024-05-31T18:29:20.317501Z"
    }
   },
   "outputs": [],
   "source": [
    "from functools import partial\n",
    "from mxnet.gluon import HybridBlock\n",
    "from gluonts.core.component import validated\n",
    "from gluonts.dataset.loader import TrainDataLoader\n",
    "from gluonts.model.predictor import Predictor\n",
    "from gluonts.mx import (\n",
    "    batchify,\n",
    "    copy_parameters,\n",
    "    get_hybrid_forward_input_names,\n",
    "    GluonEstimator,\n",
    "    RepresentableBlockPredictor,\n",
    "    Trainer,\n",
    ")\n",
    "from gluonts.transform import (\n",
    "    ExpectedNumInstanceSampler,\n",
    "    Transformation,\n",
    "    InstanceSplitter,\n",
    "    TestSplitSampler,\n",
    "    SelectFields,\n",
    "    Chain,\n",
    ")"
   ]
  },
  {
   "cell_type": "code",
   "execution_count": 63,
   "id": "ed9d1ed6",
   "metadata": {
    "execution": {
     "iopub.execute_input": "2024-05-31T18:29:20.320862Z",
     "iopub.status.busy": "2024-05-31T18:29:20.320371Z",
     "iopub.status.idle": "2024-05-31T18:29:20.330543Z",
     "shell.execute_reply": "2024-05-31T18:29:20.329849Z"
    }
   },
   "outputs": [],
   "source": [
    "class MyEstimator(GluonEstimator):\n",
    "    @validated()\n",
    "    def __init__(\n",
    "        self,\n",
    "        prediction_length: int,\n",
    "        context_length: int,\n",
    "        num_cells: int,\n",
    "        batch_size: int = 32,\n",
    "        trainer: Trainer = Trainer(),\n",
    "    ) -> None:\n",
    "        super().__init__(trainer=trainer, batch_size=batch_size)\n",
    "        self.prediction_length = prediction_length\n",
    "        self.context_length = context_length\n",
    "        self.num_cells = num_cells\n",
    "\n",
    "    def create_transformation(self):\n",
    "        return Chain([])\n",
    "\n",
    "    def create_training_data_loader(self, dataset, **kwargs):\n",
    "        instance_splitter = InstanceSplitter(\n",
    "            target_field=FieldName.TARGET,\n",
    "            is_pad_field=FieldName.IS_PAD,\n",
    "            start_field=FieldName.START,\n",
    "            forecast_start_field=FieldName.FORECAST_START,\n",
    "            instance_sampler=ExpectedNumInstanceSampler(\n",
    "                num_instances=1, min_future=self.prediction_length\n",
    "            ),\n",
    "            past_length=self.context_length,\n",
    "            future_length=self.prediction_length,\n",
    "        )\n",
    "        input_names = get_hybrid_forward_input_names(MyTrainNetwork)\n",
    "        return TrainDataLoader(\n",
    "            dataset=dataset,\n",
    "            transform=instance_splitter + SelectFields(input_names),\n",
    "            batch_size=self.batch_size,\n",
    "            stack_fn=partial(batchify, ctx=self.trainer.ctx, dtype=self.dtype),\n",
    "            **kwargs,\n",
    "        )\n",
    "\n",
    "    def create_training_network(self) -> MyTrainNetwork:\n",
    "        return MyTrainNetwork(\n",
    "            prediction_length=self.prediction_length, num_cells=self.num_cells\n",
    "        )\n",
    "\n",
    "    def create_predictor(\n",
    "        self, transformation: Transformation, trained_network: HybridBlock\n",
    "    ) -> Predictor:\n",
    "        prediction_splitter = InstanceSplitter(\n",
    "            target_field=FieldName.TARGET,\n",
    "            is_pad_field=FieldName.IS_PAD,\n",
    "            start_field=FieldName.START,\n",
    "            forecast_start_field=FieldName.FORECAST_START,\n",
    "            instance_sampler=TestSplitSampler(),\n",
    "            past_length=self.context_length,\n",
    "            future_length=self.prediction_length,\n",
    "        )\n",
    "\n",
    "        prediction_network = MyPredNetwork(\n",
    "            prediction_length=self.prediction_length, num_cells=self.num_cells\n",
    "        )\n",
    "\n",
    "        copy_parameters(trained_network, prediction_network)\n",
    "\n",
    "        return RepresentableBlockPredictor(\n",
    "            input_transform=transformation + prediction_splitter,\n",
    "            prediction_net=prediction_network,\n",
    "            batch_size=self.batch_size,\n",
    "            prediction_length=self.prediction_length,\n",
    "            ctx=self.trainer.ctx,\n",
    "        )"
   ]
  },
  {
   "cell_type": "markdown",
   "id": "67ec6223",
   "metadata": {},
   "source": [
    "After defining the training and prediction network, as well as the estimator class, we can follow exactly the same steps as with the existing models, i.e., we can specify our estimator by passing all the required hyperparameters to the estimator class, train the estimator by invoking its `train` method to create a predictor, and finally use the `make_evaluation_predictions` function to generate our forecasts."
   ]
  },
  {
   "cell_type": "code",
   "execution_count": 64,
   "id": "6abed474",
   "metadata": {
    "execution": {
     "iopub.execute_input": "2024-05-31T18:29:20.332781Z",
     "iopub.status.busy": "2024-05-31T18:29:20.332570Z",
     "iopub.status.idle": "2024-05-31T18:29:20.336673Z",
     "shell.execute_reply": "2024-05-31T18:29:20.335989Z"
    }
   },
   "outputs": [],
   "source": [
    "estimator = MyEstimator(\n",
    "    prediction_length=custom_ds_metadata[\"prediction_length\"],\n",
    "    context_length=2 * custom_ds_metadata[\"prediction_length\"],\n",
    "    num_cells=40,\n",
    "    trainer=Trainer(\n",
    "        ctx=\"cpu\",\n",
    "        epochs=5,\n",
    "        learning_rate=1e-3,\n",
    "        hybridize=False,\n",
    "        num_batches_per_epoch=100,\n",
    "    ),\n",
    ")"
   ]
  },
  {
   "cell_type": "markdown",
   "id": "2729f3b9",
   "metadata": {},
   "source": [
    "The estimator can be trained using our training dataset `train_ds` just by invoking its `train` method. The training returns a predictor that can be used to predict."
   ]
  },
  {
   "cell_type": "code",
   "execution_count": 65,
   "id": "8bdd8665",
   "metadata": {
    "execution": {
     "iopub.execute_input": "2024-05-31T18:29:20.338739Z",
     "iopub.status.busy": "2024-05-31T18:29:20.338537Z",
     "iopub.status.idle": "2024-05-31T18:29:22.164108Z",
     "shell.execute_reply": "2024-05-31T18:29:22.163411Z"
    }
   },
   "outputs": [
    {
     "name": "stderr",
     "output_type": "stream",
     "text": [
      "\r",
      "  0%|          | 0/100 [00:00<?, ?it/s]"
     ]
    },
    {
     "name": "stderr",
     "output_type": "stream",
     "text": [
      "\r",
      "100%|██████████| 100/100 [00:00<00:00, 257.30it/s, epoch=1/5, avg_epoch_loss=0.48]"
     ]
    },
    {
     "name": "stderr",
     "output_type": "stream",
     "text": [
      "\n"
     ]
    },
    {
     "name": "stderr",
     "output_type": "stream",
     "text": [
      "\r",
      "  0%|          | 0/100 [00:00<?, ?it/s]"
     ]
    },
    {
     "name": "stderr",
     "output_type": "stream",
     "text": [
      "\r",
      "100%|██████████| 100/100 [00:00<00:00, 268.75it/s, epoch=2/5, avg_epoch_loss=0.319]"
     ]
    },
    {
     "name": "stderr",
     "output_type": "stream",
     "text": [
      "\n"
     ]
    },
    {
     "name": "stderr",
     "output_type": "stream",
     "text": [
      "\r",
      "  0%|          | 0/100 [00:00<?, ?it/s]"
     ]
    },
    {
     "name": "stderr",
     "output_type": "stream",
     "text": [
      "\r",
      "100%|██████████| 100/100 [00:00<00:00, 288.90it/s, epoch=3/5, avg_epoch_loss=0.302]"
     ]
    },
    {
     "name": "stderr",
     "output_type": "stream",
     "text": [
      "\n"
     ]
    },
    {
     "name": "stderr",
     "output_type": "stream",
     "text": [
      "\r",
      "  0%|          | 0/100 [00:00<?, ?it/s]"
     ]
    },
    {
     "name": "stderr",
     "output_type": "stream",
     "text": [
      "\r",
      "100%|██████████| 100/100 [00:00<00:00, 296.54it/s, epoch=4/5, avg_epoch_loss=0.289]"
     ]
    },
    {
     "name": "stderr",
     "output_type": "stream",
     "text": [
      "\n"
     ]
    },
    {
     "name": "stderr",
     "output_type": "stream",
     "text": [
      "\r",
      "  0%|          | 0/100 [00:00<?, ?it/s]"
     ]
    },
    {
     "name": "stderr",
     "output_type": "stream",
     "text": [
      "\r",
      "100%|██████████| 100/100 [00:00<00:00, 284.35it/s, epoch=5/5, avg_epoch_loss=0.288]"
     ]
    },
    {
     "name": "stderr",
     "output_type": "stream",
     "text": [
      "\n"
     ]
    }
   ],
   "source": [
    "predictor = estimator.train(train_ds)"
   ]
  },
  {
   "cell_type": "code",
   "execution_count": 66,
   "id": "15f98e34",
   "metadata": {
    "execution": {
     "iopub.execute_input": "2024-05-31T18:29:22.166543Z",
     "iopub.status.busy": "2024-05-31T18:29:22.166166Z",
     "iopub.status.idle": "2024-05-31T18:29:22.169635Z",
     "shell.execute_reply": "2024-05-31T18:29:22.168962Z"
    }
   },
   "outputs": [],
   "source": [
    "forecast_it, ts_it = make_evaluation_predictions(\n",
    "    dataset=test_ds,  # test dataset\n",
    "    predictor=predictor,  # predictor\n",
    "    num_samples=100,  # number of sample paths we want for evaluation\n",
    ")"
   ]
  },
  {
   "cell_type": "code",
   "execution_count": 67,
   "id": "a8fe05c9",
   "metadata": {
    "execution": {
     "iopub.execute_input": "2024-05-31T18:29:22.171961Z",
     "iopub.status.busy": "2024-05-31T18:29:22.171610Z",
     "iopub.status.idle": "2024-05-31T18:29:22.396615Z",
     "shell.execute_reply": "2024-05-31T18:29:22.396009Z"
    }
   },
   "outputs": [],
   "source": [
    "forecasts = list(forecast_it)\n",
    "tss = list(ts_it)"
   ]
  },
  {
   "cell_type": "code",
   "execution_count": 68,
   "id": "c6003d15",
   "metadata": {
    "execution": {
     "iopub.execute_input": "2024-05-31T18:29:22.399331Z",
     "iopub.status.busy": "2024-05-31T18:29:22.399109Z",
     "iopub.status.idle": "2024-05-31T18:29:22.689302Z",
     "shell.execute_reply": "2024-05-31T18:29:22.688598Z"
    }
   },
   "outputs": [
    {
     "data": {
      "text/plain": [
       "<matplotlib.legend.Legend at 0x7f2498018880>"
      ]
     },
     "execution_count": 68,
     "metadata": {},
     "output_type": "execute_result"
    },
    {
     "data": {
      "image/png": "[encoded data removed]",
      "text/plain": [
       "<Figure size 640x480 with 1 Axes>"
      ]
     },
     "metadata": {},
     "output_type": "display_data"
    }
   ],
   "source": [
    "plt.plot(tss[0][-150:].to_timestamp())\n",
    "forecasts[0].plot(show_label=True)\n",
    "plt.legend()"
   ]
  },
  {
   "cell_type": "markdown",
   "id": "d9138a0b",
   "metadata": {},
   "source": [
    "Observe that we cannot actually see any prediction intervals in the predictions. This is expected since the model that we defined does not do probabilistic forecasting but it just gives point estimates. By requiring 100 sample paths (defined in `make_evaluation_predictions`) in such a network, we get 100 times the same output.\n",
    "\n",
    "### Probabilistic forecasting\n",
    "\n",
    "#### How does a model learn a distribution?\n",
    "\n",
    "Probabilistic forecasting requires that we learn the distribution of the future values of the time series and not the values themselves as in point forecasting. To achieve this, we need to specify the type of distribution that the future values follow. GluonTS comes with a number of different distributions that cover many use cases, such as Gaussian, Student-t and Uniform just to name a few.  \n",
    "\n",
    "\n",
    "In order to learn a distribution we need to learn its parameters. For example, in the simple case where we assume a Gaussian distribution, we need to learn the mean and the variance that fully specify the distribution.\n",
    "\n",
    "Each distribution that is available in GluonTS is defined by the corresponding `Distribution` class (e.g., `Gaussian`). This class defines -among others- the parameters of the distribution, its (log-)likelihood and a sampling method (given the parameters). \n",
    "\n",
    "However, it is not straightforward how to connect a model with such a distribution and learn its parameters. For this, each distribution comes with a `DistributionOutput` class (e.g., `GaussianOutput`). The role of this class is to connect a model with a distribution. Its main usage is to take the output of the model and map it to the parameters of the distribution. You can think of it as an additional projection layer on top of the model. The parameters of this layer are optimized along with the rest of the network.\n",
    "\n",
    "By including this projection layer, our model effectively learns the parameters of the (chosen) distribution of each time step. Such a model is usually optimized by choosing as a loss function the negative log-likelihood of the chosen distribution. After we optimize our model and learn the parameters we can sample or derive any other useful statistics from the learned distributions.\n",
    "\n",
    "#### Feedforward network for probabilistic forecasting\n",
    "\n",
    "Let's see what changes we need to make to the previous model to make it probabilistic: \n",
    "\n",
    "- First, we need to change the output of the network. In the point forecast network the output was a vector of length `prediction_length` that gave directly the point estimates. Now, we need to output a set of features that the `DistributionOutput` will use to project to the distribution parameters. These features should be different for each time step at the prediction horizon. Therefore we need an overall output of `prediction_length * num_features` values.\n",
    "- The `DistributionOutput` takes as input a tensor and uses the last dimension as features to be projected to the distribution parameters. Here, we need a distribution object for each time step, i.e., `prediction_length` distribution objects. Given that the output of the network has `prediction_length * num_features` values, we can reshape it to `(prediction_length, num_features)` and get the required distributions, while the last axis of length `num_features` will be projected to the distribution parameters. \n",
    "- We want the prediction network to output many sample paths for each time series. To achieve this we can repeat each time series as many times as the number of sample paths and do a standard forecast for each of them. \n",
    "\n",
    "Note that in all the tensors that we handle there is an initial dimension that refers to the batch, e.g., the output of the network has dimension `(batch_size, prediction_length * num_features)`."
   ]
  },
  {
   "cell_type": "code",
   "execution_count": 69,
   "id": "f86ae998",
   "metadata": {
    "execution": {
     "iopub.execute_input": "2024-05-31T18:29:22.691760Z",
     "iopub.status.busy": "2024-05-31T18:29:22.691526Z",
     "iopub.status.idle": "2024-05-31T18:29:22.695161Z",
     "shell.execute_reply": "2024-05-31T18:29:22.694368Z"
    }
   },
   "outputs": [],
   "source": [
    "from gluonts.mx import DistributionOutput, GaussianOutput"
   ]
  },
  {
   "cell_type": "code",
   "execution_count": 70,
   "id": "32f6dbb5",
   "metadata": {
    "execution": {
     "iopub.execute_input": "2024-05-31T18:29:22.697408Z",
     "iopub.status.busy": "2024-05-31T18:29:22.697200Z",
     "iopub.status.idle": "2024-05-31T18:29:22.705624Z",
     "shell.execute_reply": "2024-05-31T18:29:22.704794Z"
    }
   },
   "outputs": [],
   "source": [
    "class MyProbNetwork(gluon.HybridBlock):\n",
    "    def __init__(\n",
    "        self, prediction_length, distr_output, num_cells, num_sample_paths=100, **kwargs\n",
    "    ) -> None:\n",
    "        super().__init__(**kwargs)\n",
    "        self.prediction_length = prediction_length\n",
    "        self.distr_output = distr_output\n",
    "        self.num_cells = num_cells\n",
    "        self.num_sample_paths = num_sample_paths\n",
    "        self.proj_distr_args = distr_output.get_args_proj()\n",
    "\n",
    "        with self.name_scope():\n",
    "            # Set up a 2 layer neural network that its ouput will be projected to the distribution parameters\n",
    "            self.nn = mx.gluon.nn.HybridSequential()\n",
    "            self.nn.add(mx.gluon.nn.Dense(units=self.num_cells, activation=\"relu\"))\n",
    "            self.nn.add(\n",
    "                mx.gluon.nn.Dense(\n",
    "                    units=self.prediction_length * self.num_cells, activation=\"relu\"\n",
    "                )\n",
    "            )\n",
    "\n",
    "\n",
    "class MyProbTrainNetwork(MyProbNetwork):\n",
    "    def hybrid_forward(self, F, past_target, future_target):\n",
    "        # compute network output\n",
    "        net_output = self.nn(past_target)\n",
    "\n",
    "        # (batch, prediction_length * nn_features)  ->  (batch, prediction_length, nn_features)\n",
    "        net_output = net_output.reshape(0, self.prediction_length, -1)\n",
    "\n",
    "        # project network output to distribution parameters domain\n",
    "        distr_args = self.proj_distr_args(net_output)\n",
    "\n",
    "        # compute distribution\n",
    "        distr = self.distr_output.distribution(distr_args)\n",
    "\n",
    "        # negative log-likelihood\n",
    "        loss = distr.loss(future_target)\n",
    "        return loss\n",
    "\n",
    "\n",
    "class MyProbPredNetwork(MyProbTrainNetwork):\n",
    "    # The prediction network only receives past_target and returns predictions\n",
    "    def hybrid_forward(self, F, past_target):\n",
    "        # repeat past target: from (batch_size, past_target_length) to\n",
    "        # (batch_size * num_sample_paths, past_target_length)\n",
    "        repeated_past_target = past_target.repeat(repeats=self.num_sample_paths, axis=0)\n",
    "\n",
    "        # compute network output\n",
    "        net_output = self.nn(repeated_past_target)\n",
    "\n",
    "        # (batch * num_sample_paths, prediction_length * nn_features)  ->  (batch * num_sample_paths, prediction_length, nn_features)\n",
    "        net_output = net_output.reshape(0, self.prediction_length, -1)\n",
    "\n",
    "        # project network output to distribution parameters domain\n",
    "        distr_args = self.proj_distr_args(net_output)\n",
    "\n",
    "        # compute distribution\n",
    "        distr = self.distr_output.distribution(distr_args)\n",
    "\n",
    "        # get (batch_size * num_sample_paths, prediction_length) samples\n",
    "        samples = distr.sample()\n",
    "\n",
    "        # reshape from (batch_size * num_sample_paths, prediction_length) to\n",
    "        # (batch_size, num_sample_paths, prediction_length)\n",
    "        return samples.reshape(\n",
    "            shape=(-1, self.num_sample_paths, self.prediction_length)\n",
    "        )"
   ]
  },
  {
   "cell_type": "markdown",
   "id": "5e939c72",
   "metadata": {},
   "source": [
    "The changes we need to do at the estimator are minor and they mainly reflect the additional `distr_output` parameter that our networks use."
   ]
  },
  {
   "cell_type": "code",
   "execution_count": 71,
   "id": "c0dda91c",
   "metadata": {
    "execution": {
     "iopub.execute_input": "2024-05-31T18:29:22.708019Z",
     "iopub.status.busy": "2024-05-31T18:29:22.707647Z",
     "iopub.status.idle": "2024-05-31T18:29:22.718306Z",
     "shell.execute_reply": "2024-05-31T18:29:22.717658Z"
    }
   },
   "outputs": [],
   "source": [
    "class MyProbEstimator(GluonEstimator):\n",
    "    @validated()\n",
    "    def __init__(\n",
    "        self,\n",
    "        prediction_length: int,\n",
    "        context_length: int,\n",
    "        distr_output: DistributionOutput,\n",
    "        num_cells: int,\n",
    "        num_sample_paths: int = 100,\n",
    "        batch_size: int = 32,\n",
    "        trainer: Trainer = Trainer(),\n",
    "    ) -> None:\n",
    "        super().__init__(trainer=trainer, batch_size=batch_size)\n",
    "        self.prediction_length = prediction_length\n",
    "        self.context_length = context_length\n",
    "        self.distr_output = distr_output\n",
    "        self.num_cells = num_cells\n",
    "        self.num_sample_paths = num_sample_paths\n",
    "\n",
    "    def create_transformation(self):\n",
    "        return Chain([])\n",
    "\n",
    "    def create_training_data_loader(self, dataset, **kwargs):\n",
    "        instance_splitter = InstanceSplitter(\n",
    "            target_field=FieldName.TARGET,\n",
    "            is_pad_field=FieldName.IS_PAD,\n",
    "            start_field=FieldName.START,\n",
    "            forecast_start_field=FieldName.FORECAST_START,\n",
    "            instance_sampler=ExpectedNumInstanceSampler(\n",
    "                num_instances=1, min_future=self.prediction_length\n",
    "            ),\n",
    "            past_length=self.context_length,\n",
    "            future_length=self.prediction_length,\n",
    "        )\n",
    "        input_names = get_hybrid_forward_input_names(MyProbTrainNetwork)\n",
    "        return TrainDataLoader(\n",
    "            dataset=dataset,\n",
    "            transform=instance_splitter + SelectFields(input_names),\n",
    "            batch_size=self.batch_size,\n",
    "            stack_fn=partial(batchify, ctx=self.trainer.ctx, dtype=self.dtype),\n",
    "            **kwargs,\n",
    "        )\n",
    "\n",
    "    def create_training_network(self) -> MyProbTrainNetwork:\n",
    "        return MyProbTrainNetwork(\n",
    "            prediction_length=self.prediction_length,\n",
    "            distr_output=self.distr_output,\n",
    "            num_cells=self.num_cells,\n",
    "            num_sample_paths=self.num_sample_paths,\n",
    "        )\n",
    "\n",
    "    def create_predictor(\n",
    "        self, transformation: Transformation, trained_network: HybridBlock\n",
    "    ) -> Predictor:\n",
    "        prediction_splitter = InstanceSplitter(\n",
    "            target_field=FieldName.TARGET,\n",
    "            is_pad_field=FieldName.IS_PAD,\n",
    "            start_field=FieldName.START,\n",
    "            forecast_start_field=FieldName.FORECAST_START,\n",
    "            instance_sampler=TestSplitSampler(),\n",
    "            past_length=self.context_length,\n",
    "            future_length=self.prediction_length,\n",
    "        )\n",
    "\n",
    "        prediction_network = MyProbPredNetwork(\n",
    "            prediction_length=self.prediction_length,\n",
    "            distr_output=self.distr_output,\n",
    "            num_cells=self.num_cells,\n",
    "            num_sample_paths=self.num_sample_paths,\n",
    "        )\n",
    "\n",
    "        copy_parameters(trained_network, prediction_network)\n",
    "\n",
    "        return RepresentableBlockPredictor(\n",
    "            input_transform=transformation + prediction_splitter,\n",
    "            prediction_net=prediction_network,\n",
    "            batch_size=self.batch_size,\n",
    "            prediction_length=self.prediction_length,\n",
    "            ctx=self.trainer.ctx,\n",
    "        )"
   ]
  },
  {
   "cell_type": "code",
   "execution_count": 72,
   "id": "9d75c0f0",
   "metadata": {
    "execution": {
     "iopub.execute_input": "2024-05-31T18:29:22.720873Z",
     "iopub.status.busy": "2024-05-31T18:29:22.720474Z",
     "iopub.status.idle": "2024-05-31T18:29:22.724763Z",
     "shell.execute_reply": "2024-05-31T18:29:22.724029Z"
    }
   },
   "outputs": [],
   "source": [
    "estimator = MyProbEstimator(\n",
    "    prediction_length=custom_ds_metadata[\"prediction_length\"],\n",
    "    context_length=2 * custom_ds_metadata[\"prediction_length\"],\n",
    "    distr_output=GaussianOutput(),\n",
    "    num_cells=40,\n",
    "    trainer=Trainer(\n",
    "        ctx=\"cpu\",\n",
    "        epochs=5,\n",
    "        learning_rate=1e-3,\n",
    "        hybridize=False,\n",
    "        num_batches_per_epoch=100,\n",
    "    ),\n",
    ")"
   ]
  },
  {
   "cell_type": "code",
   "execution_count": 73,
   "id": "87907377",
   "metadata": {
    "execution": {
     "iopub.execute_input": "2024-05-31T18:29:22.726930Z",
     "iopub.status.busy": "2024-05-31T18:29:22.726724Z",
     "iopub.status.idle": "2024-05-31T18:29:25.091897Z",
     "shell.execute_reply": "2024-05-31T18:29:25.091254Z"
    }
   },
   "outputs": [
    {
     "name": "stderr",
     "output_type": "stream",
     "text": [
      "\r",
      "  0%|          | 0/100 [00:00<?, ?it/s]"
     ]
    },
    {
     "name": "stderr",
     "output_type": "stream",
     "text": [
      "\r",
      "100%|██████████| 100/100 [00:00<00:00, 218.24it/s, epoch=1/5, avg_epoch_loss=0.793]"
     ]
    },
    {
     "name": "stderr",
     "output_type": "stream",
     "text": [
      "\n"
     ]
    },
    {
     "name": "stderr",
     "output_type": "stream",
     "text": [
      "\r",
      "  0%|          | 0/100 [00:00<?, ?it/s]"
     ]
    },
    {
     "name": "stderr",
     "output_type": "stream",
     "text": [
      "\r",
      "100%|██████████| 100/100 [00:00<00:00, 218.60it/s, epoch=2/5, avg_epoch_loss=0.399]"
     ]
    },
    {
     "name": "stderr",
     "output_type": "stream",
     "text": [
      "\n"
     ]
    },
    {
     "name": "stderr",
     "output_type": "stream",
     "text": [
      "\r",
      "  0%|          | 0/100 [00:00<?, ?it/s]"
     ]
    },
    {
     "name": "stderr",
     "output_type": "stream",
     "text": [
      "\r",
      "100%|██████████| 100/100 [00:00<00:00, 192.27it/s, epoch=3/5, avg_epoch_loss=0.371]"
     ]
    },
    {
     "name": "stderr",
     "output_type": "stream",
     "text": [
      "\n"
     ]
    },
    {
     "name": "stderr",
     "output_type": "stream",
     "text": [
      "\r",
      "  0%|          | 0/100 [00:00<?, ?it/s]"
     ]
    },
    {
     "name": "stderr",
     "output_type": "stream",
     "text": [
      "\r",
      "100%|██████████| 100/100 [00:00<00:00, 223.83it/s, epoch=4/5, avg_epoch_loss=0.351]"
     ]
    },
    {
     "name": "stderr",
     "output_type": "stream",
     "text": [
      "\n"
     ]
    },
    {
     "name": "stderr",
     "output_type": "stream",
     "text": [
      "\r",
      "  0%|          | 0/100 [00:00<?, ?it/s]"
     ]
    },
    {
     "name": "stderr",
     "output_type": "stream",
     "text": [
      "\r",
      "100%|██████████| 100/100 [00:00<00:00, 222.29it/s, epoch=5/5, avg_epoch_loss=0.343]"
     ]
    },
    {
     "name": "stderr",
     "output_type": "stream",
     "text": [
      "\n"
     ]
    }
   ],
   "source": [
    "predictor = estimator.train(train_ds)"
   ]
  },
  {
   "cell_type": "code",
   "execution_count": 74,
   "id": "387d273d",
   "metadata": {
    "execution": {
     "iopub.execute_input": "2024-05-31T18:29:25.094274Z",
     "iopub.status.busy": "2024-05-31T18:29:25.094061Z",
     "iopub.status.idle": "2024-05-31T18:29:25.097686Z",
     "shell.execute_reply": "2024-05-31T18:29:25.096982Z"
    }
   },
   "outputs": [],
   "source": [
    "forecast_it, ts_it = make_evaluation_predictions(\n",
    "    dataset=test_ds,  # test dataset\n",
    "    predictor=predictor,  # predictor\n",
    "    num_samples=100,  # number of sample paths we want for evaluation\n",
    ")"
   ]
  },
  {
   "cell_type": "code",
   "execution_count": 75,
   "id": "51878d96",
   "metadata": {
    "execution": {
     "iopub.execute_input": "2024-05-31T18:29:25.100166Z",
     "iopub.status.busy": "2024-05-31T18:29:25.099691Z",
     "iopub.status.idle": "2024-05-31T18:29:25.149527Z",
     "shell.execute_reply": "2024-05-31T18:29:25.148768Z"
    }
   },
   "outputs": [],
   "source": [
    "forecasts = list(forecast_it)\n",
    "tss = list(ts_it)"
   ]
  },
  {
   "cell_type": "code",
   "execution_count": 76,
   "id": "4217d7ff",
   "metadata": {
    "execution": {
     "iopub.execute_input": "2024-05-31T18:29:25.152486Z",
     "iopub.status.busy": "2024-05-31T18:29:25.152093Z",
     "iopub.status.idle": "2024-05-31T18:29:25.365249Z",
     "shell.execute_reply": "2024-05-31T18:29:25.364549Z"
    }
   },
   "outputs": [
    {
     "data": {
      "text/plain": [
       "<matplotlib.legend.Legend at 0x7f249808ac40>"
      ]
     },
     "execution_count": 76,
     "metadata": {},
     "output_type": "execute_result"
    },
    {
     "data": {
      "image/png": "[encoded data removed]",
      "text/plain": [
       "<Figure size 640x480 with 1 Axes>"
      ]
     },
     "metadata": {},
     "output_type": "display_data"
    }
   ],
   "source": [
    "plt.plot(tss[0][-150:].to_timestamp())\n",
    "forecasts[0].plot(show_label=True)\n",
    "plt.legend()"
   ]
  },
  {
   "cell_type": "markdown",
   "id": "4727503b",
   "metadata": {},
   "source": [
    "### Add features and scaling\n",
    "\n",
    "In the previous networks we used only the target and did not leverage any of the features of the dataset. Here we expand the probabilistic network by including the `feat_dynamic_real` field of the dataset that could enhance the forecasting power of our model. We achieve this by concatenating the target and the features to an enhanced vector that forms the new network input. \n",
    "\n",
    "All the features that are available in a dataset can be potentially used as inputs to our model. However, for the purposes of this example we will restrict ourselves to using only one feature.\n",
    "\n",
    "An important issue that a practitioner needs to deal with often is the different orders of magnitude in the values of the time series in a dataset. It is extremely helpful for a model to be trained and forecast values that lie roughly in the same value range. To address this issue, we add a `Scaler` to out model, that computes the scale of each time series. Then we can scale accordingly the values of the time series or any related features and use these as inputs to the network."
   ]
  },
  {
   "cell_type": "code",
   "execution_count": 77,
   "id": "b0f9b4f4",
   "metadata": {
    "execution": {
     "iopub.execute_input": "2024-05-31T18:29:25.367710Z",
     "iopub.status.busy": "2024-05-31T18:29:25.367291Z",
     "iopub.status.idle": "2024-05-31T18:29:25.370712Z",
     "shell.execute_reply": "2024-05-31T18:29:25.369952Z"
    }
   },
   "outputs": [],
   "source": [
    "from gluonts.mx import MeanScaler, NOPScaler"
   ]
  },
  {
   "cell_type": "code",
   "execution_count": 78,
   "id": "a2ee2b37",
   "metadata": {
    "execution": {
     "iopub.execute_input": "2024-05-31T18:29:25.373252Z",
     "iopub.status.busy": "2024-05-31T18:29:25.372864Z",
     "iopub.status.idle": "2024-05-31T18:29:25.385144Z",
     "shell.execute_reply": "2024-05-31T18:29:25.384500Z"
    }
   },
   "outputs": [],
   "source": [
    "class MyProbNetwork(gluon.HybridBlock):\n",
    "    def __init__(\n",
    "        self,\n",
    "        prediction_length,\n",
    "        context_length,\n",
    "        distr_output,\n",
    "        num_cells,\n",
    "        num_sample_paths=100,\n",
    "        scaling=True,\n",
    "        **kwargs\n",
    "    ) -> None:\n",
    "        super().__init__(**kwargs)\n",
    "        self.prediction_length = prediction_length\n",
    "        self.context_length = context_length\n",
    "        self.distr_output = distr_output\n",
    "        self.num_cells = num_cells\n",
    "        self.num_sample_paths = num_sample_paths\n",
    "        self.proj_distr_args = distr_output.get_args_proj()\n",
    "        self.scaling = scaling\n",
    "\n",
    "        with self.name_scope():\n",
    "            # Set up a 2 layer neural network that its ouput will be projected to the distribution parameters\n",
    "            self.nn = mx.gluon.nn.HybridSequential()\n",
    "            self.nn.add(mx.gluon.nn.Dense(units=self.num_cells, activation=\"relu\"))\n",
    "            self.nn.add(\n",
    "                mx.gluon.nn.Dense(\n",
    "                    units=self.prediction_length * self.num_cells, activation=\"relu\"\n",
    "                )\n",
    "            )\n",
    "\n",
    "            if scaling:\n",
    "                self.scaler = MeanScaler(keepdims=True)\n",
    "            else:\n",
    "                self.scaler = NOPScaler(keepdims=True)\n",
    "\n",
    "    def compute_scale(self, past_target, past_observed_values):\n",
    "        # scale shape is (batch_size, 1)\n",
    "        _, scale = self.scaler(\n",
    "            past_target.slice_axis(axis=1, begin=-self.context_length, end=None),\n",
    "            past_observed_values.slice_axis(\n",
    "                axis=1, begin=-self.context_length, end=None\n",
    "            ),\n",
    "        )\n",
    "\n",
    "        return scale\n",
    "\n",
    "\n",
    "class MyProbTrainNetwork(MyProbNetwork):\n",
    "    def hybrid_forward(\n",
    "        self,\n",
    "        F,\n",
    "        past_target,\n",
    "        future_target,\n",
    "        past_observed_values,\n",
    "        past_feat_dynamic_real,\n",
    "    ):\n",
    "        # compute scale\n",
    "        scale = self.compute_scale(past_target, past_observed_values)\n",
    "\n",
    "        # scale target and time features\n",
    "        past_target_scale = F.broadcast_div(past_target, scale)\n",
    "        past_feat_dynamic_real_scale = F.broadcast_div(\n",
    "            past_feat_dynamic_real.squeeze(axis=-1), scale\n",
    "        )\n",
    "\n",
    "        # concatenate target and time features to use them as input to the network\n",
    "        net_input = F.concat(past_target_scale, past_feat_dynamic_real_scale, dim=-1)\n",
    "\n",
    "        # compute network output\n",
    "        net_output = self.nn(net_input)\n",
    "\n",
    "        # (batch, prediction_length * nn_features)  ->  (batch, prediction_length, nn_features)\n",
    "        net_output = net_output.reshape(0, self.prediction_length, -1)\n",
    "\n",
    "        # project network output to distribution parameters domain\n",
    "        distr_args = self.proj_distr_args(net_output)\n",
    "\n",
    "        # compute distribution\n",
    "        distr = self.distr_output.distribution(distr_args, scale=scale)\n",
    "\n",
    "        # negative log-likelihood\n",
    "        loss = distr.loss(future_target)\n",
    "        return loss\n",
    "\n",
    "\n",
    "class MyProbPredNetwork(MyProbTrainNetwork):\n",
    "    # The prediction network only receives past_target and returns predictions\n",
    "    def hybrid_forward(\n",
    "        self, F, past_target, past_observed_values, past_feat_dynamic_real\n",
    "    ):\n",
    "        # repeat fields: from (batch_size, past_target_length) to\n",
    "        # (batch_size * num_sample_paths, past_target_length)\n",
    "        repeated_past_target = past_target.repeat(repeats=self.num_sample_paths, axis=0)\n",
    "        repeated_past_observed_values = past_observed_values.repeat(\n",
    "            repeats=self.num_sample_paths, axis=0\n",
    "        )\n",
    "        repeated_past_feat_dynamic_real = past_feat_dynamic_real.repeat(\n",
    "            repeats=self.num_sample_paths, axis=0\n",
    "        )\n",
    "\n",
    "        # compute scale\n",
    "        scale = self.compute_scale(repeated_past_target, repeated_past_observed_values)\n",
    "\n",
    "        # scale repeated target and time features\n",
    "        repeated_past_target_scale = F.broadcast_div(repeated_past_target, scale)\n",
    "        repeated_past_feat_dynamic_real_scale = F.broadcast_div(\n",
    "            repeated_past_feat_dynamic_real.squeeze(axis=-1), scale\n",
    "        )\n",
    "\n",
    "        # concatenate target and time features to use them as input to the network\n",
    "        net_input = F.concat(\n",
    "            repeated_past_target_scale, repeated_past_feat_dynamic_real_scale, dim=-1\n",
    "        )\n",
    "\n",
    "        # compute network oputput\n",
    "        net_output = self.nn(net_input)\n",
    "\n",
    "        # (batch * num_sample_paths, prediction_length * nn_features)  ->  (batch * num_sample_paths, prediction_length, nn_features)\n",
    "        net_output = net_output.reshape(0, self.prediction_length, -1)\n",
    "\n",
    "        # project network output to distribution parameters domain\n",
    "        distr_args = self.proj_distr_args(net_output)\n",
    "\n",
    "        # compute distribution\n",
    "        distr = self.distr_output.distribution(distr_args, scale=scale)\n",
    "\n",
    "        # get (batch_size * num_sample_paths, prediction_length) samples\n",
    "        samples = distr.sample()\n",
    "\n",
    "        # reshape from (batch_size * num_sample_paths, prediction_length) to\n",
    "        # (batch_size, num_sample_paths, prediction_length)\n",
    "        return samples.reshape(\n",
    "            shape=(-1, self.num_sample_paths, self.prediction_length)\n",
    "        )"
   ]
  },
  {
   "cell_type": "code",
   "execution_count": 79,
   "id": "97f7f3fe",
   "metadata": {
    "execution": {
     "iopub.execute_input": "2024-05-31T18:29:25.387658Z",
     "iopub.status.busy": "2024-05-31T18:29:25.387227Z",
     "iopub.status.idle": "2024-05-31T18:29:25.398768Z",
     "shell.execute_reply": "2024-05-31T18:29:25.398052Z"
    }
   },
   "outputs": [],
   "source": [
    "class MyProbEstimator(GluonEstimator):\n",
    "    @validated()\n",
    "    def __init__(\n",
    "        self,\n",
    "        prediction_length: int,\n",
    "        context_length: int,\n",
    "        distr_output: DistributionOutput,\n",
    "        num_cells: int,\n",
    "        num_sample_paths: int = 100,\n",
    "        scaling: bool = True,\n",
    "        batch_size: int = 32,\n",
    "        trainer: Trainer = Trainer(),\n",
    "    ) -> None:\n",
    "        super().__init__(trainer=trainer, batch_size=batch_size)\n",
    "        self.prediction_length = prediction_length\n",
    "        self.context_length = context_length\n",
    "        self.distr_output = distr_output\n",
    "        self.num_cells = num_cells\n",
    "        self.num_sample_paths = num_sample_paths\n",
    "        self.scaling = scaling\n",
    "\n",
    "    def create_transformation(self):\n",
    "        # Feature transformation that the model uses for input.\n",
    "        return AddObservedValuesIndicator(\n",
    "            target_field=FieldName.TARGET,\n",
    "            output_field=FieldName.OBSERVED_VALUES,\n",
    "        )\n",
    "\n",
    "    def create_training_data_loader(self, dataset, **kwargs):\n",
    "        instance_splitter = InstanceSplitter(\n",
    "            target_field=FieldName.TARGET,\n",
    "            is_pad_field=FieldName.IS_PAD,\n",
    "            start_field=FieldName.START,\n",
    "            forecast_start_field=FieldName.FORECAST_START,\n",
    "            instance_sampler=ExpectedNumInstanceSampler(\n",
    "                num_instances=1, min_future=self.prediction_length\n",
    "            ),\n",
    "            past_length=self.context_length,\n",
    "            future_length=self.prediction_length,\n",
    "            time_series_fields=[\n",
    "                FieldName.FEAT_DYNAMIC_REAL,\n",
    "                FieldName.OBSERVED_VALUES,\n",
    "            ],\n",
    "        )\n",
    "        input_names = get_hybrid_forward_input_names(MyProbTrainNetwork)\n",
    "        return TrainDataLoader(\n",
    "            dataset=dataset,\n",
    "            transform=instance_splitter + SelectFields(input_names),\n",
    "            batch_size=self.batch_size,\n",
    "            stack_fn=partial(batchify, ctx=self.trainer.ctx, dtype=self.dtype),\n",
    "            **kwargs,\n",
    "        )\n",
    "\n",
    "    def create_training_network(self) -> MyProbTrainNetwork:\n",
    "        return MyProbTrainNetwork(\n",
    "            prediction_length=self.prediction_length,\n",
    "            context_length=self.context_length,\n",
    "            distr_output=self.distr_output,\n",
    "            num_cells=self.num_cells,\n",
    "            num_sample_paths=self.num_sample_paths,\n",
    "            scaling=self.scaling,\n",
    "        )\n",
    "\n",
    "    def create_predictor(\n",
    "        self, transformation: Transformation, trained_network: HybridBlock\n",
    "    ) -> Predictor:\n",
    "        prediction_splitter = InstanceSplitter(\n",
    "            target_field=FieldName.TARGET,\n",
    "            is_pad_field=FieldName.IS_PAD,\n",
    "            start_field=FieldName.START,\n",
    "            forecast_start_field=FieldName.FORECAST_START,\n",
    "            instance_sampler=TestSplitSampler(),\n",
    "            past_length=self.context_length,\n",
    "            future_length=self.prediction_length,\n",
    "            time_series_fields=[\n",
    "                FieldName.FEAT_DYNAMIC_REAL,\n",
    "                FieldName.OBSERVED_VALUES,\n",
    "            ],\n",
    "        )\n",
    "\n",
    "        prediction_network = MyProbPredNetwork(\n",
    "            prediction_length=self.prediction_length,\n",
    "            context_length=self.context_length,\n",
    "            distr_output=self.distr_output,\n",
    "            num_cells=self.num_cells,\n",
    "            num_sample_paths=self.num_sample_paths,\n",
    "            scaling=self.scaling,\n",
    "        )\n",
    "\n",
    "        copy_parameters(trained_network, prediction_network)\n",
    "\n",
    "        return RepresentableBlockPredictor(\n",
    "            input_transform=transformation + prediction_splitter,\n",
    "            prediction_net=prediction_network,\n",
    "            batch_size=self.batch_size,\n",
    "            prediction_length=self.prediction_length,\n",
    "            ctx=self.trainer.ctx,\n",
    "        )"
   ]
  },
  {
   "cell_type": "code",
   "execution_count": 80,
   "id": "dcd6ea78",
   "metadata": {
    "execution": {
     "iopub.execute_input": "2024-05-31T18:29:25.401205Z",
     "iopub.status.busy": "2024-05-31T18:29:25.400818Z",
     "iopub.status.idle": "2024-05-31T18:29:25.405051Z",
     "shell.execute_reply": "2024-05-31T18:29:25.404383Z"
    }
   },
   "outputs": [],
   "source": [
    "estimator = MyProbEstimator(\n",
    "    prediction_length=custom_ds_metadata[\"prediction_length\"],\n",
    "    context_length=2 * custom_ds_metadata[\"prediction_length\"],\n",
    "    distr_output=GaussianOutput(),\n",
    "    num_cells=40,\n",
    "    trainer=Trainer(\n",
    "        ctx=\"cpu\",\n",
    "        epochs=5,\n",
    "        learning_rate=1e-3,\n",
    "        hybridize=False,\n",
    "        num_batches_per_epoch=100,\n",
    "    ),\n",
    ")"
   ]
  },
  {
   "cell_type": "code",
   "execution_count": 81,
   "id": "6947edb7",
   "metadata": {
    "execution": {
     "iopub.execute_input": "2024-05-31T18:29:25.407512Z",
     "iopub.status.busy": "2024-05-31T18:29:25.407024Z",
     "iopub.status.idle": "2024-05-31T18:29:29.425666Z",
     "shell.execute_reply": "2024-05-31T18:29:29.424993Z"
    }
   },
   "outputs": [
    {
     "name": "stderr",
     "output_type": "stream",
     "text": [
      "\r",
      "  0%|          | 0/100 [00:00<?, ?it/s]"
     ]
    },
    {
     "name": "stderr",
     "output_type": "stream",
     "text": [
      "\r",
      "100%|██████████| 100/100 [00:00<00:00, 119.95it/s, epoch=1/5, avg_epoch_loss=0.967]"
     ]
    },
    {
     "name": "stderr",
     "output_type": "stream",
     "text": [
      "\n"
     ]
    },
    {
     "name": "stderr",
     "output_type": "stream",
     "text": [
      "\r",
      "  0%|          | 0/100 [00:00<?, ?it/s]"
     ]
    },
    {
     "name": "stderr",
     "output_type": "stream",
     "text": [
      "\r",
      "100%|██████████| 100/100 [00:00<00:00, 123.75it/s, epoch=2/5, avg_epoch_loss=0.536]"
     ]
    },
    {
     "name": "stderr",
     "output_type": "stream",
     "text": [
      "\n"
     ]
    },
    {
     "name": "stderr",
     "output_type": "stream",
     "text": [
      "\r",
      "  0%|          | 0/100 [00:00<?, ?it/s]"
     ]
    },
    {
     "name": "stderr",
     "output_type": "stream",
     "text": [
      "\r",
      "100%|██████████| 100/100 [00:00<00:00, 135.19it/s, epoch=3/5, avg_epoch_loss=0.483]"
     ]
    },
    {
     "name": "stderr",
     "output_type": "stream",
     "text": [
      "\n"
     ]
    },
    {
     "name": "stderr",
     "output_type": "stream",
     "text": [
      "\r",
      "  0%|          | 0/100 [00:00<?, ?it/s]"
     ]
    },
    {
     "name": "stderr",
     "output_type": "stream",
     "text": [
      "\r",
      "100%|██████████| 100/100 [00:00<00:00, 126.54it/s, epoch=4/5, avg_epoch_loss=0.455]"
     ]
    },
    {
     "name": "stderr",
     "output_type": "stream",
     "text": [
      "\n"
     ]
    },
    {
     "name": "stderr",
     "output_type": "stream",
     "text": [
      "\r",
      "  0%|          | 0/100 [00:00<?, ?it/s]"
     ]
    },
    {
     "name": "stderr",
     "output_type": "stream",
     "text": [
      "\r",
      "100%|██████████| 100/100 [00:00<00:00, 122.88it/s, epoch=5/5, avg_epoch_loss=0.431]"
     ]
    },
    {
     "name": "stderr",
     "output_type": "stream",
     "text": [
      "\n"
     ]
    }
   ],
   "source": [
    "predictor = estimator.train(train_ds)"
   ]
  },
  {
   "cell_type": "code",
   "execution_count": 82,
   "id": "4a8e133a",
   "metadata": {
    "execution": {
     "iopub.execute_input": "2024-05-31T18:29:29.428192Z",
     "iopub.status.busy": "2024-05-31T18:29:29.427826Z",
     "iopub.status.idle": "2024-05-31T18:29:29.431575Z",
     "shell.execute_reply": "2024-05-31T18:29:29.430758Z"
    }
   },
   "outputs": [],
   "source": [
    "forecast_it, ts_it = make_evaluation_predictions(\n",
    "    dataset=test_ds,  # test dataset\n",
    "    predictor=predictor,  # predictor\n",
    "    num_samples=100,  # number of sample paths we want for evaluation\n",
    ")"
   ]
  },
  {
   "cell_type": "code",
   "execution_count": 83,
   "id": "2474a4ef",
   "metadata": {
    "execution": {
     "iopub.execute_input": "2024-05-31T18:29:29.433955Z",
     "iopub.status.busy": "2024-05-31T18:29:29.433567Z",
     "iopub.status.idle": "2024-05-31T18:29:29.492500Z",
     "shell.execute_reply": "2024-05-31T18:29:29.491754Z"
    }
   },
   "outputs": [],
   "source": [
    "forecasts = list(forecast_it)\n",
    "tss = list(ts_it)"
   ]
  },
  {
   "cell_type": "code",
   "execution_count": 84,
   "id": "7b72755b",
   "metadata": {
    "execution": {
     "iopub.execute_input": "2024-05-31T18:29:29.495614Z",
     "iopub.status.busy": "2024-05-31T18:29:29.494996Z",
     "iopub.status.idle": "2024-05-31T18:29:29.716317Z",
     "shell.execute_reply": "2024-05-31T18:29:29.715567Z"
    }
   },
   "outputs": [
    {
     "data": {
      "text/plain": [
       "<matplotlib.legend.Legend at 0x7f24cf974ac0>"
      ]
     },
     "execution_count": 84,
     "metadata": {},
     "output_type": "execute_result"
    },
    {
     "data": {
      "image/png": "[encoded data removed]",
      "text/plain": [
       "<Figure size 640x480 with 1 Axes>"
      ]
     },
     "metadata": {},
     "output_type": "display_data"
    }
   ],
   "source": [
    "plt.plot(tss[0][-150:].to_timestamp())\n",
    "forecasts[0].plot(show_label=True)\n",
    "plt.legend()"
   ]
  },
  {
   "cell_type": "markdown",
   "id": "120e0ff5",
   "metadata": {},
   "source": [
    "### From feedforward to RNN\n",
    "\n",
    "In all the previous examples we have used a feedforward neural network as the base for our forecasting model. The main idea behind it was to use as an input to the network a window of the time series (of length `context_length`) and train the network to forecast the following window (of length `prediction_length`). \n",
    "\n",
    "In this section we will replace the feedforward network with a recurrent neural network (RNN). Due to the different nature of RNNs the structure of the networks will be a bit different. Let's see what are the major changes. \n",
    "\n",
    "#### Training\n",
    "\n",
    "The main idea behind RNN is the same as in the feedforward networks we already constructed: as we unroll the RNN at each time step we use as an input past values of the time series and forecast the next value. We can enhance the input by using multiple past values (for example specific lags based on seasonality patterns) or available features. However, in this example we will keep things simple and just use the last value of the time series. The output of the network at each time step is the distribution of the value of the next time step, where the state of the RNN is used as the feature vector for the parameter projection of the distribution.\n",
    "\n",
    "Due to the sequential nature of the RNN, the distinction between `past_` and `future_` in the cut window of the time series is not really necessary. Therefore, we can concatenate `past_target` and `future_target ` and treat it as a concrete `target` window that we wish to forecast. This means that the input to the RNN would be (sequentially) the window `target[-(context_length + prediction_length + 1):-1]` (one time step before the window we want to predict). As a consequence, we need to have `context_length + prediction_length + 1` available values at each window that we cut. We can define this in the `InstanceSplitter`. \n",
    "\n",
    "Overall, during training the steps are the following:\n",
    "\n",
    "- We pass sequentially through the RNN the target values `target[-(context_length + prediction_length + 1):-1]` \n",
    "- We use the state of the RNN at each time step as a feature vector and project it to the distribution parameter domain\n",
    "- The output at each time step is the distribution of the values of the next time step, which overall is the forecasted distribution for the window `target[-(context_length + prediction_length):]`\n",
    "\n",
    "The above steps are implemented in the `unroll_encoder` method.\n",
    "\n",
    "#### Inference\n",
    "\n",
    "During inference we know the values only of `past_target` therefore we cannot follow exactly the same steps as in training. However the main idea is very similar:\n",
    "\n",
    "- We pass sequentially through the RNN the past target values `past_target[-(context_length + 1):]` that effectively updates the state of the RNN\n",
    "- In the last time step the output of the RNN is effectively the distribution of the next value of the time series (which we do not know). Therefore we sample (`num_sample_paths` times) from this distribution and use the samples as inputs to the RNN for the next time step\n",
    "- We repeat the previous step `prediction_length` times \n",
    "\n",
    "The first step is implemented in `unroll_encoder` and the last steps in the `sample_decoder` method."
   ]
  },
  {
   "cell_type": "code",
   "execution_count": 85,
   "id": "57b7d27a",
   "metadata": {
    "execution": {
     "iopub.execute_input": "2024-05-31T18:29:29.718924Z",
     "iopub.status.busy": "2024-05-31T18:29:29.718697Z",
     "iopub.status.idle": "2024-05-31T18:29:29.735487Z",
     "shell.execute_reply": "2024-05-31T18:29:29.734745Z"
    }
   },
   "outputs": [],
   "source": [
    "class MyProbRNN(gluon.HybridBlock):\n",
    "    def __init__(\n",
    "        self,\n",
    "        prediction_length,\n",
    "        context_length,\n",
    "        distr_output,\n",
    "        num_cells,\n",
    "        num_layers,\n",
    "        num_sample_paths=100,\n",
    "        scaling=True,\n",
    "        **kwargs\n",
    "    ) -> None:\n",
    "        super().__init__(**kwargs)\n",
    "        self.prediction_length = prediction_length\n",
    "        self.context_length = context_length\n",
    "        self.distr_output = distr_output\n",
    "        self.num_cells = num_cells\n",
    "        self.num_layers = num_layers\n",
    "        self.num_sample_paths = num_sample_paths\n",
    "        self.proj_distr_args = distr_output.get_args_proj()\n",
    "        self.scaling = scaling\n",
    "\n",
    "        with self.name_scope():\n",
    "            self.rnn = mx.gluon.rnn.HybridSequentialRNNCell()\n",
    "            for k in range(self.num_layers):\n",
    "                cell = mx.gluon.rnn.LSTMCell(hidden_size=self.num_cells)\n",
    "                cell = mx.gluon.rnn.ResidualCell(cell) if k > 0 else cell\n",
    "                self.rnn.add(cell)\n",
    "\n",
    "            if scaling:\n",
    "                self.scaler = MeanScaler(keepdims=True)\n",
    "            else:\n",
    "                self.scaler = NOPScaler(keepdims=True)\n",
    "\n",
    "    def compute_scale(self, past_target, past_observed_values):\n",
    "        # scale is computed on the context length last units of the past target\n",
    "        # scale shape is (batch_size, 1, *target_shape)\n",
    "        _, scale = self.scaler(\n",
    "            past_target.slice_axis(axis=1, begin=-self.context_length, end=None),\n",
    "            past_observed_values.slice_axis(\n",
    "                axis=1, begin=-self.context_length, end=None\n",
    "            ),\n",
    "        )\n",
    "\n",
    "        return scale\n",
    "\n",
    "    def unroll_encoder(\n",
    "        self,\n",
    "        F,\n",
    "        past_target,\n",
    "        past_observed_values,\n",
    "        future_target=None,\n",
    "        future_observed_values=None,\n",
    "    ):\n",
    "        # overall target field\n",
    "        # input target from -(context_length + prediction_length + 1) to -1\n",
    "        if future_target is not None:  # during training\n",
    "            target_in = F.concat(past_target, future_target, dim=-1).slice_axis(\n",
    "                axis=1,\n",
    "                begin=-(self.context_length + self.prediction_length + 1),\n",
    "                end=-1,\n",
    "            )\n",
    "\n",
    "            # overall observed_values field\n",
    "            # input observed_values corresponding to target_in\n",
    "            observed_values_in = F.concat(\n",
    "                past_observed_values, future_observed_values, dim=-1\n",
    "            ).slice_axis(\n",
    "                axis=1,\n",
    "                begin=-(self.context_length + self.prediction_length + 1),\n",
    "                end=-1,\n",
    "            )\n",
    "\n",
    "            rnn_length = self.context_length + self.prediction_length\n",
    "        else:  # during inference\n",
    "            target_in = past_target.slice_axis(\n",
    "                axis=1, begin=-(self.context_length + 1), end=-1\n",
    "            )\n",
    "\n",
    "            # overall observed_values field\n",
    "            # input observed_values corresponding to target_in\n",
    "            observed_values_in = past_observed_values.slice_axis(\n",
    "                axis=1, begin=-(self.context_length + 1), end=-1\n",
    "            )\n",
    "\n",
    "            rnn_length = self.context_length\n",
    "\n",
    "        # compute scale\n",
    "        scale = self.compute_scale(target_in, observed_values_in)\n",
    "\n",
    "        # scale target_in\n",
    "        target_in_scale = F.broadcast_div(target_in, scale)\n",
    "\n",
    "        # compute network output\n",
    "        net_output, states = self.rnn.unroll(\n",
    "            inputs=target_in_scale,\n",
    "            length=rnn_length,\n",
    "            layout=\"NTC\",\n",
    "            merge_outputs=True,\n",
    "        )\n",
    "\n",
    "        return net_output, states, scale\n",
    "\n",
    "\n",
    "class MyProbTrainRNN(MyProbRNN):\n",
    "    def hybrid_forward(\n",
    "        self,\n",
    "        F,\n",
    "        past_target,\n",
    "        future_target,\n",
    "        past_observed_values,\n",
    "        future_observed_values,\n",
    "    ):\n",
    "        net_output, _, scale = self.unroll_encoder(\n",
    "            F, past_target, past_observed_values, future_target, future_observed_values\n",
    "        )\n",
    "\n",
    "        # output target from -(context_length + prediction_length) to end\n",
    "        target_out = F.concat(past_target, future_target, dim=-1).slice_axis(\n",
    "            axis=1, begin=-(self.context_length + self.prediction_length), end=None\n",
    "        )\n",
    "\n",
    "        # project network output to distribution parameters domain\n",
    "        distr_args = self.proj_distr_args(net_output)\n",
    "\n",
    "        # compute distribution\n",
    "        distr = self.distr_output.distribution(distr_args, scale=scale)\n",
    "\n",
    "        # negative log-likelihood\n",
    "        loss = distr.loss(target_out)\n",
    "        return loss\n",
    "\n",
    "\n",
    "class MyProbPredRNN(MyProbTrainRNN):\n",
    "    def sample_decoder(self, F, past_target, states, scale):\n",
    "        # repeat fields: from (batch_size, past_target_length) to\n",
    "        # (batch_size * num_sample_paths, past_target_length)\n",
    "        repeated_states = [\n",
    "            s.repeat(repeats=self.num_sample_paths, axis=0) for s in states\n",
    "        ]\n",
    "        repeated_scale = scale.repeat(repeats=self.num_sample_paths, axis=0)\n",
    "\n",
    "        # first decoder input is the last value of the past_target, i.e.,\n",
    "        # the previous value of the first time step we want to forecast\n",
    "        decoder_input = past_target.slice_axis(axis=1, begin=-1, end=None).repeat(\n",
    "            repeats=self.num_sample_paths, axis=0\n",
    "        )\n",
    "\n",
    "        # list with samples at each time step\n",
    "        future_samples = []\n",
    "\n",
    "        # for each future time step we draw new samples for this time step and update the state\n",
    "        # the drawn samples are the inputs to the rnn at the next time step\n",
    "        for k in range(self.prediction_length):\n",
    "            rnn_outputs, repeated_states = self.rnn.unroll(\n",
    "                inputs=decoder_input,\n",
    "                length=1,\n",
    "                begin_state=repeated_states,\n",
    "                layout=\"NTC\",\n",
    "                merge_outputs=True,\n",
    "            )\n",
    "\n",
    "            # project network output to distribution parameters domain\n",
    "            distr_args = self.proj_distr_args(rnn_outputs)\n",
    "\n",
    "            # compute distribution\n",
    "            distr = self.distr_output.distribution(distr_args, scale=repeated_scale)\n",
    "\n",
    "            # draw samples (batch_size * num_samples, 1)\n",
    "            new_samples = distr.sample()\n",
    "\n",
    "            # append the samples of the current time step\n",
    "            future_samples.append(new_samples)\n",
    "\n",
    "            # update decoder input for the next time step\n",
    "            decoder_input = new_samples\n",
    "\n",
    "        samples = F.concat(*future_samples, dim=1)\n",
    "\n",
    "        # (batch_size, num_samples, prediction_length)\n",
    "        return samples.reshape(\n",
    "            shape=(-1, self.num_sample_paths, self.prediction_length)\n",
    "        )\n",
    "\n",
    "    def hybrid_forward(self, F, past_target, past_observed_values):\n",
    "        # unroll encoder over context_length\n",
    "        net_output, states, scale = self.unroll_encoder(\n",
    "            F, past_target, past_observed_values\n",
    "        )\n",
    "\n",
    "        samples = self.sample_decoder(F, past_target, states, scale)\n",
    "\n",
    "        return samples"
   ]
  },
  {
   "cell_type": "code",
   "execution_count": 86,
   "id": "2c3a86e0",
   "metadata": {
    "execution": {
     "iopub.execute_input": "2024-05-31T18:29:29.738030Z",
     "iopub.status.busy": "2024-05-31T18:29:29.737643Z",
     "iopub.status.idle": "2024-05-31T18:29:29.749978Z",
     "shell.execute_reply": "2024-05-31T18:29:29.749168Z"
    }
   },
   "outputs": [],
   "source": [
    "class MyProbRNNEstimator(GluonEstimator):\n",
    "    @validated()\n",
    "    def __init__(\n",
    "        self,\n",
    "        prediction_length: int,\n",
    "        context_length: int,\n",
    "        distr_output: DistributionOutput,\n",
    "        num_cells: int,\n",
    "        num_layers: int,\n",
    "        num_sample_paths: int = 100,\n",
    "        scaling: bool = True,\n",
    "        batch_size: int = 32,\n",
    "        trainer: Trainer = Trainer(),\n",
    "    ) -> None:\n",
    "        super().__init__(trainer=trainer, batch_size=batch_size)\n",
    "        self.prediction_length = prediction_length\n",
    "        self.context_length = context_length\n",
    "        self.distr_output = distr_output\n",
    "        self.num_cells = num_cells\n",
    "        self.num_layers = num_layers\n",
    "        self.num_sample_paths = num_sample_paths\n",
    "        self.scaling = scaling\n",
    "\n",
    "    def create_transformation(self):\n",
    "        # Feature transformation that the model uses for input.\n",
    "        return AddObservedValuesIndicator(\n",
    "            target_field=FieldName.TARGET,\n",
    "            output_field=FieldName.OBSERVED_VALUES,\n",
    "        )\n",
    "\n",
    "    def create_training_data_loader(self, dataset, **kwargs):\n",
    "        instance_splitter = InstanceSplitter(\n",
    "            target_field=FieldName.TARGET,\n",
    "            is_pad_field=FieldName.IS_PAD,\n",
    "            start_field=FieldName.START,\n",
    "            forecast_start_field=FieldName.FORECAST_START,\n",
    "            instance_sampler=ExpectedNumInstanceSampler(\n",
    "                num_instances=1,\n",
    "                min_future=self.prediction_length,\n",
    "            ),\n",
    "            past_length=self.context_length + 1,\n",
    "            future_length=self.prediction_length,\n",
    "            time_series_fields=[\n",
    "                FieldName.FEAT_DYNAMIC_REAL,\n",
    "                FieldName.OBSERVED_VALUES,\n",
    "            ],\n",
    "        )\n",
    "        input_names = get_hybrid_forward_input_names(MyProbTrainRNN)\n",
    "        return TrainDataLoader(\n",
    "            dataset=dataset,\n",
    "            transform=instance_splitter + SelectFields(input_names),\n",
    "            batch_size=self.batch_size,\n",
    "            stack_fn=partial(batchify, ctx=self.trainer.ctx, dtype=self.dtype),\n",
    "            **kwargs,\n",
    "        )\n",
    "\n",
    "    def create_training_network(self) -> MyProbTrainRNN:\n",
    "        return MyProbTrainRNN(\n",
    "            prediction_length=self.prediction_length,\n",
    "            context_length=self.context_length,\n",
    "            distr_output=self.distr_output,\n",
    "            num_cells=self.num_cells,\n",
    "            num_layers=self.num_layers,\n",
    "            num_sample_paths=self.num_sample_paths,\n",
    "            scaling=self.scaling,\n",
    "        )\n",
    "\n",
    "    def create_predictor(\n",
    "        self, transformation: Transformation, trained_network: HybridBlock\n",
    "    ) -> Predictor:\n",
    "        prediction_splitter = InstanceSplitter(\n",
    "            target_field=FieldName.TARGET,\n",
    "            is_pad_field=FieldName.IS_PAD,\n",
    "            start_field=FieldName.START,\n",
    "            forecast_start_field=FieldName.FORECAST_START,\n",
    "            instance_sampler=TestSplitSampler(),\n",
    "            past_length=self.context_length + 1,\n",
    "            future_length=self.prediction_length,\n",
    "            time_series_fields=[\n",
    "                FieldName.FEAT_DYNAMIC_REAL,\n",
    "                FieldName.OBSERVED_VALUES,\n",
    "            ],\n",
    "        )\n",
    "        prediction_network = MyProbPredRNN(\n",
    "            prediction_length=self.prediction_length,\n",
    "            context_length=self.context_length,\n",
    "            distr_output=self.distr_output,\n",
    "            num_cells=self.num_cells,\n",
    "            num_layers=self.num_layers,\n",
    "            num_sample_paths=self.num_sample_paths,\n",
    "            scaling=self.scaling,\n",
    "        )\n",
    "\n",
    "        copy_parameters(trained_network, prediction_network)\n",
    "\n",
    "        return RepresentableBlockPredictor(\n",
    "            input_transform=transformation + prediction_splitter,\n",
    "            prediction_net=prediction_network,\n",
    "            batch_size=self.batch_size,\n",
    "            prediction_length=self.prediction_length,\n",
    "            ctx=self.trainer.ctx,\n",
    "        )"
   ]
  },
  {
   "cell_type": "code",
   "execution_count": 87,
   "id": "4ea993a2",
   "metadata": {
    "execution": {
     "iopub.execute_input": "2024-05-31T18:29:29.752452Z",
     "iopub.status.busy": "2024-05-31T18:29:29.752246Z",
     "iopub.status.idle": "2024-05-31T18:29:29.756399Z",
     "shell.execute_reply": "2024-05-31T18:29:29.755826Z"
    }
   },
   "outputs": [],
   "source": [
    "estimator = MyProbRNNEstimator(\n",
    "    prediction_length=24,\n",
    "    context_length=48,\n",
    "    num_cells=40,\n",
    "    num_layers=2,\n",
    "    distr_output=GaussianOutput(),\n",
    "    trainer=Trainer(\n",
    "        ctx=\"cpu\",\n",
    "        epochs=5,\n",
    "        learning_rate=1e-3,\n",
    "        hybridize=False,\n",
    "        num_batches_per_epoch=100,\n",
    "    ),\n",
    ")"
   ]
  },
  {
   "cell_type": "code",
   "execution_count": 88,
   "id": "c24753a5",
   "metadata": {
    "execution": {
     "iopub.execute_input": "2024-05-31T18:29:29.758686Z",
     "iopub.status.busy": "2024-05-31T18:29:29.758288Z",
     "iopub.status.idle": "2024-05-31T18:30:53.262122Z",
     "shell.execute_reply": "2024-05-31T18:30:53.261412Z"
    }
   },
   "outputs": [
    {
     "name": "stderr",
     "output_type": "stream",
     "text": [
      "\r",
      "  0%|          | 0/100 [00:00<?, ?it/s]"
     ]
    },
    {
     "name": "stderr",
     "output_type": "stream",
     "text": [
      "\r",
      " 61%|██████    | 61/100 [00:10<00:06,  6.08it/s, epoch=1/5, avg_epoch_loss=0.928]"
     ]
    },
    {
     "name": "stderr",
     "output_type": "stream",
     "text": [
      "\r",
      "100%|██████████| 100/100 [00:16<00:00,  6.03it/s, epoch=1/5, avg_epoch_loss=0.752]"
     ]
    },
    {
     "name": "stderr",
     "output_type": "stream",
     "text": [
      "\n"
     ]
    },
    {
     "name": "stderr",
     "output_type": "stream",
     "text": [
      "\r",
      "  0%|          | 0/100 [00:00<?, ?it/s]"
     ]
    },
    {
     "name": "stderr",
     "output_type": "stream",
     "text": [
      "\r",
      " 61%|██████    | 61/100 [00:10<00:06,  6.08it/s, epoch=2/5, avg_epoch_loss=0.405]"
     ]
    },
    {
     "name": "stderr",
     "output_type": "stream",
     "text": [
      "\r",
      "100%|██████████| 100/100 [00:16<00:00,  6.03it/s, epoch=2/5, avg_epoch_loss=0.394]"
     ]
    },
    {
     "name": "stderr",
     "output_type": "stream",
     "text": [
      "\n"
     ]
    },
    {
     "name": "stderr",
     "output_type": "stream",
     "text": [
      "\r",
      "  0%|          | 0/100 [00:00<?, ?it/s]"
     ]
    },
    {
     "name": "stderr",
     "output_type": "stream",
     "text": [
      "\r",
      " 60%|██████    | 60/100 [00:10<00:06,  6.00it/s, epoch=3/5, avg_epoch_loss=0.353]"
     ]
    },
    {
     "name": "stderr",
     "output_type": "stream",
     "text": [
      "\r",
      "100%|██████████| 100/100 [00:16<00:00,  5.88it/s, epoch=3/5, avg_epoch_loss=0.342]"
     ]
    },
    {
     "name": "stderr",
     "output_type": "stream",
     "text": [
      "\n"
     ]
    },
    {
     "name": "stderr",
     "output_type": "stream",
     "text": [
      "\r",
      "  0%|          | 0/100 [00:00<?, ?it/s]"
     ]
    },
    {
     "name": "stderr",
     "output_type": "stream",
     "text": [
      "\r",
      " 60%|██████    | 60/100 [00:10<00:06,  5.90it/s, epoch=4/5, avg_epoch_loss=0.304]"
     ]
    },
    {
     "name": "stderr",
     "output_type": "stream",
     "text": [
      "\r",
      "100%|██████████| 100/100 [00:16<00:00,  6.06it/s, epoch=4/5, avg_epoch_loss=0.294]"
     ]
    },
    {
     "name": "stderr",
     "output_type": "stream",
     "text": [
      "\n"
     ]
    },
    {
     "name": "stderr",
     "output_type": "stream",
     "text": [
      "\r",
      "  0%|          | 0/100 [00:00<?, ?it/s]"
     ]
    },
    {
     "name": "stderr",
     "output_type": "stream",
     "text": [
      "\r",
      " 60%|██████    | 60/100 [00:10<00:06,  5.92it/s, epoch=5/5, avg_epoch_loss=0.273]"
     ]
    },
    {
     "name": "stderr",
     "output_type": "stream",
     "text": [
      "\r",
      "100%|██████████| 100/100 [00:16<00:00,  5.96it/s, epoch=5/5, avg_epoch_loss=0.268]"
     ]
    },
    {
     "name": "stderr",
     "output_type": "stream",
     "text": [
      "\n"
     ]
    }
   ],
   "source": [
    "predictor = estimator.train(train_ds)"
   ]
  },
  {
   "cell_type": "code",
   "execution_count": 89,
   "id": "36ab7b89",
   "metadata": {
    "execution": {
     "iopub.execute_input": "2024-05-31T18:30:53.264660Z",
     "iopub.status.busy": "2024-05-31T18:30:53.264253Z",
     "iopub.status.idle": "2024-05-31T18:30:53.267930Z",
     "shell.execute_reply": "2024-05-31T18:30:53.267123Z"
    }
   },
   "outputs": [],
   "source": [
    "forecast_it, ts_it = make_evaluation_predictions(\n",
    "    dataset=test_ds,  # test dataset\n",
    "    predictor=predictor,  # predictor\n",
    "    num_samples=100,  # number of sample paths we want for evaluation\n",
    ")"
   ]
  },
  {
   "cell_type": "code",
   "execution_count": 90,
   "id": "1d95355d",
   "metadata": {
    "execution": {
     "iopub.execute_input": "2024-05-31T18:30:53.270312Z",
     "iopub.status.busy": "2024-05-31T18:30:53.269958Z",
     "iopub.status.idle": "2024-05-31T18:30:54.244070Z",
     "shell.execute_reply": "2024-05-31T18:30:54.243431Z"
    }
   },
   "outputs": [],
   "source": [
    "forecasts = list(forecast_it)\n",
    "tss = list(ts_it)"
   ]
  },
  {
   "cell_type": "code",
   "execution_count": 91,
   "id": "88159ea8",
   "metadata": {
    "execution": {
     "iopub.execute_input": "2024-05-31T18:30:54.246866Z",
     "iopub.status.busy": "2024-05-31T18:30:54.246443Z",
     "iopub.status.idle": "2024-05-31T18:30:54.462236Z",
     "shell.execute_reply": "2024-05-31T18:30:54.461440Z"
    }
   },
   "outputs": [
    {
     "data": {
      "text/plain": [
       "<matplotlib.legend.Legend at 0x7f2498159640>"
      ]
     },
     "execution_count": 91,
     "metadata": {},
     "output_type": "execute_result"
    },
    {
     "data": {
      "image/png": "[encoded data removed]",
      "text/plain": [
       "<Figure size 640x480 with 1 Axes>"
      ]
     },
     "metadata": {},
     "output_type": "display_data"
    }
   ],
   "source": [
    "plt.plot(tss[0][-150:].to_timestamp())\n",
    "forecasts[0].plot(show_label=True)\n",
    "plt.legend()"
   ]
  }
 ],
 "metadata": {
  "language_info": {
   "name": "python"
  }
 },
 "nbformat": 4,
 "nbformat_minor": 5
}
